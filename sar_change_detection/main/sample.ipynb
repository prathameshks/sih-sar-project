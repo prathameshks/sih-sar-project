{
  "cells": [
    {
      "source": [],
      "cell_type": "code",
      "metadata": {
        "colab": {
          "base_uri": "https://localhost:8080/",
          "height": 72
        },
        "outputId": "28d0c018-dd18-4d1f-c216-221fd3bc1306",
        "id": "5ftsNwXb6NCT"
      },
      "execution_count": null,
      "outputs": [
        {
          "output_type": "display_data",
          "data": {
            "text/plain": [
              "<IPython.core.display.HTML object>"
            ],
            "text/html": [
              "\n",
              "            <style>\n",
              "                .geemap-dark {\n",
              "                    --jp-widgets-color: white;\n",
              "                    --jp-widgets-label-color: white;\n",
              "                    --jp-ui-font-color1: white;\n",
              "                    --jp-layout-color2: #454545;\n",
              "                    background-color: #383838;\n",
              "                }\n",
              "\n",
              "                .geemap-dark .jupyter-button {\n",
              "                    --jp-layout-color3: #383838;\n",
              "                }\n",
              "\n",
              "                .geemap-colab {\n",
              "                    background-color: var(--colab-primary-surface-color, white);\n",
              "                }\n",
              "\n",
              "                .geemap-colab .jupyter-button {\n",
              "                    --jp-layout-color3: var(--colab-primary-surface-color, white);\n",
              "                }\n",
              "            </style>\n",
              "            "
            ]
          },
          "metadata": {}
        },
        {
          "output_type": "stream",
          "name": "stdout",
          "text": [
            "Change image: {'type': 'Image', 'bands': [{'id': 'change', 'data_type': {'type': 'PixelType', 'precision': 'double'}, 'crs': 'EPSG:32644', 'crs_transform': [10, 0, 600000, 0, -10, 2500020]}]}\n",
            "Significant changes count: 1\n"
          ]
        }
      ]
    },
    {
      "cell_type": "code",
      "execution_count": 3,
      "metadata": {
        "colab": {
          "base_uri": "https://localhost:8080/",
          "height": 17
        },
        "id": "UlIGjrOY36Eq",
        "outputId": "df0c32ba-18da-42e1-b9dd-bc3a576ba6bd"
      },
      "outputs": [
        {
          "output_type": "display_data",
          "data": {
            "text/plain": [
              "<IPython.core.display.HTML object>"
            ],
            "text/html": [
              "\n",
              "            <style>\n",
              "                .geemap-dark {\n",
              "                    --jp-widgets-color: white;\n",
              "                    --jp-widgets-label-color: white;\n",
              "                    --jp-ui-font-color1: white;\n",
              "                    --jp-layout-color2: #454545;\n",
              "                    background-color: #383838;\n",
              "                }\n",
              "\n",
              "                .geemap-dark .jupyter-button {\n",
              "                    --jp-layout-color3: #383838;\n",
              "                }\n",
              "\n",
              "                .geemap-colab {\n",
              "                    background-color: var(--colab-primary-surface-color, white);\n",
              "                }\n",
              "\n",
              "                .geemap-colab .jupyter-button {\n",
              "                    --jp-layout-color3: var(--colab-primary-surface-color, white);\n",
              "                }\n",
              "            </style>\n",
              "            "
            ]
          },
          "metadata": {}
        }
      ],
      "source": [
        "import ee\n",
        "\n",
        "import geemap\n",
        "# from sar_change_detection.settings import env, BASE_DIR\n",
        "import os\n",
        "import json\n",
        "from PIL import Image\n",
        "import json\n",
        "\n",
        "# Initialize Earth Engine\n",
        "service_account = \"django@sih-sar-prathameshks2003.iam.gserviceaccount.com\"\n",
        "credentials = ee.ServiceAccountCredentials(service_account, \"service-account-key.json\")\n",
        "ee.Initialize(credentials)\n",
        "\n"
      ]
    },
    {
      "cell_type": "code",
      "source": [
        "def get_closest_images(s2_collection, start_date, end_date):\n",
        "    \"\"\"\n",
        "    Gets the closest non-None Sentinel-2 images BEFORE the specified start and end dates.\n",
        "\n",
        "    Args:\n",
        "        s2_collection: An ee.ImageCollection of Sentinel-2 images.\n",
        "        start_date: The start date of the image search.\n",
        "        end_date: The end date of the image search.\n",
        "\n",
        "    Returns:\n",
        "        A list containing the closest non-None Sentinel-2 images BEFORE the start and end dates.\n",
        "    \"\"\"\n",
        "\n",
        "    start_images = s2_collection.filterDate('1900-01-01', start_date).sort('system:time_start', False)\n",
        "    end_images = s2_collection.filterDate('1900-01-01', end_date).sort('system:time_start', False)\n",
        "\n",
        "    closest_start_image = None\n",
        "    closest_end_image = None\n",
        "\n",
        "    # Iterate to find the first non-None image for the start date\n",
        "    start_list = start_images.toList(start_images.size()) # convert the collection to a list\n",
        "    for i in range(start_images.size().getInfo()):\n",
        "        img = ee.Image(start_list.get(i)) # get the image from the list using index i\n",
        "        if img.getInfo() is not None:\n",
        "            closest_start_image = img\n",
        "            break\n",
        "\n",
        "    # Iterate to find the first non-None image for the end date\n",
        "    end_list = end_images.toList(end_images.size())\n",
        "    for i in range(end_images.size().getInfo()):\n",
        "        img = ee.Image(end_list.get(i))\n",
        "        if img.getInfo() is not None:\n",
        "            closest_end_image = img\n",
        "            break\n",
        "\n",
        "    return [closest_start_image, closest_end_image]"
      ],
      "metadata": {
        "colab": {
          "base_uri": "https://localhost:8080/",
          "height": 17
        },
        "id": "RL8nDobH9nf4",
        "outputId": "859f6225-2415-41d2-bd63-109a58369bdc"
      },
      "execution_count": 4,
      "outputs": [
        {
          "output_type": "display_data",
          "data": {
            "text/plain": [
              "<IPython.core.display.HTML object>"
            ],
            "text/html": [
              "\n",
              "            <style>\n",
              "                .geemap-dark {\n",
              "                    --jp-widgets-color: white;\n",
              "                    --jp-widgets-label-color: white;\n",
              "                    --jp-ui-font-color1: white;\n",
              "                    --jp-layout-color2: #454545;\n",
              "                    background-color: #383838;\n",
              "                }\n",
              "\n",
              "                .geemap-dark .jupyter-button {\n",
              "                    --jp-layout-color3: #383838;\n",
              "                }\n",
              "\n",
              "                .geemap-colab {\n",
              "                    background-color: var(--colab-primary-surface-color, white);\n",
              "                }\n",
              "\n",
              "                .geemap-colab .jupyter-button {\n",
              "                    --jp-layout-color3: var(--colab-primary-surface-color, white);\n",
              "                }\n",
              "            </style>\n",
              "            "
            ]
          },
          "metadata": {}
        }
      ]
    },
    {
      "cell_type": "code",
      "execution_count": 52,
      "metadata": {
        "id": "VpY269Dq36E2",
        "colab": {
          "base_uri": "https://localhost:8080/",
          "height": 1000
        },
        "outputId": "3a5c1cf9-e734-48f9-c4b6-f51fb5388ad7"
      },
      "outputs": [
        {
          "output_type": "display_data",
          "data": {
            "text/plain": [
              "<IPython.core.display.HTML object>"
            ],
            "text/html": [
              "\n",
              "            <style>\n",
              "                .geemap-dark {\n",
              "                    --jp-widgets-color: white;\n",
              "                    --jp-widgets-label-color: white;\n",
              "                    --jp-ui-font-color1: white;\n",
              "                    --jp-layout-color2: #454545;\n",
              "                    background-color: #383838;\n",
              "                }\n",
              "\n",
              "                .geemap-dark .jupyter-button {\n",
              "                    --jp-layout-color3: #383838;\n",
              "                }\n",
              "\n",
              "                .geemap-colab {\n",
              "                    background-color: var(--colab-primary-surface-color, white);\n",
              "                }\n",
              "\n",
              "                .geemap-colab .jupyter-button {\n",
              "                    --jp-layout-color3: var(--colab-primary-surface-color, white);\n",
              "                }\n",
              "            </style>\n",
              "            "
            ]
          },
          "metadata": {}
        },
        {
          "output_type": "stream",
          "name": "stdout",
          "text": [
            "ee.List({\n",
            "  \"functionInvocationValue\": {\n",
            "    \"functionName\": \"Collection.iterate\",\n",
            "    \"arguments\": {\n",
            "      \"collection\": {\n",
            "        \"functionInvocationValue\": {\n",
            "          \"functionName\": \"Collection.limit\",\n",
            "          \"arguments\": {\n",
            "            \"collection\": {\n",
            "              \"functionInvocationValue\": {\n",
            "                \"functionName\": \"Collection.filter\",\n",
            "                \"arguments\": {\n",
            "                  \"collection\": {\n",
            "                    \"functionInvocationValue\": {\n",
            "                      \"functionName\": \"Collection.filter\",\n",
            "                      \"arguments\": {\n",
            "                        \"collection\": {\n",
            "                          \"functionInvocationValue\": {\n",
            "                            \"functionName\": \"Collection.filter\",\n",
            "                            \"arguments\": {\n",
            "                              \"collection\": {\n",
            "                                \"functionInvocationValue\": {\n",
            "                                  \"functionName\": \"ImageCollection.load\",\n",
            "                                  \"arguments\": {\n",
            "                                    \"id\": {\n",
            "                                      \"constantValue\": \"COPERNICUS/S2_SR_HARMONIZED\"\n",
            "                                    }\n",
            "                                  }\n",
            "                                }\n",
            "                              },\n",
            "                              \"filter\": {\n",
            "                                \"functionInvocationValue\": {\n",
            "                                  \"functionName\": \"Filter.intersects\",\n",
            "                                  \"arguments\": {\n",
            "                                    \"leftField\": {\n",
            "                                      \"constantValue\": \".all\"\n",
            "                                    },\n",
            "                                    \"rightValue\": {\n",
            "                                      \"functionInvocationValue\": {\n",
            "                                        \"functionName\": \"Feature\",\n",
            "                                        \"arguments\": {\n",
            "                                          \"geometry\": {\n",
            "                                            \"functionInvocationValue\": {\n",
            "                                              \"functionName\": \"Collection.geometry\",\n",
            "                                              \"arguments\": {\n",
            "                                                \"collection\": {\n",
            "                                                  \"functionInvocationValue\": {\n",
            "                                                    \"functionName\": \"Collection\",\n",
            "                                                    \"arguments\": {\n",
            "                                                      \"features\": {\n",
            "                                                        \"arrayValue\": {\n",
            "                                                          \"values\": [\n",
            "                                                            {\n",
            "                                                              \"functionInvocationValue\": {\n",
            "                                                                \"functionName\": \"Feature\",\n",
            "                                                                \"arguments\": {\n",
            "                                                                  \"geometry\": {\n",
            "                                                                    \"functionInvocationValue\": {\n",
            "                                                                      \"functionName\": \"GeometryConstructors.Polygon\",\n",
            "                                                                      \"arguments\": {\n",
            "                                                                        \"coordinates\": {\n",
            "                                                                          \"constantValue\": [\n",
            "                                                                            [\n",
            "                                                                              [\n",
            "                                                                                82.134443,\n",
            "                                                                                22.188232\n",
            "                                                                              ],\n",
            "                                                                              [\n",
            "                                                                                82.134443,\n",
            "                                                                                22.224849\n",
            "                                                                              ],\n",
            "                                                                              [\n",
            "                                                                                82.222284,\n",
            "                                                                                22.224849\n",
            "                                                                              ],\n",
            "                                                                              [\n",
            "                                                                                82.222284,\n",
            "                                                                                22.188232\n",
            "                                                                              ],\n",
            "                                                                              [\n",
            "                                                                                82.134443,\n",
            "                                                                                22.188232\n",
            "                                                                              ]\n",
            "                                                                            ]\n",
            "                                                                          ]\n",
            "                                                                        },\n",
            "                                                                        \"geodesic\": {\n",
            "                                                                          \"constantValue\": false\n",
            "                                                                        }\n",
            "                                                                      }\n",
            "                                                                    }\n",
            "                                                                  },\n",
            "                                                                  \"metadata\": {\n",
            "                                                                    \"constantValue\": {}\n",
            "                                                                  }\n",
            "                                                                }\n",
            "                                                              }\n",
            "                                                            }\n",
            "                                                          ]\n",
            "                                                        }\n",
            "                                                      }\n",
            "                                                    }\n",
            "                                                  }\n",
            "                                                }\n",
            "                                              }\n",
            "                                            }\n",
            "                                          }\n",
            "                                        }\n",
            "                                      }\n",
            "                                    }\n",
            "                                  }\n",
            "                                }\n",
            "                              }\n",
            "                            }\n",
            "                          }\n",
            "                        },\n",
            "                        \"filter\": {\n",
            "                          \"functionInvocationValue\": {\n",
            "                            \"functionName\": \"Filter.dateRangeContains\",\n",
            "                            \"arguments\": {\n",
            "                              \"leftValue\": {\n",
            "                                \"functionInvocationValue\": {\n",
            "                                  \"functionName\": \"DateRange\",\n",
            "                                  \"arguments\": {\n",
            "                                    \"end\": {\n",
            "                                      \"constantValue\": \"2024-09-28\"\n",
            "                                    },\n",
            "                                    \"start\": {\n",
            "                                      \"constantValue\": \"2024-07-01\"\n",
            "                                    }\n",
            "                                  }\n",
            "                                }\n",
            "                              },\n",
            "                              \"rightField\": {\n",
            "                                \"constantValue\": \"system:time_start\"\n",
            "                              }\n",
            "                            }\n",
            "                          }\n",
            "                        }\n",
            "                      }\n",
            "                    }\n",
            "                  },\n",
            "                  \"filter\": {\n",
            "                    \"functionInvocationValue\": {\n",
            "                      \"functionName\": \"Filter.lessThan\",\n",
            "                      \"arguments\": {\n",
            "                        \"leftField\": {\n",
            "                          \"constantValue\": \"CLOUDY_PIXEL_PERCENTAGE\"\n",
            "                        },\n",
            "                        \"rightValue\": {\n",
            "                          \"constantValue\": 20\n",
            "                        }\n",
            "                      }\n",
            "                    }\n",
            "                  }\n",
            "                }\n",
            "              }\n",
            "            },\n",
            "            \"key\": {\n",
            "              \"constantValue\": \"system:time_start\"\n",
            "            }\n",
            "          }\n",
            "        }\n",
            "      },\n",
            "      \"first\": {\n",
            "        \"functionInvocationValue\": {\n",
            "          \"functionName\": \"Collection.first\",\n",
            "          \"arguments\": {\n",
            "            \"collection\": {\n",
            "              \"functionInvocationValue\": {\n",
            "                \"functionName\": \"Collection.limit\",\n",
            "                \"arguments\": {\n",
            "                  \"collection\": {\n",
            "                    \"functionInvocationValue\": {\n",
            "                      \"functionName\": \"Collection.filter\",\n",
            "                      \"arguments\": {\n",
            "                        \"collection\": {\n",
            "                          \"functionInvocationValue\": {\n",
            "                            \"functionName\": \"Collection.filter\",\n",
            "                            \"arguments\": {\n",
            "                              \"collection\": {\n",
            "                                \"functionInvocationValue\": {\n",
            "                                  \"functionName\": \"Collection.filter\",\n",
            "                                  \"arguments\": {\n",
            "                                    \"collection\": {\n",
            "                                      \"functionInvocationValue\": {\n",
            "                                        \"functionName\": \"ImageCollection.load\",\n",
            "                                        \"arguments\": {\n",
            "                                          \"id\": {\n",
            "                                            \"constantValue\": \"COPERNICUS/S2_SR_HARMONIZED\"\n",
            "                                          }\n",
            "                                        }\n",
            "                                      }\n",
            "                                    },\n",
            "                                    \"filter\": {\n",
            "                                      \"functionInvocationValue\": {\n",
            "                                        \"functionName\": \"Filter.intersects\",\n",
            "                                        \"arguments\": {\n",
            "                                          \"leftField\": {\n",
            "                                            \"constantValue\": \".all\"\n",
            "                                          },\n",
            "                                          \"rightValue\": {\n",
            "                                            \"functionInvocationValue\": {\n",
            "                                              \"functionName\": \"Feature\",\n",
            "                                              \"arguments\": {\n",
            "                                                \"geometry\": {\n",
            "                                                  \"functionInvocationValue\": {\n",
            "                                                    \"functionName\": \"Collection.geometry\",\n",
            "                                                    \"arguments\": {\n",
            "                                                      \"collection\": {\n",
            "                                                        \"functionInvocationValue\": {\n",
            "                                                          \"functionName\": \"Collection\",\n",
            "                                                          \"arguments\": {\n",
            "                                                            \"features\": {\n",
            "                                                              \"arrayValue\": {\n",
            "                                                                \"values\": [\n",
            "                                                                  {\n",
            "                                                                    \"functionInvocationValue\": {\n",
            "                                                                      \"functionName\": \"Feature\",\n",
            "                                                                      \"arguments\": {\n",
            "                                                                        \"geometry\": {\n",
            "                                                                          \"functionInvocationValue\": {\n",
            "                                                                            \"functionName\": \"GeometryConstructors.Polygon\",\n",
            "                                                                            \"arguments\": {\n",
            "                                                                              \"coordinates\": {\n",
            "                                                                                \"constantValue\": [\n",
            "                                                                                  [\n",
            "                                                                                    [\n",
            "                                                                                      82.134443,\n",
            "                                                                                      22.188232\n",
            "                                                                                    ],\n",
            "                                                                                    [\n",
            "                                                                                      82.134443,\n",
            "                                                                                      22.224849\n",
            "                                                                                    ],\n",
            "                                                                                    [\n",
            "                                                                                      82.222284,\n",
            "                                                                                      22.224849\n",
            "                                                                                    ],\n",
            "                                                                                    [\n",
            "                                                                                      82.222284,\n",
            "                                                                                      22.188232\n",
            "                                                                                    ],\n",
            "                                                                                    [\n",
            "                                                                                      82.134443,\n",
            "                                                                                      22.188232\n",
            "                                                                                    ]\n",
            "                                                                                  ]\n",
            "                                                                                ]\n",
            "                                                                              },\n",
            "                                                                              \"geodesic\": {\n",
            "                                                                                \"constantValue\": false\n",
            "                                                                              }\n",
            "                                                                            }\n",
            "                                                                          }\n",
            "                                                                        },\n",
            "                                                                        \"metadata\": {\n",
            "                                                                          \"constantValue\": {}\n",
            "                                                                        }\n",
            "                                                                      }\n",
            "                                                                    }\n",
            "                                                                  }\n",
            "                                                                ]\n",
            "                                                              }\n",
            "                                                            }\n",
            "                                                          }\n",
            "                                                        }\n",
            "                                                      }\n",
            "                                                    }\n",
            "                                                  }\n",
            "                                                }\n",
            "                                              }\n",
            "                                            }\n",
            "                                          }\n",
            "                                        }\n",
            "                                      }\n",
            "                                    }\n",
            "                                  }\n",
            "                                }\n",
            "                              },\n",
            "                              \"filter\": {\n",
            "                                \"functionInvocationValue\": {\n",
            "                                  \"functionName\": \"Filter.dateRangeContains\",\n",
            "                                  \"arguments\": {\n",
            "                                    \"leftValue\": {\n",
            "                                      \"functionInvocationValue\": {\n",
            "                                        \"functionName\": \"DateRange\",\n",
            "                                        \"arguments\": {\n",
            "                                          \"end\": {\n",
            "                                            \"constantValue\": \"2024-09-28\"\n",
            "                                          },\n",
            "                                          \"start\": {\n",
            "                                            \"constantValue\": \"2024-07-01\"\n",
            "                                          }\n",
            "                                        }\n",
            "                                      }\n",
            "                                    },\n",
            "                                    \"rightField\": {\n",
            "                                      \"constantValue\": \"system:time_start\"\n",
            "                                    }\n",
            "                                  }\n",
            "                                }\n",
            "                              }\n",
            "                            }\n",
            "                          }\n",
            "                        },\n",
            "                        \"filter\": {\n",
            "                          \"functionInvocationValue\": {\n",
            "                            \"functionName\": \"Filter.lessThan\",\n",
            "                            \"arguments\": {\n",
            "                              \"leftField\": {\n",
            "                                \"constantValue\": \"CLOUDY_PIXEL_PERCENTAGE\"\n",
            "                              },\n",
            "                              \"rightValue\": {\n",
            "                                \"constantValue\": 20\n",
            "                              }\n",
            "                            }\n",
            "                          }\n",
            "                        }\n",
            "                      }\n",
            "                    }\n",
            "                  },\n",
            "                  \"key\": {\n",
            "                    \"constantValue\": \"system:time_start\"\n",
            "                  }\n",
            "                }\n",
            "              }\n",
            "            }\n",
            "          }\n",
            "        }\n",
            "      },\n",
            "      \"function\": {\n",
            "        \"functionDefinitionValue\": {\n",
            "          \"argumentNames\": [\n",
            "            \"_MAPPING_VAR_0_0\",\n",
            "            \"_MAPPING_VAR_0_1\"\n",
            "          ],\n",
            "          \"body\": {\n",
            "            \"functionInvocationValue\": {\n",
            "              \"functionName\": \"Image.addBands\",\n",
            "              \"arguments\": {\n",
            "                \"dstImg\": {\n",
            "                  \"argumentReference\": \"_MAPPING_VAR_0_1\"\n",
            "                },\n",
            "                \"srcImg\": {\n",
            "                  \"functionInvocationValue\": {\n",
            "                    \"functionName\": \"Image.rename\",\n",
            "                    \"arguments\": {\n",
            "                      \"input\": {\n",
            "                        \"functionInvocationValue\": {\n",
            "                          \"functionName\": \"Image.reduce\",\n",
            "                          \"arguments\": {\n",
            "                            \"image\": {\n",
            "                              \"functionInvocationValue\": {\n",
            "                                \"functionName\": \"Image.abs\",\n",
            "                                \"arguments\": {\n",
            "                                  \"value\": {\n",
            "                                    \"functionInvocationValue\": {\n",
            "                                      \"functionName\": \"Image.subtract\",\n",
            "                                      \"arguments\": {\n",
            "                                        \"image1\": {\n",
            "                                          \"functionInvocationValue\": {\n",
            "                                            \"functionName\": \"Image.select\",\n",
            "                                            \"arguments\": {\n",
            "                                              \"bandSelectors\": {\n",
            "                                                \"constantValue\": [\n",
            "                                                  \"B4\",\n",
            "                                                  \"B3\",\n",
            "                                                  \"B2\"\n",
            "                                                ]\n",
            "                                              },\n",
            "                                              \"input\": {\n",
            "                                                \"argumentReference\": \"_MAPPING_VAR_0_0\"\n",
            "                                              }\n",
            "                                            }\n",
            "                                          }\n",
            "                                        },\n",
            "                                        \"image2\": {\n",
            "                                          \"functionInvocationValue\": {\n",
            "                                            \"functionName\": \"Image.select\",\n",
            "                                            \"arguments\": {\n",
            "                                              \"bandSelectors\": {\n",
            "                                                \"constantValue\": [\n",
            "                                                  \"B4\",\n",
            "                                                  \"B3\",\n",
            "                                                  \"B2\"\n",
            "                                                ]\n",
            "                                              },\n",
            "                                              \"input\": {\n",
            "                                                \"argumentReference\": \"_MAPPING_VAR_0_1\"\n",
            "                                              }\n",
            "                                            }\n",
            "                                          }\n",
            "                                        }\n",
            "                                      }\n",
            "                                    }\n",
            "                                  }\n",
            "                                }\n",
            "                              }\n",
            "                            },\n",
            "                            \"reducer\": {\n",
            "                              \"functionInvocationValue\": {\n",
            "                                \"functionName\": \"Reducer.sum\",\n",
            "                                \"arguments\": {}\n",
            "                              }\n",
            "                            }\n",
            "                          }\n",
            "                        }\n",
            "                      },\n",
            "                      \"names\": {\n",
            "                        \"constantValue\": [\n",
            "                          \"change\"\n",
            "                        ]\n",
            "                      }\n",
            "                    }\n",
            "                  }\n",
            "                }\n",
            "              }\n",
            "            }\n",
            "          }\n",
            "        }\n",
            "      }\n",
            "    }\n",
            "  }\n",
            "})\n"
          ]
        },
        {
          "output_type": "error",
          "ename": "EEException",
          "evalue": "ImageCollection.fromImages: Parameter 'images' is required.",
          "traceback": [
            "\u001b[0;31m---------------------------------------------------------------------------\u001b[0m",
            "\u001b[0;31mHttpError\u001b[0m                                 Traceback (most recent call last)",
            "\u001b[0;32m/usr/local/lib/python3.10/dist-packages/ee/data.py\u001b[0m in \u001b[0;36m_execute_cloud_call\u001b[0;34m(call, num_retries)\u001b[0m\n\u001b[1;32m    405\u001b[0m   \u001b[0;32mtry\u001b[0m\u001b[0;34m:\u001b[0m\u001b[0;34m\u001b[0m\u001b[0;34m\u001b[0m\u001b[0m\n\u001b[0;32m--> 406\u001b[0;31m     \u001b[0;32mreturn\u001b[0m \u001b[0mcall\u001b[0m\u001b[0;34m.\u001b[0m\u001b[0mexecute\u001b[0m\u001b[0;34m(\u001b[0m\u001b[0mnum_retries\u001b[0m\u001b[0;34m=\u001b[0m\u001b[0mnum_retries\u001b[0m\u001b[0;34m)\u001b[0m\u001b[0;34m\u001b[0m\u001b[0;34m\u001b[0m\u001b[0m\n\u001b[0m\u001b[1;32m    407\u001b[0m   \u001b[0;32mexcept\u001b[0m \u001b[0mgoogleapiclient\u001b[0m\u001b[0;34m.\u001b[0m\u001b[0merrors\u001b[0m\u001b[0;34m.\u001b[0m\u001b[0mHttpError\u001b[0m \u001b[0;32mas\u001b[0m \u001b[0me\u001b[0m\u001b[0;34m:\u001b[0m\u001b[0;34m\u001b[0m\u001b[0;34m\u001b[0m\u001b[0m\n",
            "\u001b[0;32m/usr/local/lib/python3.10/dist-packages/googleapiclient/_helpers.py\u001b[0m in \u001b[0;36mpositional_wrapper\u001b[0;34m(*args, **kwargs)\u001b[0m\n\u001b[1;32m    129\u001b[0m                     \u001b[0mlogger\u001b[0m\u001b[0;34m.\u001b[0m\u001b[0mwarning\u001b[0m\u001b[0;34m(\u001b[0m\u001b[0mmessage\u001b[0m\u001b[0;34m)\u001b[0m\u001b[0;34m\u001b[0m\u001b[0;34m\u001b[0m\u001b[0m\n\u001b[0;32m--> 130\u001b[0;31m             \u001b[0;32mreturn\u001b[0m \u001b[0mwrapped\u001b[0m\u001b[0;34m(\u001b[0m\u001b[0;34m*\u001b[0m\u001b[0margs\u001b[0m\u001b[0;34m,\u001b[0m \u001b[0;34m**\u001b[0m\u001b[0mkwargs\u001b[0m\u001b[0;34m)\u001b[0m\u001b[0;34m\u001b[0m\u001b[0;34m\u001b[0m\u001b[0m\n\u001b[0m\u001b[1;32m    131\u001b[0m \u001b[0;34m\u001b[0m\u001b[0m\n",
            "\u001b[0;32m/usr/local/lib/python3.10/dist-packages/googleapiclient/http.py\u001b[0m in \u001b[0;36mexecute\u001b[0;34m(self, http, num_retries)\u001b[0m\n\u001b[1;32m    937\u001b[0m         \u001b[0;32mif\u001b[0m \u001b[0mresp\u001b[0m\u001b[0;34m.\u001b[0m\u001b[0mstatus\u001b[0m \u001b[0;34m>=\u001b[0m \u001b[0;36m300\u001b[0m\u001b[0;34m:\u001b[0m\u001b[0;34m\u001b[0m\u001b[0;34m\u001b[0m\u001b[0m\n\u001b[0;32m--> 938\u001b[0;31m             \u001b[0;32mraise\u001b[0m \u001b[0mHttpError\u001b[0m\u001b[0;34m(\u001b[0m\u001b[0mresp\u001b[0m\u001b[0;34m,\u001b[0m \u001b[0mcontent\u001b[0m\u001b[0;34m,\u001b[0m \u001b[0muri\u001b[0m\u001b[0;34m=\u001b[0m\u001b[0mself\u001b[0m\u001b[0;34m.\u001b[0m\u001b[0muri\u001b[0m\u001b[0;34m)\u001b[0m\u001b[0;34m\u001b[0m\u001b[0;34m\u001b[0m\u001b[0m\n\u001b[0m\u001b[1;32m    939\u001b[0m         \u001b[0;32mreturn\u001b[0m \u001b[0mself\u001b[0m\u001b[0;34m.\u001b[0m\u001b[0mpostproc\u001b[0m\u001b[0;34m(\u001b[0m\u001b[0mresp\u001b[0m\u001b[0;34m,\u001b[0m \u001b[0mcontent\u001b[0m\u001b[0;34m)\u001b[0m\u001b[0;34m\u001b[0m\u001b[0;34m\u001b[0m\u001b[0m\n",
            "\u001b[0;31mHttpError\u001b[0m: <HttpError 400 when requesting https://earthengine.googleapis.com/v1/projects/earthengine-legacy/value:compute?prettyPrint=false&alt=json returned \"ImageCollection.fromImages: Parameter 'images' is required.\". Details: \"ImageCollection.fromImages: Parameter 'images' is required.\">",
            "\nDuring handling of the above exception, another exception occurred:\n",
            "\u001b[0;31mEEException\u001b[0m                               Traceback (most recent call last)",
            "\u001b[0;32m<ipython-input-52-b7355c741190>\u001b[0m in \u001b[0;36m<cell line: 100>\u001b[0;34m()\u001b[0m\n\u001b[1;32m     98\u001b[0m             \u001b[0;32mreturn\u001b[0m \u001b[0mresponse\u001b[0m\u001b[0;34m\u001b[0m\u001b[0;34m\u001b[0m\u001b[0m\n\u001b[1;32m     99\u001b[0m \u001b[0;34m\u001b[0m\u001b[0m\n\u001b[0;32m--> 100\u001b[0;31m \u001b[0mprint\u001b[0m\u001b[0;34m(\u001b[0m\u001b[0mdetect_changes\u001b[0m\u001b[0;34m(\u001b[0m\u001b[0;34m)\u001b[0m\u001b[0;34m)\u001b[0m\u001b[0;34m\u001b[0m\u001b[0;34m\u001b[0m\u001b[0m\n\u001b[0m",
            "\u001b[0;32m<ipython-input-52-b7355c741190>\u001b[0m in \u001b[0;36mdetect_changes\u001b[0;34m()\u001b[0m\n\u001b[1;32m     42\u001b[0m             \u001b[0mchange_image\u001b[0m \u001b[0;34m=\u001b[0m \u001b[0mchanges\u001b[0m\u001b[0;34m.\u001b[0m\u001b[0mselect\u001b[0m\u001b[0;34m(\u001b[0m\u001b[0;34m'change'\u001b[0m\u001b[0;34m)\u001b[0m\u001b[0;34m.\u001b[0m\u001b[0mmax\u001b[0m\u001b[0;34m(\u001b[0m\u001b[0;34m)\u001b[0m\u001b[0;34m\u001b[0m\u001b[0;34m\u001b[0m\u001b[0m\n\u001b[1;32m     43\u001b[0m \u001b[0;34m\u001b[0m\u001b[0m\n\u001b[0;32m---> 44\u001b[0;31m             \u001b[0mprint\u001b[0m\u001b[0;34m(\u001b[0m\u001b[0;34m'Change image:'\u001b[0m\u001b[0;34m,\u001b[0m \u001b[0mchange_image\u001b[0m\u001b[0;34m.\u001b[0m\u001b[0mgetInfo\u001b[0m\u001b[0;34m(\u001b[0m\u001b[0;34m)\u001b[0m\u001b[0;34m)\u001b[0m\u001b[0;34m\u001b[0m\u001b[0;34m\u001b[0m\u001b[0m\n\u001b[0m\u001b[1;32m     45\u001b[0m \u001b[0;34m\u001b[0m\u001b[0m\n\u001b[1;32m     46\u001b[0m             \u001b[0;31m# Apply threshold to identify significant changes\u001b[0m\u001b[0;34m\u001b[0m\u001b[0;34m\u001b[0m\u001b[0m\n",
            "\u001b[0;32m/usr/local/lib/python3.10/dist-packages/ee/image.py\u001b[0m in \u001b[0;36mgetInfo\u001b[0;34m(self)\u001b[0m\n\u001b[1;32m    141\u001b[0m           \u001b[0mproperties\u001b[0m \u001b[0;34m-\u001b[0m \u001b[0mDictionary\u001b[0m \u001b[0mcontaining\u001b[0m \u001b[0mthe\u001b[0m \u001b[0mimage\u001b[0m\u001b[0;31m'\u001b[0m\u001b[0ms\u001b[0m \u001b[0mmetadata\u001b[0m \u001b[0mproperties\u001b[0m\u001b[0;34m.\u001b[0m\u001b[0;34m\u001b[0m\u001b[0;34m\u001b[0m\u001b[0m\n\u001b[1;32m    142\u001b[0m     \"\"\"\n\u001b[0;32m--> 143\u001b[0;31m     \u001b[0;32mreturn\u001b[0m \u001b[0msuper\u001b[0m\u001b[0;34m(\u001b[0m\u001b[0;34m)\u001b[0m\u001b[0;34m.\u001b[0m\u001b[0mgetInfo\u001b[0m\u001b[0;34m(\u001b[0m\u001b[0;34m)\u001b[0m\u001b[0;34m\u001b[0m\u001b[0;34m\u001b[0m\u001b[0m\n\u001b[0m\u001b[1;32m    144\u001b[0m \u001b[0;34m\u001b[0m\u001b[0m\n\u001b[1;32m    145\u001b[0m   \u001b[0;32mdef\u001b[0m \u001b[0mgetMapId\u001b[0m\u001b[0;34m(\u001b[0m\u001b[0mself\u001b[0m\u001b[0;34m,\u001b[0m \u001b[0mvis_params\u001b[0m\u001b[0;34m:\u001b[0m \u001b[0mOptional\u001b[0m\u001b[0;34m[\u001b[0m\u001b[0mAny\u001b[0m\u001b[0;34m]\u001b[0m \u001b[0;34m=\u001b[0m \u001b[0;32mNone\u001b[0m\u001b[0;34m)\u001b[0m \u001b[0;34m->\u001b[0m \u001b[0mDict\u001b[0m\u001b[0;34m[\u001b[0m\u001b[0mstr\u001b[0m\u001b[0;34m,\u001b[0m \u001b[0mAny\u001b[0m\u001b[0;34m]\u001b[0m\u001b[0;34m:\u001b[0m\u001b[0;34m\u001b[0m\u001b[0;34m\u001b[0m\u001b[0m\n",
            "\u001b[0;32m/usr/local/lib/python3.10/dist-packages/ee/computedobject.py\u001b[0m in \u001b[0;36mgetInfo\u001b[0;34m(self)\u001b[0m\n\u001b[1;32m    105\u001b[0m       \u001b[0mThe\u001b[0m \u001b[0mobject\u001b[0m \u001b[0mcan\u001b[0m \u001b[0mevaluate\u001b[0m \u001b[0mto\u001b[0m \u001b[0manything\u001b[0m\u001b[0;34m.\u001b[0m\u001b[0;34m\u001b[0m\u001b[0;34m\u001b[0m\u001b[0m\n\u001b[1;32m    106\u001b[0m     \"\"\"\n\u001b[0;32m--> 107\u001b[0;31m     \u001b[0;32mreturn\u001b[0m \u001b[0mdata\u001b[0m\u001b[0;34m.\u001b[0m\u001b[0mcomputeValue\u001b[0m\u001b[0;34m(\u001b[0m\u001b[0mself\u001b[0m\u001b[0;34m)\u001b[0m\u001b[0;34m\u001b[0m\u001b[0;34m\u001b[0m\u001b[0m\n\u001b[0m\u001b[1;32m    108\u001b[0m \u001b[0;34m\u001b[0m\u001b[0m\n\u001b[1;32m    109\u001b[0m   \u001b[0;32mdef\u001b[0m \u001b[0mencode\u001b[0m\u001b[0;34m(\u001b[0m\u001b[0mself\u001b[0m\u001b[0;34m,\u001b[0m \u001b[0mencoder\u001b[0m\u001b[0;34m:\u001b[0m \u001b[0mOptional\u001b[0m\u001b[0;34m[\u001b[0m\u001b[0mCallable\u001b[0m\u001b[0;34m[\u001b[0m\u001b[0;34m...\u001b[0m\u001b[0;34m,\u001b[0m \u001b[0mAny\u001b[0m\u001b[0;34m]\u001b[0m\u001b[0;34m]\u001b[0m\u001b[0;34m)\u001b[0m \u001b[0;34m->\u001b[0m \u001b[0mDict\u001b[0m\u001b[0;34m[\u001b[0m\u001b[0mstr\u001b[0m\u001b[0;34m,\u001b[0m \u001b[0mAny\u001b[0m\u001b[0;34m]\u001b[0m\u001b[0;34m:\u001b[0m\u001b[0;34m\u001b[0m\u001b[0;34m\u001b[0m\u001b[0m\n",
            "\u001b[0;32m/usr/local/lib/python3.10/dist-packages/ee/data.py\u001b[0m in \u001b[0;36mcomputeValue\u001b[0;34m(obj)\u001b[0m\n\u001b[1;32m   1124\u001b[0m   \u001b[0m_maybe_populate_workload_tag\u001b[0m\u001b[0;34m(\u001b[0m\u001b[0mbody\u001b[0m\u001b[0;34m)\u001b[0m\u001b[0;34m\u001b[0m\u001b[0;34m\u001b[0m\u001b[0m\n\u001b[1;32m   1125\u001b[0m \u001b[0;34m\u001b[0m\u001b[0m\n\u001b[0;32m-> 1126\u001b[0;31m   return _execute_cloud_call(\n\u001b[0m\u001b[1;32m   1127\u001b[0m       \u001b[0m_get_cloud_projects\u001b[0m\u001b[0;34m(\u001b[0m\u001b[0;34m)\u001b[0m\u001b[0;34m\u001b[0m\u001b[0;34m\u001b[0m\u001b[0m\n\u001b[1;32m   1128\u001b[0m       \u001b[0;34m.\u001b[0m\u001b[0mvalue\u001b[0m\u001b[0;34m(\u001b[0m\u001b[0;34m)\u001b[0m\u001b[0;34m\u001b[0m\u001b[0;34m\u001b[0m\u001b[0m\n",
            "\u001b[0;32m/usr/local/lib/python3.10/dist-packages/ee/data.py\u001b[0m in \u001b[0;36m_execute_cloud_call\u001b[0;34m(call, num_retries)\u001b[0m\n\u001b[1;32m    406\u001b[0m     \u001b[0;32mreturn\u001b[0m \u001b[0mcall\u001b[0m\u001b[0;34m.\u001b[0m\u001b[0mexecute\u001b[0m\u001b[0;34m(\u001b[0m\u001b[0mnum_retries\u001b[0m\u001b[0;34m=\u001b[0m\u001b[0mnum_retries\u001b[0m\u001b[0;34m)\u001b[0m\u001b[0;34m\u001b[0m\u001b[0;34m\u001b[0m\u001b[0m\n\u001b[1;32m    407\u001b[0m   \u001b[0;32mexcept\u001b[0m \u001b[0mgoogleapiclient\u001b[0m\u001b[0;34m.\u001b[0m\u001b[0merrors\u001b[0m\u001b[0;34m.\u001b[0m\u001b[0mHttpError\u001b[0m \u001b[0;32mas\u001b[0m \u001b[0me\u001b[0m\u001b[0;34m:\u001b[0m\u001b[0;34m\u001b[0m\u001b[0;34m\u001b[0m\u001b[0m\n\u001b[0;32m--> 408\u001b[0;31m     \u001b[0;32mraise\u001b[0m \u001b[0m_translate_cloud_exception\u001b[0m\u001b[0;34m(\u001b[0m\u001b[0me\u001b[0m\u001b[0;34m)\u001b[0m  \u001b[0;31m# pylint: disable=raise-missing-from\u001b[0m\u001b[0;34m\u001b[0m\u001b[0;34m\u001b[0m\u001b[0m\n\u001b[0m\u001b[1;32m    409\u001b[0m \u001b[0;34m\u001b[0m\u001b[0m\n\u001b[1;32m    410\u001b[0m \u001b[0;34m\u001b[0m\u001b[0m\n",
            "\u001b[0;31mEEException\u001b[0m: ImageCollection.fromImages: Parameter 'images' is required."
          ]
        }
      ],
      "source": [
        "\n",
        "def detect_changes():\n",
        "    if True:\n",
        "        # try :\n",
        "        if True:\n",
        "            # Parse input parameters\n",
        "\n",
        "            aoi = {\"type\":\"FeatureCollection\",\"features\":[{\"type\":\"Feature\",\"properties\":{},\"geometry\":{\"type\":\"Polygon\",\"coordinates\":[[[82.134443,22.188232],[82.134443,22.224849],[82.222284,22.224849],[82.222284,22.188232],[82.134443,22.188232]]]}}]}\n",
        "            start_date =  \"2024-07-01\"\n",
        "            end_date = \"2024-09-28\"\n",
        "            # aoi_geo = geemap.geojson_to_ee(aoi)\n",
        "            aoi_geo = geemap.geojson_to_ee(aoi).geometry()  # Convert to Geometry\n",
        "\n",
        "            # Load Sentinel-2 imagery\n",
        "            s2_collection = ee.ImageCollection('COPERNICUS/S2_SR_HARMONIZED') \\\n",
        "                .filterBounds(aoi_geo) \\\n",
        "                .filterDate(start_date, end_date) \\\n",
        "                .filter(ee.Filter.lt('CLOUDY_PIXEL_PERCENTAGE', 20))\n",
        "\n",
        "            # Get start and end images\n",
        "            s2_start = s2_collection.filterDate(start_date, ee.Date(start_date).advance(1, 'month')).median()\n",
        "            s2_end = s2_collection.filterDate(ee.Date(end_date).advance(-1, 'month'), end_date).median()\n",
        "\n",
        "            # Perform change detection\n",
        "            def detect_change(current, previous):\n",
        "                previous_img = ee.Image(previous)\n",
        "                diff = current.select(['B4', 'B3', 'B2']).subtract(previous_img.select(['B4', 'B3', 'B2'])).abs()\n",
        "                return previous_img.addBands(diff.reduce(ee.Reducer.sum()).rename('change'))  # Return the modified image\n",
        "\n",
        "            first = s2_collection.sort('system:time_start').first()\n",
        "\n",
        "            changes_obj = ee.List(s2_collection.sort('system:time_start').iterate(detect_change, first))\n",
        "\n",
        "            print(changes_obj)\n",
        "\n",
        "            # changes_obj = s2_collection.sort('system:time_start').iterate(detect_change, first)\n",
        "            changes = ee.ImageCollection.fromImages(changes_obj)\n",
        "\n",
        "            # changes = s2_collection.sort('system:time_start').map(lambda image: detect_change(image, first))\n",
        "\n",
        "            # changes = ee.ImageCollection(s2_collection.sort('system:time_start').iterate(detect_change, first))\n",
        "\n",
        "            change_image = changes.select('change').max()\n",
        "\n",
        "            print('Change image:', change_image.getInfo())\n",
        "\n",
        "            # Apply threshold to identify significant changes\n",
        "            threshold = 0.01  # Adjust this value based on your needs\n",
        "            significant_changes = change_image.gt(threshold)\n",
        "\n",
        "\n",
        "            # Print some information to check if significant_changes is empty\n",
        "            print('Significant changes count:', significant_changes.bandNames().size().getInfo())\n",
        "\n",
        "            # Convert changes to vectors\n",
        "            vectors = significant_changes.reduceToVectors(\n",
        "                scale=10,\n",
        "                geometryType='polygon',\n",
        "                maxPixels=1e9,\n",
        "                eightConnected=False\n",
        "            )\n",
        "\n",
        "            # Prepare outputs\n",
        "            start_image_url = s2_start.getThumbURL({\n",
        "                'min': 0,\n",
        "                'max': 3000,\n",
        "                'dimensions': 1024,\n",
        "                'region': aoi_geo,\n",
        "                'bands': ['B4', 'B3', 'B2']\n",
        "            })\n",
        "\n",
        "            end_image_url = s2_end.getThumbURL({\n",
        "                'min': 0,\n",
        "                'max': 3000,\n",
        "                'dimensions': 1024,\n",
        "                'region': aoi_geo,\n",
        "                'bands': ['B4', 'B3', 'B2']\n",
        "            })\n",
        "\n",
        "            change_image_url = significant_changes.getThumbURL({\n",
        "                'min': 0,\n",
        "                'max': 1,\n",
        "                'dimensions': 1024,\n",
        "                'region': aoi_geo,\n",
        "                'palette': ['black', 'white']\n",
        "            })\n",
        "\n",
        "            # Get GeoJSON of changes\n",
        "            geojson = geemap.ee_to_geojson(vectors)\n",
        "\n",
        "            # Prepare the response\n",
        "            response = {\n",
        "                'start_image': start_image_url,\n",
        "                'end_image': end_image_url,\n",
        "                'change_image': change_image_url,\n",
        "                'changes_geojson': geojson\n",
        "            }\n",
        "\n",
        "            return response\n",
        "\n",
        "print(detect_changes())"
      ]
    },
    {
      "source": [
        "\n",
        "\n",
        "def detect_changes2():\n",
        "    if True:\n",
        "        # try :\n",
        "        if True:\n",
        "            # Parse input parameters\n",
        "\n",
        "            aoi = {\"type\":\"FeatureCollection\",\"features\":[{\"type\":\"Feature\",\"properties\":{},\"geometry\":{\"type\":\"Polygon\",\"coordinates\":[[[82.134443,22.188232],[82.134443,22.224849],[82.222284,22.224849],[82.222284,22.188232],[82.134443,22.188232]]]}}]}\n",
        "            start_date =  \"2024-06-01\"\n",
        "            end_date = \"2024-05-08\"\n",
        "            # aoi_geo = geemap.geojson_to_ee(aoi)\n",
        "            aoi_geo = geemap.geojson_to_ee(aoi).geometry()  # Convert to Geometry\n",
        "\n",
        "            s2_collection = ee.ImageCollection('COPERNICUS/S2_SR_HARMONIZED') \\\n",
        "                .filterBounds(aoi_geo) \\\n",
        "                .filter(ee.Filter.lt('CLOUDY_PIXEL_PERCENTAGE', 20))\n",
        "\n",
        "            # Get the closest images\n",
        "            # start_date = ee.Date('2024-09-01')  # Replace with your start date\n",
        "            # end_date = ee.Date('2024-09-28')  # Replace with your end date\n",
        "            images = get_closest_images(s2_collection, start_date, end_date)\n",
        "\n",
        "            # Access the images (these won't be None even if exact dates aren't available)\n",
        "            s2_start = images[0]\n",
        "            s2_end = images[1]\n",
        "\n",
        "            start_image_date = s2_start.date().format('YYYY-MM-dd HH:mm:ss').getInfo()\n",
        "            end_image_date = s2_end.date().format('YYYY-MM-dd HH:mm:ss').getInfo()\n",
        "\n",
        "            # Subset bands before calculation (similar to the example you provided)\n",
        "            s2_start_bands = s2_start.select(['B4', 'B3', 'B2'])\n",
        "            s2_end_bands = s2_end.select(['B4', 'B3', 'B2'])\n",
        "\n",
        "            # Calculate difference image\n",
        "            diff = s2_end_bands.subtract(s2_start_bands).abs() # abs() after the subtraction\n",
        "            change_image = diff.reduce(ee.Reducer.sum()).rename('change')\n",
        "\n",
        "            print('Change image:', change_image.getInfo())\n",
        "\n",
        "            # Apply threshold to identify significant changes\n",
        "            threshold = 0.6  # Adjust this value based on your needs\n",
        "            significant_changes = change_image.gt(threshold)\n",
        "\n",
        "            # Print some information to check if significant_changes is empty\n",
        "            print('Significant changes count:', significant_changes.bandNames().size().getInfo())\n",
        "\n",
        "            # Convert changes to vectors\n",
        "            vectors = significant_changes.reduceToVectors(\n",
        "                geometry=aoi_geo,\n",
        "                scale=10,\n",
        "                geometryType='polygon',\n",
        "                maxPixels=1e9,\n",
        "                eightConnected=False\n",
        "            )\n",
        "\n",
        "            # Prepare outputs\n",
        "            start_image_url = s2_start.getThumbURL({\n",
        "                'min': 0,\n",
        "                'max': 3000,\n",
        "                'dimensions': 1024,\n",
        "                'region': aoi_geo,\n",
        "                'bands': ['B4', 'B3', 'B2']\n",
        "            })\n",
        "\n",
        "            end_image_url = s2_end.getThumbURL({\n",
        "                'min': 0,\n",
        "                'max': 3000,\n",
        "                'dimensions': 1024,\n",
        "                'region': aoi_geo,\n",
        "                'bands': ['B4', 'B3', 'B2']\n",
        "            })\n",
        "\n",
        "            change_image_url = significant_changes.getThumbURL({\n",
        "                'min': 0,\n",
        "                'max': 1,\n",
        "                'dimensions': 1024,\n",
        "                'region': aoi_geo,\n",
        "                'palette': ['black', 'white']\n",
        "            })\n",
        "\n",
        "            # Get GeoJSON of changes\n",
        "            geojson = geemap.ee_to_geojson(vectors)\n",
        "\n",
        "            # Prepare the response\n",
        "            response = {\n",
        "                'start_image': start_image_url,\n",
        "                'end_image': end_image_url,\n",
        "                'change_image': change_image_url,\n",
        "                'changes_geojson': geojson,\n",
        "                'start_date': start_image_date,\n",
        "                'end_date': end_image_date,\n",
        "                'bounds' : aoi_geo.bounds().getInfo(),\n",
        "                'are_images_available': start_image_date != end_image_date\n",
        "            }\n",
        "\n",
        "            return response\n",
        "ch = detect_changes2()\n"
      ],
      "cell_type": "code",
      "metadata": {
        "colab": {
          "base_uri": "https://localhost:8080/",
          "height": 52
        },
        "id": "iBqco2zzApDV",
        "outputId": "28d0c018-dd18-4d1f-c216-221fd3bc1306"
      },
      "execution_count": 53,
      "outputs": [
        {
          "output_type": "display_data",
          "data": {
            "text/plain": [
              "<IPython.core.display.HTML object>"
            ],
            "text/html": [
              "\n",
              "            <style>\n",
              "                .geemap-dark {\n",
              "                    --jp-widgets-color: white;\n",
              "                    --jp-widgets-label-color: white;\n",
              "                    --jp-ui-font-color1: white;\n",
              "                    --jp-layout-color2: #454545;\n",
              "                    background-color: #383838;\n",
              "                }\n",
              "\n",
              "                .geemap-dark .jupyter-button {\n",
              "                    --jp-layout-color3: #383838;\n",
              "                }\n",
              "\n",
              "                .geemap-colab {\n",
              "                    background-color: var(--colab-primary-surface-color, white);\n",
              "                }\n",
              "\n",
              "                .geemap-colab .jupyter-button {\n",
              "                    --jp-layout-color3: var(--colab-primary-surface-color, white);\n",
              "                }\n",
              "            </style>\n",
              "            "
            ]
          },
          "metadata": {}
        },
        {
          "output_type": "stream",
          "name": "stdout",
          "text": [
            "Change image: {'type': 'Image', 'bands': [{'id': 'change', 'data_type': {'type': 'PixelType', 'precision': 'double'}, 'crs': 'EPSG:32644', 'crs_transform': [10, 0, 600000, 0, -10, 2500020]}]}\n",
            "Significant changes count: 1\n"
          ]
        }
      ]
    },
    {
      "cell_type": "code",
      "source": [
        "geemap.show_image(ch['start_image'])\n",
        "geemap.show_image(ch['end_image'])\n",
        "geemap.show_image(ch['change_image'])"
      ],
      "metadata": {
        "colab": {
          "base_uri": "https://localhost:8080/",
          "height": 1000,
          "referenced_widgets": [
            "e72efa8d7ef74784b7691f880e04591f",
            "d7d723e2586f425aac2bce3deb6921fb",
            "64a8badc71a542f08513f4c79871f504",
            "0e4dd5e9f49647b6815efc12c1e211a8",
            "6d7f5306c07a4c88be4f52357f821ce6",
            "4262110ec0ad4ff38156ba999f10e555",
            "22b98c930c394b3bb5b819dbb928b7d9",
            "ace6e370f2e64b25a87c4e2e996844c4",
            "9139fa64f6ec4428a29f44d9cabcdcf6",
            "2835d1ecb5ca47a4818bdb9fd58f682c",
            "396e6580edfe4d909c31d84e011ab22e",
            "410a77bbc2dd4d02b84c5edcfac8c484"
          ]
        },
        "id": "Q82mpzJu5cON",
        "outputId": "d44c1126-190b-46f8-9ecd-4d1bf7709b47"
      },
      "execution_count": 54,
      "outputs": [
        {
          "output_type": "display_data",
          "data": {
            "text/plain": [
              "<IPython.core.display.HTML object>"
            ],
            "text/html": [
              "\n",
              "            <style>\n",
              "                .geemap-dark {\n",
              "                    --jp-widgets-color: white;\n",
              "                    --jp-widgets-label-color: white;\n",
              "                    --jp-ui-font-color1: white;\n",
              "                    --jp-layout-color2: #454545;\n",
              "                    background-color: #383838;\n",
              "                }\n",
              "\n",
              "                .geemap-dark .jupyter-button {\n",
              "                    --jp-layout-color3: #383838;\n",
              "                }\n",
              "\n",
              "                .geemap-colab {\n",
              "                    background-color: var(--colab-primary-surface-color, white);\n",
              "                }\n",
              "\n",
              "                .geemap-colab .jupyter-button {\n",
              "                    --jp-layout-color3: var(--colab-primary-surface-color, white);\n",
              "                }\n",
              "            </style>\n",
              "            "
            ]
          },
          "metadata": {}
        },
        {
          "output_type": "display_data",
          "data": {
            "text/plain": [
              "Output()"
            ],
            "application/vnd.jupyter.widget-view+json": {
              "version_major": 2,
              "version_minor": 0,
              "model_id": "e72efa8d7ef74784b7691f880e04591f"
            }
          },
          "metadata": {
            "application/vnd.jupyter.widget-view+json": {
              "colab": {
                "custom_widget_manager": {
                  "url": "https://ssl.gstatic.com/colaboratory-static/widgets/colab-cdn-widget-manager/2b70e893a8ba7c0f/manager.min.js"
                }
              }
            }
          }
        },
        {
          "output_type": "display_data",
          "data": {
            "text/plain": [
              "Output()"
            ],
            "application/vnd.jupyter.widget-view+json": {
              "version_major": 2,
              "version_minor": 0,
              "model_id": "6d7f5306c07a4c88be4f52357f821ce6"
            }
          },
          "metadata": {
            "application/vnd.jupyter.widget-view+json": {
              "colab": {
                "custom_widget_manager": {
                  "url": "https://ssl.gstatic.com/colaboratory-static/widgets/colab-cdn-widget-manager/2b70e893a8ba7c0f/manager.min.js"
                }
              }
            }
          }
        },
        {
          "output_type": "display_data",
          "data": {
            "text/plain": [
              "Output()"
            ],
            "application/vnd.jupyter.widget-view+json": {
              "version_major": 2,
              "version_minor": 0,
              "model_id": "9139fa64f6ec4428a29f44d9cabcdcf6"
            }
          },
          "metadata": {
            "application/vnd.jupyter.widget-view+json": {
              "colab": {
                "custom_widget_manager": {
                  "url": "https://ssl.gstatic.com/colaboratory-static/widgets/colab-cdn-widget-manager/2b70e893a8ba7c0f/manager.min.js"
                }
              }
            }
          }
        }
      ]
    },
    {
      "cell_type": "code",
      "source": [
        "!pip install geojson"
      ],
      "metadata": {
        "colab": {
          "base_uri": "https://localhost:8080/",
          "height": 104
        },
        "id": "mr9XmmD86y5_",
        "outputId": "a8659d0d-d063-4043-fb87-b85c6b0eaba4"
      },
      "execution_count": 56,
      "outputs": [
        {
          "output_type": "display_data",
          "data": {
            "text/plain": [
              "<IPython.core.display.HTML object>"
            ],
            "text/html": [
              "\n",
              "            <style>\n",
              "                .geemap-dark {\n",
              "                    --jp-widgets-color: white;\n",
              "                    --jp-widgets-label-color: white;\n",
              "                    --jp-ui-font-color1: white;\n",
              "                    --jp-layout-color2: #454545;\n",
              "                    background-color: #383838;\n",
              "                }\n",
              "\n",
              "                .geemap-dark .jupyter-button {\n",
              "                    --jp-layout-color3: #383838;\n",
              "                }\n",
              "\n",
              "                .geemap-colab {\n",
              "                    background-color: var(--colab-primary-surface-color, white);\n",
              "                }\n",
              "\n",
              "                .geemap-colab .jupyter-button {\n",
              "                    --jp-layout-color3: var(--colab-primary-surface-color, white);\n",
              "                }\n",
              "            </style>\n",
              "            "
            ]
          },
          "metadata": {}
        },
        {
          "output_type": "stream",
          "name": "stdout",
          "text": [
            "Collecting geojson\n",
            "  Downloading geojson-3.1.0-py3-none-any.whl.metadata (16 kB)\n",
            "Downloading geojson-3.1.0-py3-none-any.whl (15 kB)\n",
            "Installing collected packages: geojson\n",
            "Successfully installed geojson-3.1.0\n"
          ]
        }
      ]
    },
    {
      "cell_type": "code",
      "source": [
        "\n",
        "import geojson\n",
        "import folium\n",
        "import geemap\n",
        "from IPython.display import display\n",
        "\n",
        "def detect_changes5(th):\n",
        "    if True:\n",
        "        # try :\n",
        "        if True:\n",
        "            # Parse input parameters\n",
        "\n",
        "            aoi = {\"type\":\"FeatureCollection\",\"features\":[{\"type\":\"Feature\",\"properties\":{},\"geometry\":{\"type\":\"Polygon\",\"coordinates\":[[[82.134443,22.188232],[82.134443,22.224849],[82.222284,22.224849],[82.222284,22.188232],[82.134443,22.188232]]]}}]}\n",
        "            start_date =  \"2024-06-01\"\n",
        "            end_date = \"2024-05-08\"\n",
        "            # aoi_geo = geemap.geojson_to_ee(aoi)\n",
        "            aoi_geo = geemap.geojson_to_ee(aoi).geometry()  # Convert to Geometry\n",
        "\n",
        "            s2_collection = ee.ImageCollection('COPERNICUS/S2_SR_HARMONIZED') \\\n",
        "                .filterBounds(aoi_geo) \\\n",
        "                .filter(ee.Filter.lt('CLOUDY_PIXEL_PERCENTAGE', 20))\n",
        "\n",
        "            # Get the closest images\n",
        "            # start_date = ee.Date('2024-09-01')  # Replace with your start date\n",
        "            # end_date = ee.Date('2024-09-28')  # Replace with your end date\n",
        "            images = get_closest_images(s2_collection, start_date, end_date)\n",
        "\n",
        "            # Access the images (these won't be None even if exact dates aren't available)\n",
        "            image1 = images[0]\n",
        "            image2 = images[1]\n",
        "\n",
        "            start_image_date = image1.date().format('YYYY-MM-dd HH:mm:ss').getInfo()\n",
        "            end_image_date = image2.date().format('YYYY-MM-dd HH:mm:ss').getInfo()\n",
        "\n",
        "            # Calculate NDVI for both images\n",
        "            ndvi1 = image1.normalizedDifference(['B8', 'B4'])\n",
        "            ndvi2 = image2.normalizedDifference(['B8', 'B4'])\n",
        "\n",
        "            # Compute NDVI difference\n",
        "            ndvi_diff = ndvi2.subtract(ndvi1)\n",
        "\n",
        "            # Threshold the difference image\n",
        "            threshold = ndvi_diff.abs().gt(th)  # Adjust threshold as needed\n",
        "\n",
        "            # Apply morphological operations to remove noise\n",
        "            kernel = ee.Kernel.circle(radius=1)\n",
        "            cleaned = threshold.focal_min(kernel=kernel).focal_max(kernel=kernel)\n",
        "\n",
        "            # Vectorize the change areas\n",
        "            vectors = cleaned.reduceToVectors(\n",
        "                geometry=aoi_geo,\n",
        "                scale=10,\n",
        "                eightConnected=False,\n",
        "                maxPixels=1e9,\n",
        "                geometryType='polygon'\n",
        "            )\n",
        "\n",
        "            chnage_img_url = cleaned.getThumbURL({\n",
        "                'min': 0,\n",
        "                'max': 1,\n",
        "                'dimensions': 1024,\n",
        "                'region': aoi_geo,\n",
        "                'palette': ['black', 'white']\n",
        "            })\n",
        "            print(chnage_img_url)\n",
        "\n",
        "            # save image\n",
        "            # geemap.download_image(chnage_img_url, f'change_detection {str(th)}.png')\n",
        "            return 0;\n",
        "            # Convert to GeoJSON\n",
        "            geojson_data = vectors.getInfo()\n",
        "\n",
        "            # Save as GeoJSON file\n",
        "            with open('change_detection.geojson', 'w') as f:\n",
        "                geojson.dump(geojson_data, f)\n",
        "\n",
        "            # Calculate map center manually\n",
        "            bounds = aoi_geo.bounds().getInfo()['coordinates'][0]\n",
        "            map_center = [\n",
        "                (bounds[0][1] + bounds[2][1]) / 2,  # Latitude\n",
        "                (bounds[0][0] + bounds[1][0]) / 2   # Longitude\n",
        "            ]\n",
        "\n",
        "            # Visualize results\n",
        "            m = folium.Map(location=map_center, zoom_start=10)\n",
        "            folium.GeoJson(geojson_data).add_to(m)\n",
        "\n",
        "            return m, start_image_date, end_image_date, geojson_data\n",
        "\n",
        "# Run the change detection\n",
        "# map_result, start_date, end_date, geojson_data = detect_changes5()\n",
        "\n",
        "# Display the map\n",
        "# display(map_result)\n",
        "\n",
        "for i in range(1,11,1):\n",
        "    detect_changes5(i/10)\n",
        "\n",
        "# ch = detect_changes5()\n"
      ],
      "metadata": {
        "colab": {
          "base_uri": "https://localhost:8080/",
          "height": 191
        },
        "id": "otANXQT46tYR",
        "outputId": "68e4400d-693f-4f8a-acd6-410f084343ba"
      },
      "execution_count": 65,
      "outputs": [
        {
          "output_type": "display_data",
          "data": {
            "text/plain": [
              "<IPython.core.display.HTML object>"
            ],
            "text/html": [
              "\n",
              "            <style>\n",
              "                .geemap-dark {\n",
              "                    --jp-widgets-color: white;\n",
              "                    --jp-widgets-label-color: white;\n",
              "                    --jp-ui-font-color1: white;\n",
              "                    --jp-layout-color2: #454545;\n",
              "                    background-color: #383838;\n",
              "                }\n",
              "\n",
              "                .geemap-dark .jupyter-button {\n",
              "                    --jp-layout-color3: #383838;\n",
              "                }\n",
              "\n",
              "                .geemap-colab {\n",
              "                    background-color: var(--colab-primary-surface-color, white);\n",
              "                }\n",
              "\n",
              "                .geemap-colab .jupyter-button {\n",
              "                    --jp-layout-color3: var(--colab-primary-surface-color, white);\n",
              "                }\n",
              "            </style>\n",
              "            "
            ]
          },
          "metadata": {}
        },
        {
          "output_type": "stream",
          "name": "stdout",
          "text": [
            "https://earthengine.googleapis.com/v1/projects/earthengine-legacy/thumbnails/f9d15db962317aaf52aa1f29cbd5c7da-7b4b1e72d984cea04092610e31175633:getPixels\n",
            "https://earthengine.googleapis.com/v1/projects/earthengine-legacy/thumbnails/ccaf4eb97ae26c9dc24befa135c914c5-dda9fc43957f2001c4d5bb522f71df4f:getPixels\n",
            "https://earthengine.googleapis.com/v1/projects/earthengine-legacy/thumbnails/65d0321063a6676534e13f219ddac723-f20fe54abbf4d2496407fb4bac45245f:getPixels\n",
            "https://earthengine.googleapis.com/v1/projects/earthengine-legacy/thumbnails/300814c50d49e2d6e0adb08c75a10b7f-e7f81f54413412f8ef15e619a0786091:getPixels\n",
            "https://earthengine.googleapis.com/v1/projects/earthengine-legacy/thumbnails/1b2cdd3c65dff7197bd410fc16ddb496-62904ac59858fe6543fdcd3aa22e79d9:getPixels\n",
            "https://earthengine.googleapis.com/v1/projects/earthengine-legacy/thumbnails/00568a53567e97883f916d5b3afe71c6-be74879dc4e78153b847d4aedcf4f9df:getPixels\n",
            "https://earthengine.googleapis.com/v1/projects/earthengine-legacy/thumbnails/e6b453b8d3e9f4f514ea592280718ebb-4ed1c90de7368ea46dff688cdd5df8fd:getPixels\n",
            "https://earthengine.googleapis.com/v1/projects/earthengine-legacy/thumbnails/10f33731dd0c88bcc5e9219da5b502bd-08b1fa6bbfc0f341ead4c9251150d915:getPixels\n",
            "https://earthengine.googleapis.com/v1/projects/earthengine-legacy/thumbnails/bd3b255aea8bea32712a144d4890e98e-713a7eb3831534938f5250dd71e7a10e:getPixels\n",
            "https://earthengine.googleapis.com/v1/projects/earthengine-legacy/thumbnails/1f45b5a34d53dc14952b3a219d2aef46-f000f43c6c149f82215fe8ba6ddbdaf1:getPixels\n"
          ]
        }
      ]
    },
    {
      "source": [
        "def detect_changes_ccd():\n",
        "    if True:\n",
        "        if True:\n",
        "            # Parse input parameters\n",
        "            aoi = {\"type\":\"FeatureCollection\",\"features\":[{\"type\":\"Feature\",\"properties\":{},\"geometry\":{\"type\":\"Polygon\",\"coordinates\":[[[82.134443,22.188232],[82.134443,22.224849],[82.222284,22.224849],[82.222284,22.188232],[82.134443,22.188232]]]}}]}\n",
        "            start_date =  \"2024-06-01\"\n",
        "            end_date = \"2024-05-08\"\n",
        "            aoi_geo = geemap.geojson_to_ee(aoi).geometry()\n",
        "\n",
        "            # Load Sentinel-1 imagery (using VV polarization for coherence)\n",
        "            s1_collection = ee.ImageCollection('COPERNICUS/S1_GRD') \\\n",
        "                .filterBounds(aoi_geo) \\\n",
        "                .filterDate(start_date, end_date) \\\n",
        "                .filter(ee.Filter.listContains('transmitterReceiverPolarisation', 'VV'))\n",
        "\n",
        "            # Get the closest images\n",
        "            images = get_closest_images(s1_collection, start_date, end_date)\n",
        "            s1_start = images[0]\n",
        "            s1_end = images[1]\n",
        "\n",
        "            start_image_date = s1_start.date().format('YYYY-MM-dd HH:mm:ss').getInfo()\n",
        "            end_image_date = s1_end.date().format('YYYY-MM-dd HH:mm:ss').getInfo()\n",
        "\n",
        "            # Calculate coherence\n",
        "            coherence = ee.Image.coherence(s1_start, s1_end)\n",
        "\n",
        "            # Threshold coherence to identify changes\n",
        "            threshold = 0.5\n",
        "            significant_changes = coherence.lt(threshold)\n",
        "\n",
        "            # Convert changes to vectors\n",
        "            vectors = significant_changes.reduceToVectors(\n",
        "                geometry=aoi_geo,\n",
        "                scale=10,\n",
        "                geometryType='polygon',\n",
        "                maxPixels=1e9,\n",
        "                eightConnected=False\n",
        "            )\n",
        "\n",
        "            # Prepare outputs (using S1 for visualization)\n",
        "            start_image_url = s1_start.getThumbURL({\n",
        "                'min': -25,\n",
        "                'max': 0,\n",
        "                'dimensions': 1024,\n",
        "                'region': aoi_geo,\n",
        "                'bands': 'VV'\n",
        "            })\n",
        "\n",
        "            end_image_url = s1_end.getThumbURL({\n",
        "                'min': -25,\n",
        "                'max': 0,\n",
        "                'dimensions': 1024,\n",
        "                'region': aoi_geo,\n",
        "                'bands': 'VV'\n",
        "            })\n",
        "\n",
        "            change_image_url = significant_changes.getThumbURL({\n",
        "                'min': 0,\n",
        "                'max': 1,\n",
        "                'dimensions': 1024,\n",
        "                'region': aoi_geo,\n",
        "                'palette': ['black', 'white']\n",
        "            })\n",
        "\n",
        "            # Get GeoJSON of changes\n",
        "            geojson = geemap.ee_to_geojson(vectors)\n",
        "\n",
        "            # Prepare the response\n",
        "            response = {\n",
        "                'start_image': start_image_url,\n",
        "                'end_image': end_image_url,\n",
        "                'change_image': change_image_url,\n",
        "                'changes_geojson': geojson,\n",
        "                'start_date': start_image_date,\n",
        "                'end_date': end_image_date,\n",
        "                'bounds' : aoi_geo.bounds().getInfo(),\n",
        "                'are_images_available': start_image_date != end_image_date\n",
        "            }\n",
        "\n",
        "            return response\n",
        "\n",
        "ch_ccd = detect_changes_ccd()"
      ],
      "cell_type": "code",
      "metadata": {
        "id": "IlDmxq-ZZNBZ"
      },
      "execution_count": null,
      "outputs": []
    },
    {
      "cell_type": "code",
      "source": [
        "\n",
        "for k in ch.keys():\n",
        "    if(k == 'changes_geojson'):\n",
        "        print(f\"'{k}' : {ch[k]},\")\n",
        "    else:\n",
        "        print(f\"'{k}' : '{ch[k]}',\")"
      ],
      "metadata": {
        "colab": {
          "base_uri": "https://localhost:8080/",
          "height": 158
        },
        "id": "W04Lf87huzvr",
        "outputId": "594dd113-2b60-4eb9-f928-fcb175160528"
      },
      "execution_count": null,
      "outputs": [
        {
          "output_type": "display_data",
          "data": {
            "text/plain": [
              "<IPython.core.display.HTML object>"
            ],
            "text/html": [
              "\n",
              "            <style>\n",
              "                .geemap-dark {\n",
              "                    --jp-widgets-color: white;\n",
              "                    --jp-widgets-label-color: white;\n",
              "                    --jp-ui-font-color1: white;\n",
              "                    --jp-layout-color2: #454545;\n",
              "                    background-color: #383838;\n",
              "                }\n",
              "\n",
              "                .geemap-dark .jupyter-button {\n",
              "                    --jp-layout-color3: #383838;\n",
              "                }\n",
              "\n",
              "                .geemap-colab {\n",
              "                    background-color: var(--colab-primary-surface-color, white);\n",
              "                }\n",
              "\n",
              "                .geemap-colab .jupyter-button {\n",
              "                    --jp-layout-color3: var(--colab-primary-surface-color, white);\n",
              "                }\n",
              "            </style>\n",
              "            "
            ]
          },
          "metadata": {}
        },
        {
          "output_type": "stream",
          "name": "stdout",
          "text": [
            "'start_image' : 'https://earthengine.googleapis.com/v1/projects/earthengine-legacy/thumbnails/d9ca3650cc9bb81f8dfa00e199488d84-75c293210111bdebdc76b67a5f40f8a2:getPixels',\n",
            "'end_image' : 'https://earthengine.googleapis.com/v1/projects/earthengine-legacy/thumbnails/3bbec56d91c3f3acb5b4883bde516121-21b2ef1a6e0f5f87181965f3ee10e8ff:getPixels',\n",
            "'change_image' : 'https://earthengine.googleapis.com/v1/projects/earthengine-legacy/thumbnails/938736a42876bfcd98b4216344922204-458b48be4ba055f051bca5b9b3b07936:getPixels',\n",
            "'changes_geojson' : {'type': 'FeatureCollection', 'columns': {'count': 'Long<0, 4294967295>', 'label': 'Byte<0, 1>', 'system:index': 'String'}, 'features': [{'type': 'Feature', 'geometry': {'geodesic': False, 'type': 'Polygon', 'coordinates': [[[82.13436931633424, 22.189324478416093], [82.13446630616885, 22.18932380290995], [82.13445760192494, 22.188239893352513], [82.14182876238527, 22.18818838863434], [82.14182949242813, 22.18827871420921], [82.15424403729492, 22.18819121539898], [82.15424477527888, 22.18828154057859], [82.16675625384454, 22.188192400941592], [82.16675699982352, 22.18828272571696], [82.17926842252295, 22.18819262513414], [82.17926917650591, 22.188282949505265], [82.19178054266538, 22.1881918879856], [82.19178130464336, 22.188282211943502], [82.20419562693456, 22.188190906540218], [82.20419639685363, 22.188281230084893], [82.21670764838808, 22.188188254165528], [82.21670842629318, 22.18827857729698], [82.22223663608479, 22.188237188767737], [82.22232496514495, 22.1984436746392], [82.22222797211235, 22.198444402741703], [82.22232808034964, 22.21000571645082], [82.22223107938491, 22.210006444912647], [82.22233124557253, 22.221567742191578], [82.22223423664873, 22.221568471012734], [82.22226241802989, 22.22482008295796], [82.21207622425626, 22.22489629983552], [82.21207544788729, 22.224805976964582], [82.19956092908134, 22.22489874169901], [82.19956016072534, 22.22480841840586], [82.1870455842206, 22.2249002204697], [82.18704482388655, 22.224809896763325], [82.17462720327806, 22.224900035668277], [82.17462645089411, 22.22480971155766], [82.162111761543, 22.224899595709385], [82.16211101718099, 22.224809271185546], [82.14969328595397, 22.224897507027535], [82.14969254954205, 22.224807182108435], [82.13717775006648, 22.224895148303126], [82.13717702166754, 22.22480482298877], [82.1344606245762, 22.224823789236144], [82.1343879775407, 22.215791244451445], [82.13448498556617, 22.215790568163765], [82.13437897887395, 22.202603034825817], [82.13447597783544, 22.202602358933397], [82.13436931633424, 22.189324478416093]]]}, 'id': '+1770+4591', 'properties': {'count': 367129, 'label': 1}}]},\n",
            "'start_date' : '2024-05-24 05:12:40',\n",
            "'end_date' : '2024-05-04 05:12:44',\n",
            "'are_images_available' : 'True',\n"
          ]
        }
      ]
    },
    {
      "cell_type": "code",
      "source": [
        "# show images start end and chnages\n",
        "\n",
        "geemap.show_image(ch['start_image'])\n",
        "geemap.show_image(ch['end_image'])\n",
        "geemap.show_image(ch['change_image'])"
      ],
      "metadata": {
        "collapsed": true,
        "colab": {
          "base_uri": "https://localhost:8080/",
          "height": 1000,
          "referenced_widgets": [
            "afe32b17a79e4facbffa950f4371e612",
            "e9e1614635c7493b9f1efdad01b6a1e4",
            "3e07e8e0b2484907941cae738159aa41",
            "ebc76a3ada1a4a02a4c6b85ec335d14b",
            "dd9d01de747d4086a0f6c01b27618f3b",
            "74791f6367284eb48b9590507fc69255",
            "4bf344f91de84af3a9673262e70cafc4",
            "be1c2fb37d9545bf9ac20c7b3b2fbf3e",
            "78d62348acb14fdfbf972dd8f43b2ef9",
            "519555843b4a411eae9b546b1e4bd58a",
            "d4faa4bda22047bab6ad1c724eee3f89",
            "a3894a588e6a40cf98d0f9aa5fd2a066"
          ]
        },
        "id": "0HLaEWxQZH5R",
        "outputId": "0abf4f79-fb13-419c-9a06-e1eeae28b899"
      },
      "execution_count": null,
      "outputs": [
        {
          "output_type": "display_data",
          "data": {
            "text/plain": [
              "<IPython.core.display.HTML object>"
            ],
            "text/html": [
              "\n",
              "            <style>\n",
              "                .geemap-dark {\n",
              "                    --jp-widgets-color: white;\n",
              "                    --jp-widgets-label-color: white;\n",
              "                    --jp-ui-font-color1: white;\n",
              "                    --jp-layout-color2: #454545;\n",
              "                    background-color: #383838;\n",
              "                }\n",
              "\n",
              "                .geemap-dark .jupyter-button {\n",
              "                    --jp-layout-color3: #383838;\n",
              "                }\n",
              "\n",
              "                .geemap-colab {\n",
              "                    background-color: var(--colab-primary-surface-color, white);\n",
              "                }\n",
              "\n",
              "                .geemap-colab .jupyter-button {\n",
              "                    --jp-layout-color3: var(--colab-primary-surface-color, white);\n",
              "                }\n",
              "            </style>\n",
              "            "
            ]
          },
          "metadata": {}
        },
        {
          "output_type": "display_data",
          "data": {
            "text/plain": [
              "Output()"
            ],
            "application/vnd.jupyter.widget-view+json": {
              "version_major": 2,
              "version_minor": 0,
              "model_id": "afe32b17a79e4facbffa950f4371e612"
            }
          },
          "metadata": {
            "application/vnd.jupyter.widget-view+json": {
              "colab": {
                "custom_widget_manager": {
                  "url": "https://ssl.gstatic.com/colaboratory-static/widgets/colab-cdn-widget-manager/2b70e893a8ba7c0f/manager.min.js"
                }
              }
            }
          }
        },
        {
          "output_type": "display_data",
          "data": {
            "text/plain": [
              "Output()"
            ],
            "application/vnd.jupyter.widget-view+json": {
              "version_major": 2,
              "version_minor": 0,
              "model_id": "dd9d01de747d4086a0f6c01b27618f3b"
            }
          },
          "metadata": {
            "application/vnd.jupyter.widget-view+json": {
              "colab": {
                "custom_widget_manager": {
                  "url": "https://ssl.gstatic.com/colaboratory-static/widgets/colab-cdn-widget-manager/2b70e893a8ba7c0f/manager.min.js"
                }
              }
            }
          }
        },
        {
          "output_type": "display_data",
          "data": {
            "text/plain": [
              "Output()"
            ],
            "application/vnd.jupyter.widget-view+json": {
              "version_major": 2,
              "version_minor": 0,
              "model_id": "78d62348acb14fdfbf972dd8f43b2ef9"
            }
          },
          "metadata": {
            "application/vnd.jupyter.widget-view+json": {
              "colab": {
                "custom_widget_manager": {
                  "url": "https://ssl.gstatic.com/colaboratory-static/widgets/colab-cdn-widget-manager/2b70e893a8ba7c0f/manager.min.js"
                }
              }
            }
          }
        }
      ]
    },
    {
      "cell_type": "code",
      "source": [
        "def detect_changes3():\n",
        "    if True:\n",
        "        # try :\n",
        "        if True:\n",
        "            # Parse input parameters\n",
        "\n",
        "            aoi = {\"type\":\"FeatureCollection\",\"features\":[{\"type\":\"Feature\",\"properties\":{},\"geometry\":{\"type\":\"Polygon\",\"coordinates\":[[[82.134443,22.188232],[82.134443,22.224849],[82.222284,22.224849],[82.222284,22.188232],[82.134443,22.188232]]]}}]}\n",
        "            start_date =  \"2024-06-01\"\n",
        "            end_date = \"2024-05-08\"\n",
        "            # aoi_geo = geemap.geojson_to_ee(aoi)\n",
        "            aoi_geo = geemap.geojson_to_ee(aoi).geometry()  # Convert to Geometry\n",
        "\n",
        "            classifier = ee.Classifier.load('USGS/NLCD/NLCD2016')\n",
        "\n",
        "            # Get closest non-cloudy Sentinel-2 images\n",
        "            s2_collection = ee.ImageCollection('COPERNICUS/S2_SR_HARMONIZED') \\\n",
        "                            .filterBounds(aoi_geo) \\\n",
        "                            .filter(ee.Filter.lt('CLOUDY_PIXEL_PERCENTAGE', 20))\n",
        "            images = get_closest_images(s2_collection, start_date, end_date)\n",
        "\n",
        "            # Access the images (these won't be None even if exact dates aren't available)\n",
        "            s2_start = images[0]\n",
        "            s2_end = images[1]\n",
        "\n",
        "            start_image_date = s2_start.date().format('YYYY-MM-dd HH:mm:ss').getInfo()\n",
        "            end_image_date = s2_end.date().format('YYYY-MM-dd HH:mm:ss').getInfo()\n",
        "\n",
        "            # Classify start and end images\n",
        "            s2_start_classified = images[0].classify(classifier)\n",
        "            s2_end_classified = images[1].classify(classifier)\n",
        "\n",
        "            # Identify changed pixels based on classification difference\n",
        "            change_mask = s2_start_classified.neq(s2_end_classified)\n",
        "\n",
        "             # Convert change mask to polygons\n",
        "            change_polygons = change_mask.reduceToVectors(\n",
        "                geometry=aoi_geo,\n",
        "                scale=30,  # Adjust scale as needed\n",
        "                geometryType='polygon',\n",
        "                maxPixels=1e9,\n",
        "                eightConnected=False\n",
        "            )\n",
        "\n",
        "            # Prepare outputs\n",
        "            start_image_url = s2_start.getThumbURL({\n",
        "                'min': 0,\n",
        "                'max': 3000,\n",
        "                'dimensions': 1024,\n",
        "                'region': aoi_geo,\n",
        "                'bands': ['B4', 'B3', 'B2']\n",
        "            })\n",
        "\n",
        "            end_image_url = s2_end.getThumbURL({\n",
        "                'min': 0,\n",
        "                'max': 3000,\n",
        "                'dimensions': 1024,\n",
        "                'region': aoi_geo,\n",
        "                'bands': ['B4', 'B3', 'B2']\n",
        "            })\n",
        "\n",
        "            change_image_url = change_mask.getThumbURL({\n",
        "                'min': 0,\n",
        "                'max': 1,\n",
        "                'dimensions': 1024,\n",
        "                'region': aoi_geo,\n",
        "                'palette': ['black', 'white']\n",
        "            })\n",
        "\n",
        "            # Get GeoJSON of changes\n",
        "            geojson = geemap.ee_to_geojson(change_polygons)\n",
        "\n",
        "            # Prepare the response\n",
        "            response = {\n",
        "                'start_image': start_image_url,\n",
        "                'end_image': end_image_url,\n",
        "                'change_image': change_image_url,\n",
        "                'changes_geojson': geojson,\n",
        "                'start_date': start_image_date,\n",
        "                'end_date': end_image_date,\n",
        "                'bounds' : aoi_geo.bounds().getInfo(),\n",
        "                'are_images_available': start_image_date != end_image_date\n",
        "            }\n",
        "\n",
        "            return response\n",
        "\n"
      ],
      "metadata": {
        "colab": {
          "base_uri": "https://localhost:8080/",
          "height": 17
        },
        "id": "v8yeUFOMKca5",
        "outputId": "daa57726-9564-452d-d1d9-99e1f9040784"
      },
      "execution_count": null,
      "outputs": [
        {
          "output_type": "display_data",
          "data": {
            "text/plain": [
              "<IPython.core.display.HTML object>"
            ],
            "text/html": [
              "\n",
              "            <style>\n",
              "                .geemap-dark {\n",
              "                    --jp-widgets-color: white;\n",
              "                    --jp-widgets-label-color: white;\n",
              "                    --jp-ui-font-color1: white;\n",
              "                    --jp-layout-color2: #454545;\n",
              "                    background-color: #383838;\n",
              "                }\n",
              "\n",
              "                .geemap-dark .jupyter-button {\n",
              "                    --jp-layout-color3: #383838;\n",
              "                }\n",
              "\n",
              "                .geemap-colab {\n",
              "                    background-color: var(--colab-primary-surface-color, white);\n",
              "                }\n",
              "\n",
              "                .geemap-colab .jupyter-button {\n",
              "                    --jp-layout-color3: var(--colab-primary-surface-color, white);\n",
              "                }\n",
              "            </style>\n",
              "            "
            ]
          },
          "metadata": {}
        }
      ]
    },
    {
      "cell_type": "code",
      "source": [
        "c3 = detect_changes3()\n",
        "\n",
        "\n",
        "\n",
        "geemap.show_image(c3['start_image'])\n",
        "geemap.show_image(c3['end_image'])\n",
        "geemap.show_image(c3['change_image'])"
      ],
      "metadata": {
        "colab": {
          "base_uri": "https://localhost:8080/",
          "height": 443
        },
        "id": "nbqF__37KlzL",
        "outputId": "74b1f6ea-7105-4361-9da2-eb9d6eed2043"
      },
      "execution_count": null,
      "outputs": [
        {
          "output_type": "display_data",
          "data": {
            "text/plain": [
              "<IPython.core.display.HTML object>"
            ],
            "text/html": [
              "\n",
              "            <style>\n",
              "                .geemap-dark {\n",
              "                    --jp-widgets-color: white;\n",
              "                    --jp-widgets-label-color: white;\n",
              "                    --jp-ui-font-color1: white;\n",
              "                    --jp-layout-color2: #454545;\n",
              "                    background-color: #383838;\n",
              "                }\n",
              "\n",
              "                .geemap-dark .jupyter-button {\n",
              "                    --jp-layout-color3: #383838;\n",
              "                }\n",
              "\n",
              "                .geemap-colab {\n",
              "                    background-color: var(--colab-primary-surface-color, white);\n",
              "                }\n",
              "\n",
              "                .geemap-colab .jupyter-button {\n",
              "                    --jp-layout-color3: var(--colab-primary-surface-color, white);\n",
              "                }\n",
              "            </style>\n",
              "            "
            ]
          },
          "metadata": {}
        },
        {
          "output_type": "error",
          "ename": "EEException",
          "evalue": "Asset 'USGS/NLCD/NLCD2016' is not a Classifier.",
          "traceback": [
            "\u001b[0;31m---------------------------------------------------------------------------\u001b[0m",
            "\u001b[0;31mHttpError\u001b[0m                                 Traceback (most recent call last)",
            "\u001b[0;32m/usr/local/lib/python3.10/dist-packages/ee/data.py\u001b[0m in \u001b[0;36m_execute_cloud_call\u001b[0;34m(call, num_retries)\u001b[0m\n\u001b[1;32m    405\u001b[0m   \u001b[0;32mtry\u001b[0m\u001b[0;34m:\u001b[0m\u001b[0;34m\u001b[0m\u001b[0;34m\u001b[0m\u001b[0m\n\u001b[0;32m--> 406\u001b[0;31m     \u001b[0;32mreturn\u001b[0m \u001b[0mcall\u001b[0m\u001b[0;34m.\u001b[0m\u001b[0mexecute\u001b[0m\u001b[0;34m(\u001b[0m\u001b[0mnum_retries\u001b[0m\u001b[0;34m=\u001b[0m\u001b[0mnum_retries\u001b[0m\u001b[0;34m)\u001b[0m\u001b[0;34m\u001b[0m\u001b[0;34m\u001b[0m\u001b[0m\n\u001b[0m\u001b[1;32m    407\u001b[0m   \u001b[0;32mexcept\u001b[0m \u001b[0mgoogleapiclient\u001b[0m\u001b[0;34m.\u001b[0m\u001b[0merrors\u001b[0m\u001b[0;34m.\u001b[0m\u001b[0mHttpError\u001b[0m \u001b[0;32mas\u001b[0m \u001b[0me\u001b[0m\u001b[0;34m:\u001b[0m\u001b[0;34m\u001b[0m\u001b[0;34m\u001b[0m\u001b[0m\n",
            "\u001b[0;32m/usr/local/lib/python3.10/dist-packages/googleapiclient/_helpers.py\u001b[0m in \u001b[0;36mpositional_wrapper\u001b[0;34m(*args, **kwargs)\u001b[0m\n\u001b[1;32m    129\u001b[0m                     \u001b[0mlogger\u001b[0m\u001b[0;34m.\u001b[0m\u001b[0mwarning\u001b[0m\u001b[0;34m(\u001b[0m\u001b[0mmessage\u001b[0m\u001b[0;34m)\u001b[0m\u001b[0;34m\u001b[0m\u001b[0;34m\u001b[0m\u001b[0m\n\u001b[0;32m--> 130\u001b[0;31m             \u001b[0;32mreturn\u001b[0m \u001b[0mwrapped\u001b[0m\u001b[0;34m(\u001b[0m\u001b[0;34m*\u001b[0m\u001b[0margs\u001b[0m\u001b[0;34m,\u001b[0m \u001b[0;34m**\u001b[0m\u001b[0mkwargs\u001b[0m\u001b[0;34m)\u001b[0m\u001b[0;34m\u001b[0m\u001b[0;34m\u001b[0m\u001b[0m\n\u001b[0m\u001b[1;32m    131\u001b[0m \u001b[0;34m\u001b[0m\u001b[0m\n",
            "\u001b[0;32m/usr/local/lib/python3.10/dist-packages/googleapiclient/http.py\u001b[0m in \u001b[0;36mexecute\u001b[0;34m(self, http, num_retries)\u001b[0m\n\u001b[1;32m    937\u001b[0m         \u001b[0;32mif\u001b[0m \u001b[0mresp\u001b[0m\u001b[0;34m.\u001b[0m\u001b[0mstatus\u001b[0m \u001b[0;34m>=\u001b[0m \u001b[0;36m300\u001b[0m\u001b[0;34m:\u001b[0m\u001b[0;34m\u001b[0m\u001b[0;34m\u001b[0m\u001b[0m\n\u001b[0;32m--> 938\u001b[0;31m             \u001b[0;32mraise\u001b[0m \u001b[0mHttpError\u001b[0m\u001b[0;34m(\u001b[0m\u001b[0mresp\u001b[0m\u001b[0;34m,\u001b[0m \u001b[0mcontent\u001b[0m\u001b[0;34m,\u001b[0m \u001b[0muri\u001b[0m\u001b[0;34m=\u001b[0m\u001b[0mself\u001b[0m\u001b[0;34m.\u001b[0m\u001b[0muri\u001b[0m\u001b[0;34m)\u001b[0m\u001b[0;34m\u001b[0m\u001b[0;34m\u001b[0m\u001b[0m\n\u001b[0m\u001b[1;32m    939\u001b[0m         \u001b[0;32mreturn\u001b[0m \u001b[0mself\u001b[0m\u001b[0;34m.\u001b[0m\u001b[0mpostproc\u001b[0m\u001b[0;34m(\u001b[0m\u001b[0mresp\u001b[0m\u001b[0;34m,\u001b[0m \u001b[0mcontent\u001b[0m\u001b[0;34m)\u001b[0m\u001b[0;34m\u001b[0m\u001b[0;34m\u001b[0m\u001b[0m\n",
            "\u001b[0;31mHttpError\u001b[0m: <HttpError 400 when requesting https://earthengine.googleapis.com/v1/projects/earthengine-legacy/thumbnails?fields=name&alt=json returned \"Asset 'USGS/NLCD/NLCD2016' is not a Classifier.\". Details: \"Asset 'USGS/NLCD/NLCD2016' is not a Classifier.\">",
            "\nDuring handling of the above exception, another exception occurred:\n",
            "\u001b[0;31mEEException\u001b[0m                               Traceback (most recent call last)",
            "\u001b[0;32m<ipython-input-66-d5a9f129a249>\u001b[0m in \u001b[0;36m<cell line: 1>\u001b[0;34m()\u001b[0m\n\u001b[0;32m----> 1\u001b[0;31m \u001b[0mc3\u001b[0m \u001b[0;34m=\u001b[0m \u001b[0mdetect_changes3\u001b[0m\u001b[0;34m(\u001b[0m\u001b[0;34m)\u001b[0m\u001b[0;34m\u001b[0m\u001b[0;34m\u001b[0m\u001b[0m\n\u001b[0m\u001b[1;32m      2\u001b[0m \u001b[0;34m\u001b[0m\u001b[0m\n\u001b[1;32m      3\u001b[0m \u001b[0;34m\u001b[0m\u001b[0m\n\u001b[1;32m      4\u001b[0m \u001b[0;34m\u001b[0m\u001b[0m\n\u001b[1;32m      5\u001b[0m \u001b[0mgeemap\u001b[0m\u001b[0;34m.\u001b[0m\u001b[0mshow_image\u001b[0m\u001b[0;34m(\u001b[0m\u001b[0mc3\u001b[0m\u001b[0;34m[\u001b[0m\u001b[0;34m'start_image'\u001b[0m\u001b[0;34m]\u001b[0m\u001b[0;34m)\u001b[0m\u001b[0;34m\u001b[0m\u001b[0;34m\u001b[0m\u001b[0m\n",
            "\u001b[0;32m<ipython-input-65-6f70b25cb44f>\u001b[0m in \u001b[0;36mdetect_changes3\u001b[0;34m()\u001b[0m\n\u001b[1;32m     59\u001b[0m             })\n\u001b[1;32m     60\u001b[0m \u001b[0;34m\u001b[0m\u001b[0m\n\u001b[0;32m---> 61\u001b[0;31m             change_image_url = change_mask.getThumbURL({\n\u001b[0m\u001b[1;32m     62\u001b[0m                 \u001b[0;34m'min'\u001b[0m\u001b[0;34m:\u001b[0m \u001b[0;36m0\u001b[0m\u001b[0;34m,\u001b[0m\u001b[0;34m\u001b[0m\u001b[0;34m\u001b[0m\u001b[0m\n\u001b[1;32m     63\u001b[0m                 \u001b[0;34m'max'\u001b[0m\u001b[0;34m:\u001b[0m \u001b[0;36m1\u001b[0m\u001b[0;34m,\u001b[0m\u001b[0;34m\u001b[0m\u001b[0;34m\u001b[0m\u001b[0m\n",
            "\u001b[0;32m/usr/local/lib/python3.10/dist-packages/ee/image.py\u001b[0m in \u001b[0;36mgetThumbURL\u001b[0;34m(self, params)\u001b[0m\n\u001b[1;32m    560\u001b[0m     \u001b[0;31m# If it isn't enabled, we have to be bug-for-bug compatible with current\u001b[0m\u001b[0;34m\u001b[0m\u001b[0;34m\u001b[0m\u001b[0m\n\u001b[1;32m    561\u001b[0m     \u001b[0;31m# behaviour.\u001b[0m\u001b[0;34m\u001b[0m\u001b[0;34m\u001b[0m\u001b[0m\n\u001b[0;32m--> 562\u001b[0;31m     \u001b[0;32mreturn\u001b[0m \u001b[0mdata\u001b[0m\u001b[0;34m.\u001b[0m\u001b[0mmakeThumbUrl\u001b[0m\u001b[0;34m(\u001b[0m\u001b[0mself\u001b[0m\u001b[0;34m.\u001b[0m\u001b[0mgetThumbId\u001b[0m\u001b[0;34m(\u001b[0m\u001b[0mparams\u001b[0m\u001b[0;34m)\u001b[0m\u001b[0;34m)\u001b[0m\u001b[0;34m\u001b[0m\u001b[0;34m\u001b[0m\u001b[0m\n\u001b[0m\u001b[1;32m    563\u001b[0m \u001b[0;34m\u001b[0m\u001b[0m\n\u001b[1;32m    564\u001b[0m   \u001b[0;31m# pylint: disable=g-bad-name\u001b[0m\u001b[0;34m\u001b[0m\u001b[0;34m\u001b[0m\u001b[0m\n",
            "\u001b[0;32m/usr/local/lib/python3.10/dist-packages/ee/image.py\u001b[0m in \u001b[0;36mgetThumbId\u001b[0;34m(self, params)\u001b[0m\n\u001b[1;32m    533\u001b[0m     \u001b[0mimage\u001b[0m\u001b[0;34m,\u001b[0m \u001b[0mparams\u001b[0m \u001b[0;34m=\u001b[0m \u001b[0mimage\u001b[0m\u001b[0;34m.\u001b[0m\u001b[0m_apply_visualization\u001b[0m\u001b[0;34m(\u001b[0m\u001b[0mparams\u001b[0m\u001b[0;34m)\u001b[0m\u001b[0;34m\u001b[0m\u001b[0;34m\u001b[0m\u001b[0m\n\u001b[1;32m    534\u001b[0m     \u001b[0mparams\u001b[0m\u001b[0;34m[\u001b[0m\u001b[0;34m'image'\u001b[0m\u001b[0;34m]\u001b[0m \u001b[0;34m=\u001b[0m \u001b[0mimage\u001b[0m\u001b[0;34m\u001b[0m\u001b[0;34m\u001b[0m\u001b[0m\n\u001b[0;32m--> 535\u001b[0;31m     \u001b[0;32mreturn\u001b[0m \u001b[0mdata\u001b[0m\u001b[0;34m.\u001b[0m\u001b[0mgetThumbId\u001b[0m\u001b[0;34m(\u001b[0m\u001b[0mparams\u001b[0m\u001b[0;34m)\u001b[0m\u001b[0;34m\u001b[0m\u001b[0;34m\u001b[0m\u001b[0m\n\u001b[0m\u001b[1;32m    536\u001b[0m \u001b[0;34m\u001b[0m\u001b[0m\n\u001b[1;32m    537\u001b[0m   \u001b[0;32mdef\u001b[0m \u001b[0mgetThumbURL\u001b[0m\u001b[0;34m(\u001b[0m\u001b[0mself\u001b[0m\u001b[0;34m,\u001b[0m \u001b[0mparams\u001b[0m\u001b[0;34m:\u001b[0m \u001b[0mOptional\u001b[0m\u001b[0;34m[\u001b[0m\u001b[0mDict\u001b[0m\u001b[0;34m[\u001b[0m\u001b[0mstr\u001b[0m\u001b[0;34m,\u001b[0m \u001b[0mAny\u001b[0m\u001b[0;34m]\u001b[0m\u001b[0;34m]\u001b[0m \u001b[0;34m=\u001b[0m \u001b[0;32mNone\u001b[0m\u001b[0;34m)\u001b[0m \u001b[0;34m->\u001b[0m \u001b[0mstr\u001b[0m\u001b[0;34m:\u001b[0m\u001b[0;34m\u001b[0m\u001b[0;34m\u001b[0m\u001b[0m\n",
            "\u001b[0;32m/usr/local/lib/python3.10/dist-packages/ee/data.py\u001b[0m in \u001b[0;36mgetThumbId\u001b[0;34m(params, thumbType)\u001b[0m\n\u001b[1;32m   1244\u001b[0m         \u001b[0mparams\u001b[0m\u001b[0;34m.\u001b[0m\u001b[0mget\u001b[0m\u001b[0;34m(\u001b[0m\u001b[0;34m'bands'\u001b[0m\u001b[0;34m)\u001b[0m\u001b[0;34m\u001b[0m\u001b[0;34m\u001b[0m\u001b[0m\n\u001b[1;32m   1245\u001b[0m     )\n\u001b[0;32m-> 1246\u001b[0;31m     result = _execute_cloud_call(\n\u001b[0m\u001b[1;32m   1247\u001b[0m         \u001b[0m_get_cloud_projects\u001b[0m\u001b[0;34m(\u001b[0m\u001b[0;34m)\u001b[0m\u001b[0;34m\u001b[0m\u001b[0;34m\u001b[0m\u001b[0m\n\u001b[1;32m   1248\u001b[0m         \u001b[0;34m.\u001b[0m\u001b[0mthumbnails\u001b[0m\u001b[0;34m(\u001b[0m\u001b[0;34m)\u001b[0m\u001b[0;34m\u001b[0m\u001b[0;34m\u001b[0m\u001b[0m\n",
            "\u001b[0;32m/usr/local/lib/python3.10/dist-packages/ee/data.py\u001b[0m in \u001b[0;36m_execute_cloud_call\u001b[0;34m(call, num_retries)\u001b[0m\n\u001b[1;32m    406\u001b[0m     \u001b[0;32mreturn\u001b[0m \u001b[0mcall\u001b[0m\u001b[0;34m.\u001b[0m\u001b[0mexecute\u001b[0m\u001b[0;34m(\u001b[0m\u001b[0mnum_retries\u001b[0m\u001b[0;34m=\u001b[0m\u001b[0mnum_retries\u001b[0m\u001b[0;34m)\u001b[0m\u001b[0;34m\u001b[0m\u001b[0;34m\u001b[0m\u001b[0m\n\u001b[1;32m    407\u001b[0m   \u001b[0;32mexcept\u001b[0m \u001b[0mgoogleapiclient\u001b[0m\u001b[0;34m.\u001b[0m\u001b[0merrors\u001b[0m\u001b[0;34m.\u001b[0m\u001b[0mHttpError\u001b[0m \u001b[0;32mas\u001b[0m \u001b[0me\u001b[0m\u001b[0;34m:\u001b[0m\u001b[0;34m\u001b[0m\u001b[0;34m\u001b[0m\u001b[0m\n\u001b[0;32m--> 408\u001b[0;31m     \u001b[0;32mraise\u001b[0m \u001b[0m_translate_cloud_exception\u001b[0m\u001b[0;34m(\u001b[0m\u001b[0me\u001b[0m\u001b[0;34m)\u001b[0m  \u001b[0;31m# pylint: disable=raise-missing-from\u001b[0m\u001b[0;34m\u001b[0m\u001b[0;34m\u001b[0m\u001b[0m\n\u001b[0m\u001b[1;32m    409\u001b[0m \u001b[0;34m\u001b[0m\u001b[0m\n\u001b[1;32m    410\u001b[0m \u001b[0;34m\u001b[0m\u001b[0m\n",
            "\u001b[0;31mEEException\u001b[0m: Asset 'USGS/NLCD/NLCD2016' is not a Classifier."
          ]
        }
      ]
    },
    {
      "cell_type": "code",
      "source": [],
      "metadata": {
        "id": "toT358QZQyqm"
      },
      "execution_count": null,
      "outputs": []
    },
    {
      "source": [
        "\n",
        "\n",
        "def detect_changes4():\n",
        "    if True:\n",
        "        # try :\n",
        "        if True:\n",
        "            # Parse input parameters\n",
        "\n",
        "            aoi = {\"type\":\"FeatureCollection\",\"features\":[{\"type\":\"Feature\",\"properties\":{},\"geometry\":{\"type\":\"Polygon\",\"coordinates\":[[[82.134443,22.188232],[82.134443,22.224849],[82.222284,22.224849],[82.222284,22.188232],[82.134443,22.188232]]]}}]}\n",
        "            start_date =  \"2024-06-01\"\n",
        "            end_date = \"2024-05-08\"\n",
        "            # aoi_geo = geemap.geojson_to_ee(aoi)\n",
        "            aoi_geo = geemap.geojson_to_ee(aoi).geometry()  # Convert to Geometry\n",
        "\n",
        "            s2_collection = ee.ImageCollection('COPERNICUS/S2_SR_HARMONIZED') \\\n",
        "                .filterBounds(aoi_geo) \\\n",
        "                .filter(ee.Filter.lt('CLOUDY_PIXEL_PERCENTAGE', 20))\n",
        "\n",
        "            # Get the closest images\n",
        "            # start_date = ee.Date('2024-09-01')  # Replace with your start date\n",
        "            # end_date = ee.Date('2024-09-28')  # Replace with your end date\n",
        "            images = get_closest_images(s2_collection, start_date, end_date)\n",
        "\n",
        "            # Access the images (these won't be None even if exact dates aren't available)\n",
        "            s2_start = images[0]\n",
        "            s2_end = images[1]\n",
        "\n",
        "            start_image_date = s2_start.date().format('YYYY-MM-dd HH:mm:ss').getInfo()\n",
        "            end_image_date = s2_end.date().format('YYYY-MM-dd HH:mm:ss').getInfo()\n",
        "\n",
        "            # Cloud masking (example using a simple threshold)\n",
        "            cloudMask = s2_start.select('QA60').bitwiseAnd(1 << 4).eq(0)\n",
        "            s2_start = s2_start.updateMask(cloudMask)\n",
        "            s2_end = s2_end.updateMask(cloudMask)\n",
        "\n",
        "            # Normalization (example using min-max scaling)\n",
        "            minVal = ee.Number(0)\n",
        "            maxVal = ee.Number(10000)\n",
        "            s2_start = s2_start.divide(maxVal).subtract(minVal).multiply(255).uint8()\n",
        "            s2_end = s2_end.divide(maxVal).subtract(minVal).multiply(255).uint8()\n",
        "\n",
        "\n",
        "            # Calculate difference image\n",
        "            diff = s2_end.subtract(s2_start).abs() # abs() after the subtraction\n",
        "            # change_image = diff.reduce(ee.Reducer.sum()).rename('change')\n",
        "\n",
        "\n",
        "            # Apply threshold to identify significant changes\n",
        "            threshold = 0.6  # Adjust this value based on your needs\n",
        "            significant_changes = diff.gt(threshold)\n",
        "\n",
        "            # Print some information to check if significant_changes is empty\n",
        "            print('Significant changes count:', significant_changes.bandNames().size().getInfo())\n",
        "\n",
        "            # Visualization (example using a colormap)\n",
        "            colormap = ['000000', 'FF0000', '00FF00']  # Black, Red, Green\n",
        "            change_image = diff.updateMask(significant_changes).visualize({\n",
        "                'min': -threshold,\n",
        "                'max': threshold,\n",
        "                'palette': colormap\n",
        "            })\n",
        "            # Convert changes to vectors\n",
        "            vectors = significant_changes.reduceToVectors(\n",
        "                geometry=aoi_geo,\n",
        "                scale=10,\n",
        "                geometryType='polygon',\n",
        "                maxPixels=1e9,\n",
        "                eightConnected=False\n",
        "            )\n",
        "\n",
        "            # Prepare outputs\n",
        "            start_image_url = s2_start.getThumbURL({\n",
        "                'min': 0,\n",
        "                'max': 3000,\n",
        "                'dimensions': 1024,\n",
        "                'region': aoi_geo,\n",
        "                'bands': ['B4', 'B3', 'B2']\n",
        "            })\n",
        "\n",
        "            end_image_url = s2_end.getThumbURL({\n",
        "                'min': 0,\n",
        "                'max': 3000,\n",
        "                'dimensions': 1024,\n",
        "                'region': aoi_geo,\n",
        "                'bands': ['B4', 'B3', 'B2']\n",
        "            })\n",
        "\n",
        "            change_image_url = significant_changes.getThumbURL({\n",
        "                'min': 0,\n",
        "                'max': 1,\n",
        "                'dimensions': 1024,\n",
        "                'region': aoi_geo,\n",
        "                'palette': ['black', 'white']\n",
        "            })\n",
        "\n",
        "            # Get GeoJSON of changes\n",
        "            geojson = geemap.ee_to_geojson(vectors)\n",
        "\n",
        "            # Prepare the response\n",
        "            response = {\n",
        "                'start_image': start_image_url,\n",
        "                'end_image': end_image_url,\n",
        "                'change_image': change_image_url,\n",
        "                'changes_geojson': geojson,\n",
        "                'start_date': start_image_date,\n",
        "                'end_date': end_image_date,\n",
        "                'bounds' : aoi_geo.bounds().getInfo(),\n",
        "                'are_images_available': start_image_date != end_image_date\n",
        "            }\n",
        "\n",
        "            return response\n",
        "ch4 = detect_changes4()\n",
        "\n",
        "\n"
      ],
      "cell_type": "code",
      "metadata": {
        "colab": {
          "base_uri": "https://localhost:8080/",
          "height": 477
        },
        "outputId": "0b8ec738-dfcb-47dc-c9b2-99bbb1992e03",
        "id": "yHzeTz8JzhE2"
      },
      "execution_count": null,
      "outputs": [
        {
          "output_type": "display_data",
          "data": {
            "text/plain": [
              "<IPython.core.display.HTML object>"
            ],
            "text/html": [
              "\n",
              "            <style>\n",
              "                .geemap-dark {\n",
              "                    --jp-widgets-color: white;\n",
              "                    --jp-widgets-label-color: white;\n",
              "                    --jp-ui-font-color1: white;\n",
              "                    --jp-layout-color2: #454545;\n",
              "                    background-color: #383838;\n",
              "                }\n",
              "\n",
              "                .geemap-dark .jupyter-button {\n",
              "                    --jp-layout-color3: #383838;\n",
              "                }\n",
              "\n",
              "                .geemap-colab {\n",
              "                    background-color: var(--colab-primary-surface-color, white);\n",
              "                }\n",
              "\n",
              "                .geemap-colab .jupyter-button {\n",
              "                    --jp-layout-color3: var(--colab-primary-surface-color, white);\n",
              "                }\n",
              "            </style>\n",
              "            "
            ]
          },
          "metadata": {}
        },
        {
          "output_type": "stream",
          "name": "stdout",
          "text": [
            "Significant changes count: 26\n"
          ]
        },
        {
          "output_type": "error",
          "ename": "EEException",
          "evalue": "Image.visualize: Cannot provide a palette when visualizing more than one band.",
          "traceback": [
            "\u001b[0;31m---------------------------------------------------------------------------\u001b[0m",
            "\u001b[0;31mHttpError\u001b[0m                                 Traceback (most recent call last)",
            "\u001b[0;32m/usr/local/lib/python3.10/dist-packages/ee/data.py\u001b[0m in \u001b[0;36m_execute_cloud_call\u001b[0;34m(call, num_retries)\u001b[0m\n\u001b[1;32m    405\u001b[0m   \u001b[0;32mtry\u001b[0m\u001b[0;34m:\u001b[0m\u001b[0;34m\u001b[0m\u001b[0;34m\u001b[0m\u001b[0m\n\u001b[0;32m--> 406\u001b[0;31m     \u001b[0;32mreturn\u001b[0m \u001b[0mcall\u001b[0m\u001b[0;34m.\u001b[0m\u001b[0mexecute\u001b[0m\u001b[0;34m(\u001b[0m\u001b[0mnum_retries\u001b[0m\u001b[0;34m=\u001b[0m\u001b[0mnum_retries\u001b[0m\u001b[0;34m)\u001b[0m\u001b[0;34m\u001b[0m\u001b[0;34m\u001b[0m\u001b[0m\n\u001b[0m\u001b[1;32m    407\u001b[0m   \u001b[0;32mexcept\u001b[0m \u001b[0mgoogleapiclient\u001b[0m\u001b[0;34m.\u001b[0m\u001b[0merrors\u001b[0m\u001b[0;34m.\u001b[0m\u001b[0mHttpError\u001b[0m \u001b[0;32mas\u001b[0m \u001b[0me\u001b[0m\u001b[0;34m:\u001b[0m\u001b[0;34m\u001b[0m\u001b[0;34m\u001b[0m\u001b[0m\n",
            "\u001b[0;32m/usr/local/lib/python3.10/dist-packages/googleapiclient/_helpers.py\u001b[0m in \u001b[0;36mpositional_wrapper\u001b[0;34m(*args, **kwargs)\u001b[0m\n\u001b[1;32m    129\u001b[0m                     \u001b[0mlogger\u001b[0m\u001b[0;34m.\u001b[0m\u001b[0mwarning\u001b[0m\u001b[0;34m(\u001b[0m\u001b[0mmessage\u001b[0m\u001b[0;34m)\u001b[0m\u001b[0;34m\u001b[0m\u001b[0;34m\u001b[0m\u001b[0m\n\u001b[0;32m--> 130\u001b[0;31m             \u001b[0;32mreturn\u001b[0m \u001b[0mwrapped\u001b[0m\u001b[0;34m(\u001b[0m\u001b[0;34m*\u001b[0m\u001b[0margs\u001b[0m\u001b[0;34m,\u001b[0m \u001b[0;34m**\u001b[0m\u001b[0mkwargs\u001b[0m\u001b[0;34m)\u001b[0m\u001b[0;34m\u001b[0m\u001b[0;34m\u001b[0m\u001b[0m\n\u001b[0m\u001b[1;32m    131\u001b[0m \u001b[0;34m\u001b[0m\u001b[0m\n",
            "\u001b[0;32m/usr/local/lib/python3.10/dist-packages/googleapiclient/http.py\u001b[0m in \u001b[0;36mexecute\u001b[0;34m(self, http, num_retries)\u001b[0m\n\u001b[1;32m    937\u001b[0m         \u001b[0;32mif\u001b[0m \u001b[0mresp\u001b[0m\u001b[0;34m.\u001b[0m\u001b[0mstatus\u001b[0m \u001b[0;34m>=\u001b[0m \u001b[0;36m300\u001b[0m\u001b[0;34m:\u001b[0m\u001b[0;34m\u001b[0m\u001b[0;34m\u001b[0m\u001b[0m\n\u001b[0;32m--> 938\u001b[0;31m             \u001b[0;32mraise\u001b[0m \u001b[0mHttpError\u001b[0m\u001b[0;34m(\u001b[0m\u001b[0mresp\u001b[0m\u001b[0;34m,\u001b[0m \u001b[0mcontent\u001b[0m\u001b[0;34m,\u001b[0m \u001b[0muri\u001b[0m\u001b[0;34m=\u001b[0m\u001b[0mself\u001b[0m\u001b[0;34m.\u001b[0m\u001b[0muri\u001b[0m\u001b[0;34m)\u001b[0m\u001b[0;34m\u001b[0m\u001b[0;34m\u001b[0m\u001b[0m\n\u001b[0m\u001b[1;32m    939\u001b[0m         \u001b[0;32mreturn\u001b[0m \u001b[0mself\u001b[0m\u001b[0;34m.\u001b[0m\u001b[0mpostproc\u001b[0m\u001b[0;34m(\u001b[0m\u001b[0mresp\u001b[0m\u001b[0;34m,\u001b[0m \u001b[0mcontent\u001b[0m\u001b[0;34m)\u001b[0m\u001b[0;34m\u001b[0m\u001b[0;34m\u001b[0m\u001b[0m\n",
            "\u001b[0;31mHttpError\u001b[0m: <HttpError 400 when requesting https://earthengine.googleapis.com/v1/projects/earthengine-legacy/thumbnails?fields=name&alt=json returned \"Image.visualize: Cannot provide a palette when visualizing more than one band.\". Details: \"Image.visualize: Cannot provide a palette when visualizing more than one band.\">",
            "\nDuring handling of the above exception, another exception occurred:\n",
            "\u001b[0;31mEEException\u001b[0m                               Traceback (most recent call last)",
            "\u001b[0;32m<ipython-input-68-ae9297c33761>\u001b[0m in \u001b[0;36m<cell line: 110>\u001b[0;34m()\u001b[0m\n\u001b[1;32m    108\u001b[0m \u001b[0;34m\u001b[0m\u001b[0m\n\u001b[1;32m    109\u001b[0m             \u001b[0;32mreturn\u001b[0m \u001b[0mresponse\u001b[0m\u001b[0;34m\u001b[0m\u001b[0;34m\u001b[0m\u001b[0m\n\u001b[0;32m--> 110\u001b[0;31m \u001b[0mch4\u001b[0m \u001b[0;34m=\u001b[0m \u001b[0mdetect_changes4\u001b[0m\u001b[0;34m(\u001b[0m\u001b[0;34m)\u001b[0m\u001b[0;34m\u001b[0m\u001b[0;34m\u001b[0m\u001b[0m\n\u001b[0m\u001b[1;32m    111\u001b[0m \u001b[0;34m\u001b[0m\u001b[0m\n\u001b[1;32m    112\u001b[0m \u001b[0;34m\u001b[0m\u001b[0m\n",
            "\u001b[0;32m<ipython-input-68-ae9297c33761>\u001b[0m in \u001b[0;36mdetect_changes4\u001b[0;34m()\u001b[0m\n\u001b[1;32m     84\u001b[0m             })\n\u001b[1;32m     85\u001b[0m \u001b[0;34m\u001b[0m\u001b[0m\n\u001b[0;32m---> 86\u001b[0;31m             change_image_url = significant_changes.getThumbURL({\n\u001b[0m\u001b[1;32m     87\u001b[0m                 \u001b[0;34m'min'\u001b[0m\u001b[0;34m:\u001b[0m \u001b[0;36m0\u001b[0m\u001b[0;34m,\u001b[0m\u001b[0;34m\u001b[0m\u001b[0;34m\u001b[0m\u001b[0m\n\u001b[1;32m     88\u001b[0m                 \u001b[0;34m'max'\u001b[0m\u001b[0;34m:\u001b[0m \u001b[0;36m1\u001b[0m\u001b[0;34m,\u001b[0m\u001b[0;34m\u001b[0m\u001b[0;34m\u001b[0m\u001b[0m\n",
            "\u001b[0;32m/usr/local/lib/python3.10/dist-packages/ee/image.py\u001b[0m in \u001b[0;36mgetThumbURL\u001b[0;34m(self, params)\u001b[0m\n\u001b[1;32m    560\u001b[0m     \u001b[0;31m# If it isn't enabled, we have to be bug-for-bug compatible with current\u001b[0m\u001b[0;34m\u001b[0m\u001b[0;34m\u001b[0m\u001b[0m\n\u001b[1;32m    561\u001b[0m     \u001b[0;31m# behaviour.\u001b[0m\u001b[0;34m\u001b[0m\u001b[0;34m\u001b[0m\u001b[0m\n\u001b[0;32m--> 562\u001b[0;31m     \u001b[0;32mreturn\u001b[0m \u001b[0mdata\u001b[0m\u001b[0;34m.\u001b[0m\u001b[0mmakeThumbUrl\u001b[0m\u001b[0;34m(\u001b[0m\u001b[0mself\u001b[0m\u001b[0;34m.\u001b[0m\u001b[0mgetThumbId\u001b[0m\u001b[0;34m(\u001b[0m\u001b[0mparams\u001b[0m\u001b[0;34m)\u001b[0m\u001b[0;34m)\u001b[0m\u001b[0;34m\u001b[0m\u001b[0;34m\u001b[0m\u001b[0m\n\u001b[0m\u001b[1;32m    563\u001b[0m \u001b[0;34m\u001b[0m\u001b[0m\n\u001b[1;32m    564\u001b[0m   \u001b[0;31m# pylint: disable=g-bad-name\u001b[0m\u001b[0;34m\u001b[0m\u001b[0;34m\u001b[0m\u001b[0m\n",
            "\u001b[0;32m/usr/local/lib/python3.10/dist-packages/ee/image.py\u001b[0m in \u001b[0;36mgetThumbId\u001b[0;34m(self, params)\u001b[0m\n\u001b[1;32m    533\u001b[0m     \u001b[0mimage\u001b[0m\u001b[0;34m,\u001b[0m \u001b[0mparams\u001b[0m \u001b[0;34m=\u001b[0m \u001b[0mimage\u001b[0m\u001b[0;34m.\u001b[0m\u001b[0m_apply_visualization\u001b[0m\u001b[0;34m(\u001b[0m\u001b[0mparams\u001b[0m\u001b[0;34m)\u001b[0m\u001b[0;34m\u001b[0m\u001b[0;34m\u001b[0m\u001b[0m\n\u001b[1;32m    534\u001b[0m     \u001b[0mparams\u001b[0m\u001b[0;34m[\u001b[0m\u001b[0;34m'image'\u001b[0m\u001b[0;34m]\u001b[0m \u001b[0;34m=\u001b[0m \u001b[0mimage\u001b[0m\u001b[0;34m\u001b[0m\u001b[0;34m\u001b[0m\u001b[0m\n\u001b[0;32m--> 535\u001b[0;31m     \u001b[0;32mreturn\u001b[0m \u001b[0mdata\u001b[0m\u001b[0;34m.\u001b[0m\u001b[0mgetThumbId\u001b[0m\u001b[0;34m(\u001b[0m\u001b[0mparams\u001b[0m\u001b[0;34m)\u001b[0m\u001b[0;34m\u001b[0m\u001b[0;34m\u001b[0m\u001b[0m\n\u001b[0m\u001b[1;32m    536\u001b[0m \u001b[0;34m\u001b[0m\u001b[0m\n\u001b[1;32m    537\u001b[0m   \u001b[0;32mdef\u001b[0m \u001b[0mgetThumbURL\u001b[0m\u001b[0;34m(\u001b[0m\u001b[0mself\u001b[0m\u001b[0;34m,\u001b[0m \u001b[0mparams\u001b[0m\u001b[0;34m:\u001b[0m \u001b[0mOptional\u001b[0m\u001b[0;34m[\u001b[0m\u001b[0mDict\u001b[0m\u001b[0;34m[\u001b[0m\u001b[0mstr\u001b[0m\u001b[0;34m,\u001b[0m \u001b[0mAny\u001b[0m\u001b[0;34m]\u001b[0m\u001b[0;34m]\u001b[0m \u001b[0;34m=\u001b[0m \u001b[0;32mNone\u001b[0m\u001b[0;34m)\u001b[0m \u001b[0;34m->\u001b[0m \u001b[0mstr\u001b[0m\u001b[0;34m:\u001b[0m\u001b[0;34m\u001b[0m\u001b[0;34m\u001b[0m\u001b[0m\n",
            "\u001b[0;32m/usr/local/lib/python3.10/dist-packages/ee/data.py\u001b[0m in \u001b[0;36mgetThumbId\u001b[0;34m(params, thumbType)\u001b[0m\n\u001b[1;32m   1244\u001b[0m         \u001b[0mparams\u001b[0m\u001b[0;34m.\u001b[0m\u001b[0mget\u001b[0m\u001b[0;34m(\u001b[0m\u001b[0;34m'bands'\u001b[0m\u001b[0;34m)\u001b[0m\u001b[0;34m\u001b[0m\u001b[0;34m\u001b[0m\u001b[0m\n\u001b[1;32m   1245\u001b[0m     )\n\u001b[0;32m-> 1246\u001b[0;31m     result = _execute_cloud_call(\n\u001b[0m\u001b[1;32m   1247\u001b[0m         \u001b[0m_get_cloud_projects\u001b[0m\u001b[0;34m(\u001b[0m\u001b[0;34m)\u001b[0m\u001b[0;34m\u001b[0m\u001b[0;34m\u001b[0m\u001b[0m\n\u001b[1;32m   1248\u001b[0m         \u001b[0;34m.\u001b[0m\u001b[0mthumbnails\u001b[0m\u001b[0;34m(\u001b[0m\u001b[0;34m)\u001b[0m\u001b[0;34m\u001b[0m\u001b[0;34m\u001b[0m\u001b[0m\n",
            "\u001b[0;32m/usr/local/lib/python3.10/dist-packages/ee/data.py\u001b[0m in \u001b[0;36m_execute_cloud_call\u001b[0;34m(call, num_retries)\u001b[0m\n\u001b[1;32m    406\u001b[0m     \u001b[0;32mreturn\u001b[0m \u001b[0mcall\u001b[0m\u001b[0;34m.\u001b[0m\u001b[0mexecute\u001b[0m\u001b[0;34m(\u001b[0m\u001b[0mnum_retries\u001b[0m\u001b[0;34m=\u001b[0m\u001b[0mnum_retries\u001b[0m\u001b[0;34m)\u001b[0m\u001b[0;34m\u001b[0m\u001b[0;34m\u001b[0m\u001b[0m\n\u001b[1;32m    407\u001b[0m   \u001b[0;32mexcept\u001b[0m \u001b[0mgoogleapiclient\u001b[0m\u001b[0;34m.\u001b[0m\u001b[0merrors\u001b[0m\u001b[0;34m.\u001b[0m\u001b[0mHttpError\u001b[0m \u001b[0;32mas\u001b[0m \u001b[0me\u001b[0m\u001b[0;34m:\u001b[0m\u001b[0;34m\u001b[0m\u001b[0;34m\u001b[0m\u001b[0m\n\u001b[0;32m--> 408\u001b[0;31m     \u001b[0;32mraise\u001b[0m \u001b[0m_translate_cloud_exception\u001b[0m\u001b[0;34m(\u001b[0m\u001b[0me\u001b[0m\u001b[0;34m)\u001b[0m  \u001b[0;31m# pylint: disable=raise-missing-from\u001b[0m\u001b[0;34m\u001b[0m\u001b[0;34m\u001b[0m\u001b[0m\n\u001b[0m\u001b[1;32m    409\u001b[0m \u001b[0;34m\u001b[0m\u001b[0m\n\u001b[1;32m    410\u001b[0m \u001b[0;34m\u001b[0m\u001b[0m\n",
            "\u001b[0;31mEEException\u001b[0m: Image.visualize: Cannot provide a palette when visualizing more than one band."
          ]
        }
      ]
    },
    {
      "cell_type": "code",
      "source": [
        "print(ch4)\n",
        "\n",
        "geemap.show_image(ch4['start_image'])\n",
        "geemap.show_image(ch4['end_image'])\n",
        "geemap.show_image(ch4['change_image'])"
      ],
      "metadata": {
        "id": "a6M-F9F40iua"
      },
      "execution_count": null,
      "outputs": []
    },
    {
      "cell_type": "code",
      "source": [
        "def get_closest_images_ccd(s1_collection, start_date, end_date):\n",
        "    # return A list of 2 images containing the closest non-None images BEFORE the start and end dates.\n",
        "    start_images = s1_collection.filterDate('1900-01-01', start_date).sort('system:time_start',False)\n",
        "    end_images = s1_collection.filterDate('1900-01-01', end_date).sort('system:time_start',False)\n",
        "\n",
        "    # get the first non none image\n",
        "    start_img = None\n",
        "    end_img = None\n",
        "\n",
        "    # Iterate to find the first non-None image for the start date\n",
        "    start_list = start_images.toList(start_images.size()) # convert the collection to a list\n",
        "    for i in range(start_images.size().getInfo()):\n",
        "        img = ee.Image(start_list.get(i)) # get the image from the list using index i\n",
        "        if img.getInfo() is not None:\n",
        "            start_img = img\n",
        "            break\n",
        "\n",
        "    # Iterate to find the first non-None image for the end date\n",
        "    end_list = end_images.toList(end_images.size())\n",
        "    for i in range(end_images.size().getInfo()):\n",
        "        img = ee.Image(end_list.get(i))\n",
        "        if img.getInfo() is not None:\n",
        "            end_img = img\n",
        "            break\n",
        "\n",
        "    return [start_img, end_img]\n",
        ""
      ],
      "metadata": {
        "colab": {
          "base_uri": "https://localhost:8080/",
          "height": 17
        },
        "id": "GA1X5k98ayq0",
        "outputId": "c22a20e9-8422-43f4-89c2-486db628da96"
      },
      "execution_count": 15,
      "outputs": [
        {
          "output_type": "display_data",
          "data": {
            "text/plain": [
              "<IPython.core.display.HTML object>"
            ],
            "text/html": [
              "\n",
              "            <style>\n",
              "                .geemap-dark {\n",
              "                    --jp-widgets-color: white;\n",
              "                    --jp-widgets-label-color: white;\n",
              "                    --jp-ui-font-color1: white;\n",
              "                    --jp-layout-color2: #454545;\n",
              "                    background-color: #383838;\n",
              "                }\n",
              "\n",
              "                .geemap-dark .jupyter-button {\n",
              "                    --jp-layout-color3: #383838;\n",
              "                }\n",
              "\n",
              "                .geemap-colab {\n",
              "                    background-color: var(--colab-primary-surface-color, white);\n",
              "                }\n",
              "\n",
              "                .geemap-colab .jupyter-button {\n",
              "                    --jp-layout-color3: var(--colab-primary-surface-color, white);\n",
              "                }\n",
              "            </style>\n",
              "            "
            ]
          },
          "metadata": {}
        }
      ]
    },
    {
      "source": [
        "def detect_changes_ccd():\n",
        "    if True:\n",
        "        if True:\n",
        "            # Parse input parameters\n",
        "            aoi = {\"type\":\"FeatureCollection\",\"features\":[{\"type\":\"Feature\",\"properties\":{},\"geometry\":{\"type\":\"Polygon\",\"coordinates\":[[[82.134443,22.188232],[82.134443,22.224849],[82.222284,22.224849],[82.222284,22.188232],[82.134443,22.188232]]]}}]}\n",
        "            start_date =  \"2023-06-01\"\n",
        "            end_date = \"2024-05-08\"\n",
        "            aoi_geo = geemap.geojson_to_ee(aoi).geometry()\n",
        "\n",
        "            # Load Sentinel-1 imagery (using VV polarization for coherence)\n",
        "            s1_collection = ee.ImageCollection('COPERNICUS/S1_GRD') \\\n",
        "                .filterBounds(aoi_geo) \\\n",
        "                .filter(ee.Filter.listContains('transmitterReceiverPolarisation', 'VV'))\n",
        "            # print(f'{s1_collection.size().getInfo() = }')\n",
        "            if s1_collection.size().getInfo() == 0:\n",
        "                print(\"No Sentinel-1 imagery found for the specified dates and region.\")\n",
        "                return None\n",
        "\n",
        "            # Get the closest images\n",
        "            images = get_closest_images_ccd(s1_collection, start_date, end_date)\n",
        "            s1_start = images[0]\n",
        "            s1_end = images[1]\n",
        "\n",
        "            start_image_date = s1_start.date().format('YYYY-MM-dd HH:mm:ss').getInfo()\n",
        "            end_image_date = s1_end.date().format('YYYY-MM-dd HH:mm:ss').getInfo()\n",
        "\n",
        "            print(f'{start_image_date = }')\n",
        "            print(f'{end_image_date = }')\n",
        "\n",
        "            print(f'{type(s1_start) = }')\n",
        "            print(f'{type(s1_end) = }')\n",
        "\n",
        "            print(\"Get Info\")\n",
        "            print(f'{s1_start.getInfo() = }')\n",
        "            print(f'{s1_end.getInfo() = }')\n",
        "\n",
        "            # Calculate coherence\n",
        "            coherence = ee.Image.variance(s1_start, s1_end)\n",
        "\n",
        "            # Threshold coherence to identify changes\n",
        "            threshold = 0.5\n",
        "            significant_changes = coherence.lt(threshold)\n",
        "\n",
        "            # Convert changes to vectors\n",
        "            vectors = significant_changes.reduceToVectors(\n",
        "                geometry=aoi_geo,\n",
        "                scale=10,\n",
        "                geometryType='polygon',\n",
        "                maxPixels=1e9,\n",
        "                eightConnected=False\n",
        "            )\n",
        "\n",
        "            # Prepare outputs (using S1 for visualization)\n",
        "            start_image_url = s1_start.getThumbURL({\n",
        "                'min': -25,\n",
        "                'max': 0,\n",
        "                'dimensions': 1024,\n",
        "                'region': aoi_geo,\n",
        "                'bands': 'VV'\n",
        "            })\n",
        "\n",
        "            end_image_url = s1_end.getThumbURL({\n",
        "                'min': -25,\n",
        "                'max': 0,\n",
        "                'dimensions': 1024,\n",
        "                'region': aoi_geo,\n",
        "                'bands': 'VV'\n",
        "            })\n",
        "\n",
        "            change_image_url = significant_changes.getThumbURL({\n",
        "                'min': 0,\n",
        "                'max': 1,\n",
        "                'dimensions': 1024,\n",
        "                'region': aoi_geo,\n",
        "                'palette': ['black', 'white']\n",
        "            })\n",
        "\n",
        "            # Get GeoJSON of changes\n",
        "            geojson = geemap.ee_to_geojson(vectors)\n",
        "\n",
        "            # Prepare the response\n",
        "            response = {\n",
        "                'start_image': start_image_url,\n",
        "                'end_image': end_image_url,\n",
        "                'change_image': change_image_url,\n",
        "                'changes_geojson': geojson,\n",
        "                'start_date': start_image_date,\n",
        "                'end_date': end_image_date,\n",
        "                'bounds' : aoi_geo.bounds().getInfo(),\n",
        "                'are_images_available': start_image_date != end_image_date\n",
        "            }\n",
        "\n",
        "            return response\n",
        "\n",
        "ch_ccd = detect_changes_ccd()"
      ],
      "cell_type": "code",
      "metadata": {
        "colab": {
          "base_uri": "https://localhost:8080/",
          "height": 439
        },
        "id": "d46P0Y-TZNEq",
        "outputId": "f6317449-504d-4870-8121-7797b71c09a3"
      },
      "execution_count": 34,
      "outputs": [
        {
          "output_type": "display_data",
          "data": {
            "text/plain": [
              "<IPython.core.display.HTML object>"
            ],
            "text/html": [
              "\n",
              "            <style>\n",
              "                .geemap-dark {\n",
              "                    --jp-widgets-color: white;\n",
              "                    --jp-widgets-label-color: white;\n",
              "                    --jp-ui-font-color1: white;\n",
              "                    --jp-layout-color2: #454545;\n",
              "                    background-color: #383838;\n",
              "                }\n",
              "\n",
              "                .geemap-dark .jupyter-button {\n",
              "                    --jp-layout-color3: #383838;\n",
              "                }\n",
              "\n",
              "                .geemap-colab {\n",
              "                    background-color: var(--colab-primary-surface-color, white);\n",
              "                }\n",
              "\n",
              "                .geemap-colab .jupyter-button {\n",
              "                    --jp-layout-color3: var(--colab-primary-surface-color, white);\n",
              "                }\n",
              "            </style>\n",
              "            "
            ]
          },
          "metadata": {}
        },
        {
          "output_type": "stream",
          "name": "stdout",
          "text": [
            "start_image_date = '2023-05-29 00:21:20'\n",
            "end_image_date = '2024-04-29 00:21:23'\n",
            "type(s1_start) = <class 'ee.image.Image'>\n",
            "type(s1_end) = <class 'ee.image.Image'>\n",
            "Get Info\n",
            "s1_start.getInfo() = {'type': 'Image', 'bands': [{'id': 'VV', 'data_type': {'type': 'PixelType', 'precision': 'double'}, 'dimensions': [28550, 21879], 'crs': 'EPSG:32644', 'crs_transform': [10, 0, 613261.1218488427, 0, -10, 2589808.9673147397]}, {'id': 'VH', 'data_type': {'type': 'PixelType', 'precision': 'double'}, 'dimensions': [28550, 21879], 'crs': 'EPSG:32644', 'crs_transform': [10, 0, 613261.1218488427, 0, -10, 2589808.9673147397]}, {'id': 'angle', 'data_type': {'type': 'PixelType', 'precision': 'float'}, 'dimensions': [21, 10], 'crs': 'EPSG:32644', 'crs_transform': [-12658.860430433764, -3303.655031815055, 894519.0615365268, 2127.6003053602763, -20210.643526479602, 2542921.4717027587]}], 'version': 1727677363269847, 'id': 'COPERNICUS/S1_GRD/S1A_IW_GRDH_1SDV_20230529T002120_20230529T002145_048741_05DCA2_B3A2', 'properties': {'SNAP_Graph_Processing_Framework_GPF_vers': '8.0.3', 'SLC_Processing_facility_org': 'ESA', 'SLC_Processing_facility_country': 'Italy', 'GRD_Post_Processing_facility_org': 'ESA', 'transmitterReceiverPolarisation': ['VV', 'VH'], 'GRD_Post_Processing_start': 1685327258526, 'sliceNumber': 12, 'GRD_Post_Processing_facility_name': 'Copernicus Ground Segment', 'resolution': 'H', 'SLC_Processing_facility_name': 'Copernicus Ground Segment', 'system:footprint': {'type': 'LinearRing', 'coordinates': [[82.42919038246521, 23.365297577185608], [82.42812209181623, 23.36151185774046], [82.3962683217881, 23.198687443513013], [82.33002798681605, 22.855830413082057], [82.2641650117747, 22.512915759937272], [82.14245692648302, 21.85734040818244], [83.33737329044101, 21.65176404360108], [84.53039167374041, 21.43747397347931], [84.53219972018051, 21.44435479180633], [84.53544252877901, 21.458904781677752], [84.61749136051772, 21.850678353731197], [84.7001523564427, 22.242333835933987], [84.71415602850347, 22.31021068218645], [84.75644706246797, 22.52003903237635], [84.81152678096358, 22.79528693757878], [84.84131649671755, 22.949105495742923], [84.25005094465486, 23.054773063964426], [83.33234402147876, 23.21408796991716], [82.77895597160895, 23.30739633345904], [82.42919038246521, 23.365297577185608]]}, 'familyName': 'SENTINEL-1', 'segmentStartTime': 1685319401452, 'missionDataTakeID': 384162, 'GRD_Post_Processing_facility_country': 'Italy', 'nssdcIdentifier': '2014-016A', 'productClass': 'S', 'phaseIdentifier': 1, 'orbitProperties_pass': 'DESCENDING', 'relativeOrbitNumber_stop': 19, 'system:time_end': 1685319680000, 'platformHeading': -167.6937603350032, 'SLC_Processing_facility_site': 'Production Service-SERCO', 'GRD_Post_Processing_stop': 1685327956000, 'system:time_start': 1685319680000, 'instrumentMode': 'IW', 'totalSlices': 16, 'SLC_Processing_stop': 1685327842000, 'startTimeANX': 2589577, 'SLC_Processing_start': 1685327449000, 'resolution_meters': 10, 'instrumentSwath': 'IW', 'relativeOrbitNumber_start': 19, 'productTimelinessCategory': 'Fast-24h', 'SLC_Processing_software_name': 'Sentinel-1 IPF', 'sliceProductFlag': 'true', 'S1TBX_Calibration_vers': '8.0.3', 'orbitNumber_start': 48741, 'GRD_Post_Processing_facility_site': 'Production Service-SERCO', 'instrument': 'Synthetic Aperture Radar', 'GRD_Post_Processing_software_name': 'Sentinel-1 IPF', 'platform_number': 'A', 'S1TBX_SAR_Processing_vers': '8.0.3', 'productType': 'GRD', 'orbitProperties_ascendingNodeTime': 1685317090576, 'stopTimeANX': 2614576, 'productComposition': 'Slice', 'productClassDescription': 'SAR Standard L1 Product', 'GRD_Post_Processing_software_version': '003.61', 'SLC_Processing_software_version': '003.61', 'orbitNumber_stop': 48741, 'instrumentConfigurationID': 7, 'system:asset_size': 4073469128, 'cycleNumber': 293, 'system:index': 'S1A_IW_GRDH_1SDV_20230529T002120_20230529T002145_048741_05DCA2_B3A2'}}\n",
            "s1_end.getInfo() = {'type': 'Image', 'bands': [{'id': 'VV', 'data_type': {'type': 'PixelType', 'precision': 'double'}, 'dimensions': [28550, 21880], 'crs': 'EPSG:32644', 'crs_transform': [10, 0, 613278.9685987293, 0, -10, 2589814.0987915145]}, {'id': 'VH', 'data_type': {'type': 'PixelType', 'precision': 'double'}, 'dimensions': [28550, 21880], 'crs': 'EPSG:32644', 'crs_transform': [10, 0, 613278.9685987293, 0, -10, 2589814.0987915145]}, {'id': 'angle', 'data_type': {'type': 'PixelType', 'precision': 'float'}, 'dimensions': [21, 10], 'crs': 'EPSG:32644', 'crs_transform': [-12658.856262972346, -3303.319743985776, 894536.8362957491, 2127.4739455496892, -20210.643358517904, 2542929.371297156]}], 'version': 1727677363269847, 'id': 'COPERNICUS/S1_GRD/S1A_IW_GRDH_1SDV_20240429T002123_20240429T002148_053641_068394_FCFE', 'properties': {'SNAP_Graph_Processing_Framework_GPF_vers': '9.0.0', 'SLC_Processing_facility_org': 'ESA', 'SLC_Processing_facility_country': 'Italy', 'GRD_Post_Processing_facility_org': 'ESA', 'transmitterReceiverPolarisation': ['VV', 'VH'], 'GRD_Post_Processing_start': 1714357946315, 'sliceNumber': 12, 'GRD_Post_Processing_facility_name': 'Copernicus Ground Segment', 'resolution': 'H', 'SLC_Processing_facility_name': 'Copernicus Ground Segment', 'system:footprint': {'type': 'LinearRing', 'coordinates': [[83.2644795584147, 23.22572272027013], [82.91668657073326, 23.284443288600684], [82.42917649148488, 23.365372291404938], [82.42495879671148, 23.344511376039954], [82.39644592907139, 23.199003136836634], [82.33020236783561, 22.855875220010258], [82.26406099752853, 22.51125105036184], [82.14261317451601, 21.85729464195913], [83.33118828459439, 21.652845455795937], [84.53058228754942, 21.4374457276827], [84.53253782278979, 21.445038133228298], [84.53549307750585, 21.458360945363037], [84.61766483594842, 21.850720816452046], [84.70032638064737, 22.242376125468418], [84.71237535647384, 22.30078421677809], [84.75662147345783, 22.520081234132945], [84.81170158076515, 22.795329048270457], [84.84106867428416, 22.94696709925854], [84.84113287750317, 22.94923812938809], [84.29576815812543, 23.046779652875962], [83.2644795584147, 23.22572272027013]]}, 'familyName': 'SENTINEL-1', 'segmentStartTime': 1714349805067, 'missionDataTakeID': 426900, 'GRD_Post_Processing_facility_country': 'Italy', 'nssdcIdentifier': '2014-016A', 'productClass': 'S', 'phaseIdentifier': 1, 'orbitProperties_pass': 'DESCENDING', 'relativeOrbitNumber_stop': 19, 'system:time_end': 1714350083000, 'platformHeading': -167.6943842397291, 'SLC_Processing_facility_site': 'Production Service-SERCO', 'GRD_Post_Processing_stop': 1714358423000, 'system:time_start': 1714350083000, 'instrumentMode': 'IW', 'totalSlices': 16, 'SLC_Processing_stop': 1714358356000, 'startTimeANX': 2589572, 'SLC_Processing_start': 1714358084000, 'resolution_meters': 10, 'instrumentSwath': 'IW', 'relativeOrbitNumber_start': 19, 'productTimelinessCategory': 'Fast-24h', 'SLC_Processing_software_name': 'Sentinel-1 IPF', 'sliceProductFlag': 'true', 'S1TBX_Calibration_vers': '9.0.0', 'orbitNumber_start': 53641, 'S1TBX_IO_Orbit_Ephemeris_vers': '9.0.0', 'GRD_Post_Processing_facility_site': 'Production Service-SERCO', 'instrument': 'Synthetic Aperture Radar', 'GRD_Post_Processing_software_name': 'Sentinel-1 IPF', 'platform_number': 'A', 'S1TBX_SAR_Processing_vers': '9.0.0', 'productType': 'GRD', 'orbitProperties_ascendingNodeTime': 1714347494195, 'stopTimeANX': 2614572, 'productComposition': 'Slice', 'productClassDescription': 'SAR Standard L1 Product', 'GRD_Post_Processing_software_version': '003.71', 'SLC_Processing_software_version': '003.71', 'orbitNumber_stop': 53641, 'instrumentConfigurationID': 7, 'system:asset_size': 4072860782, 'cycleNumber': 321, 'system:index': 'S1A_IW_GRDH_1SDV_20240429T002123_20240429T002148_053641_068394_FCFE'}}\n"
          ]
        },
        {
          "output_type": "error",
          "ename": "AttributeError",
          "evalue": "type object 'Image' has no attribute 'variance'",
          "traceback": [
            "\u001b[0;31m---------------------------------------------------------------------------\u001b[0m",
            "\u001b[0;31mAttributeError\u001b[0m                            Traceback (most recent call last)",
            "\u001b[0;32m<ipython-input-34-01a313e86a66>\u001b[0m in \u001b[0;36m<cell line: 95>\u001b[0;34m()\u001b[0m\n\u001b[1;32m     93\u001b[0m             \u001b[0;32mreturn\u001b[0m \u001b[0mresponse\u001b[0m\u001b[0;34m\u001b[0m\u001b[0;34m\u001b[0m\u001b[0m\n\u001b[1;32m     94\u001b[0m \u001b[0;34m\u001b[0m\u001b[0m\n\u001b[0;32m---> 95\u001b[0;31m \u001b[0mch_ccd\u001b[0m \u001b[0;34m=\u001b[0m \u001b[0mdetect_changes_ccd\u001b[0m\u001b[0;34m(\u001b[0m\u001b[0;34m)\u001b[0m\u001b[0;34m\u001b[0m\u001b[0;34m\u001b[0m\u001b[0m\n\u001b[0m",
            "\u001b[0;32m<ipython-input-34-01a313e86a66>\u001b[0m in \u001b[0;36mdetect_changes_ccd\u001b[0;34m()\u001b[0m\n\u001b[1;32m     36\u001b[0m \u001b[0;34m\u001b[0m\u001b[0m\n\u001b[1;32m     37\u001b[0m             \u001b[0;31m# Calculate coherence\u001b[0m\u001b[0;34m\u001b[0m\u001b[0;34m\u001b[0m\u001b[0m\n\u001b[0;32m---> 38\u001b[0;31m             \u001b[0mcoherence\u001b[0m \u001b[0;34m=\u001b[0m \u001b[0mee\u001b[0m\u001b[0;34m.\u001b[0m\u001b[0mImage\u001b[0m\u001b[0;34m.\u001b[0m\u001b[0mvariance\u001b[0m\u001b[0;34m(\u001b[0m\u001b[0ms1_start\u001b[0m\u001b[0;34m,\u001b[0m \u001b[0ms1_end\u001b[0m\u001b[0;34m)\u001b[0m\u001b[0;34m\u001b[0m\u001b[0;34m\u001b[0m\u001b[0m\n\u001b[0m\u001b[1;32m     39\u001b[0m \u001b[0;34m\u001b[0m\u001b[0m\n\u001b[1;32m     40\u001b[0m             \u001b[0;31m# Threshold coherence to identify changes\u001b[0m\u001b[0;34m\u001b[0m\u001b[0;34m\u001b[0m\u001b[0m\n",
            "\u001b[0;31mAttributeError\u001b[0m: type object 'Image' has no attribute 'variance'"
          ]
        }
      ]
    },
    {
      "cell_type": "code",
      "source": [
        "# Coherent Change Detection\n",
        "print(ch_ccd)\n",
        "\n",
        "geemap.show_image(ch_ccd['start_image'])\n",
        "geemap.show_image(ch_ccd['end_image'])\n",
        "geemap.show_image(ch_ccd['change_image'])"
      ],
      "metadata": {
        "id": "DIHy4x0JZUIP"
      },
      "execution_count": null,
      "outputs": []
    },
    {
      "cell_type": "code",
      "source": [
        "# Define your region of interest (replace with your actual coordinates)\n",
        "aoi = ee.Geometry.Polygon(\n",
        "        [[[8.473892211914062, 49.98081240937428],\n",
        "          [8.658599853515625, 49.98081240937428],\n",
        "          [8.658599853515625, 50.06066538593667],\n",
        "          [8.473892211914062, 50.06066538593667],\n",
        "          [8.473892211914062, 49.98081240937428]]])\n",
        "\n",
        "# Dates for your two images (replace with your actual dates)\n",
        "date1 = '2020-08-01'\n",
        "date2 = '2020-08-15'\n",
        "\n",
        "# Get the two images from the COPERNICUS/S1_GRD collection\n",
        "image1 = ee.ImageCollection('COPERNICUS/S1_GRD') \\\n",
        "    .filterBounds(aoi) \\\n",
        "    .filterDate(date1, ee.Date(date1).advance(1, 'day')) \\\n",
        "    .first()\n",
        "\n",
        "image2 = ee.ImageCollection('COPERNICUS/S1_GRD') \\\n",
        "    .filterBounds(aoi) \\\n",
        "    .filterDate(date2, ee.Date(date2).advance(1, 'day')) \\\n",
        "    .first()\n",
        "\n",
        "if image1.size().getInfo() == 0 or image2.size().getInfo() == 0:\n",
        "  print(\"No images found for the specified date range and AOI.\")\n",
        "\n",
        "# Select the VV band from both images\n",
        "vv1 = image1.select('VV')\n",
        "vv2 = image2.select('VV')\n",
        "\n",
        "# Calculate the difference between the two images\n",
        "diff = vv2.subtract(vv1)\n",
        "\n",
        "# Calculate the variance of the difference image\n",
        "variance = diff.reduceRegion(\n",
        "  reducer= ee.Reducer.variance(),\n",
        "  geometry= aoi,\n",
        "  scale= 10 # Adjust scale if necessary\n",
        ").get('VV')\n",
        "\n",
        "# Print the variance\n",
        "print(variance.getInfo())\n",
        "\n",
        "# Display the variance image\n",
        "# Import the Folium library.\n",
        "import folium\n",
        "# Define a method for displaying Earth Engine image tiles to folium map.\n",
        "def add_ee_layer(self, ee_image_object, vis_params, name):\n",
        "    map_id_dict = ee.Image(ee_image_object).getMapId(vis_params)\n",
        "    folium.raster_layers.TileLayer(\n",
        "      tiles = map_id_dict['tile_fetcher'].url_format,\n",
        "      attr = 'Map Data &copy; <a href=\"https://earthengine.google.com/\">Google Earth Engine</a>',\n",
        "      name = name,\n",
        "      overlay = True,\n",
        "      control = True\n",
        "    ).add_to(self)\n",
        "\n",
        "# Add EE drawing method to folium.\n",
        "folium.Map.add_ee_layer = add_ee_layer\n",
        "\n",
        "# Create a folium map object.\n",
        "my_map = folium.Map(location=[50.020, 8.560], zoom_start=10)\n",
        "\n",
        "# Add the variance layer to the map\n",
        "my_map.add_ee_layer(variance, {'min': 0, 'max': 100}, 'Variance')\n",
        "\n",
        "# Display the map.\n",
        "display(my_map)"
      ],
      "metadata": {
        "colab": {
          "base_uri": "https://localhost:8080/",
          "height": 211
        },
        "id": "jfzI1n1CqwS7",
        "outputId": "6a80830c-9f44-410d-b40e-c2e492369e33"
      },
      "execution_count": 28,
      "outputs": [
        {
          "output_type": "display_data",
          "data": {
            "text/plain": [
              "<IPython.core.display.HTML object>"
            ],
            "text/html": [
              "\n",
              "            <style>\n",
              "                .geemap-dark {\n",
              "                    --jp-widgets-color: white;\n",
              "                    --jp-widgets-label-color: white;\n",
              "                    --jp-ui-font-color1: white;\n",
              "                    --jp-layout-color2: #454545;\n",
              "                    background-color: #383838;\n",
              "                }\n",
              "\n",
              "                .geemap-dark .jupyter-button {\n",
              "                    --jp-layout-color3: #383838;\n",
              "                }\n",
              "\n",
              "                .geemap-colab {\n",
              "                    background-color: var(--colab-primary-surface-color, white);\n",
              "                }\n",
              "\n",
              "                .geemap-colab .jupyter-button {\n",
              "                    --jp-layout-color3: var(--colab-primary-surface-color, white);\n",
              "                }\n",
              "            </style>\n",
              "            "
            ]
          },
          "metadata": {}
        },
        {
          "output_type": "error",
          "ename": "AttributeError",
          "evalue": "'Image' object has no attribute 'size'",
          "traceback": [
            "\u001b[0;31m---------------------------------------------------------------------------\u001b[0m",
            "\u001b[0;31mAttributeError\u001b[0m                            Traceback (most recent call last)",
            "\u001b[0;32m<ipython-input-28-71a42afd68ca>\u001b[0m in \u001b[0;36m<cell line: 24>\u001b[0;34m()\u001b[0m\n\u001b[1;32m     22\u001b[0m     \u001b[0;34m.\u001b[0m\u001b[0mfirst\u001b[0m\u001b[0;34m(\u001b[0m\u001b[0;34m)\u001b[0m\u001b[0;34m\u001b[0m\u001b[0;34m\u001b[0m\u001b[0m\n\u001b[1;32m     23\u001b[0m \u001b[0;34m\u001b[0m\u001b[0m\n\u001b[0;32m---> 24\u001b[0;31m \u001b[0;32mif\u001b[0m \u001b[0mimage1\u001b[0m\u001b[0;34m.\u001b[0m\u001b[0msize\u001b[0m\u001b[0;34m(\u001b[0m\u001b[0;34m)\u001b[0m\u001b[0;34m.\u001b[0m\u001b[0mgetInfo\u001b[0m\u001b[0;34m(\u001b[0m\u001b[0;34m)\u001b[0m \u001b[0;34m==\u001b[0m \u001b[0;36m0\u001b[0m \u001b[0;32mor\u001b[0m \u001b[0mimage2\u001b[0m\u001b[0;34m.\u001b[0m\u001b[0msize\u001b[0m\u001b[0;34m(\u001b[0m\u001b[0;34m)\u001b[0m\u001b[0;34m.\u001b[0m\u001b[0mgetInfo\u001b[0m\u001b[0;34m(\u001b[0m\u001b[0;34m)\u001b[0m \u001b[0;34m==\u001b[0m \u001b[0;36m0\u001b[0m\u001b[0;34m:\u001b[0m\u001b[0;34m\u001b[0m\u001b[0;34m\u001b[0m\u001b[0m\n\u001b[0m\u001b[1;32m     25\u001b[0m   \u001b[0mprint\u001b[0m\u001b[0;34m(\u001b[0m\u001b[0;34m\"No images found for the specified date range and AOI.\"\u001b[0m\u001b[0;34m)\u001b[0m\u001b[0;34m\u001b[0m\u001b[0;34m\u001b[0m\u001b[0m\n\u001b[1;32m     26\u001b[0m \u001b[0;34m\u001b[0m\u001b[0m\n",
            "\u001b[0;31mAttributeError\u001b[0m: 'Image' object has no attribute 'size'"
          ]
        }
      ]
    },
    {
      "cell_type": "code",
      "source": [
        "!pip install  geojsonio"
      ],
      "metadata": {
        "colab": {
          "base_uri": "https://localhost:8080/",
          "height": 468
        },
        "id": "RRwFXSY_x_vQ",
        "outputId": "d2290f46-f7d1-4064-d848-4530466e34b1"
      },
      "execution_count": 35,
      "outputs": [
        {
          "output_type": "display_data",
          "data": {
            "text/plain": [
              "<IPython.core.display.HTML object>"
            ],
            "text/html": [
              "\n",
              "            <style>\n",
              "                .geemap-dark {\n",
              "                    --jp-widgets-color: white;\n",
              "                    --jp-widgets-label-color: white;\n",
              "                    --jp-ui-font-color1: white;\n",
              "                    --jp-layout-color2: #454545;\n",
              "                    background-color: #383838;\n",
              "                }\n",
              "\n",
              "                .geemap-dark .jupyter-button {\n",
              "                    --jp-layout-color3: #383838;\n",
              "                }\n",
              "\n",
              "                .geemap-colab {\n",
              "                    background-color: var(--colab-primary-surface-color, white);\n",
              "                }\n",
              "\n",
              "                .geemap-colab .jupyter-button {\n",
              "                    --jp-layout-color3: var(--colab-primary-surface-color, white);\n",
              "                }\n",
              "            </style>\n",
              "            "
            ]
          },
          "metadata": {}
        },
        {
          "output_type": "stream",
          "name": "stdout",
          "text": [
            "Collecting geojsonio\n",
            "  Downloading geojsonio-0.0.3.tar.gz (4.7 kB)\n",
            "  Preparing metadata (setup.py) ... \u001b[?25l\u001b[?25hdone\n",
            "Collecting github3.py (from geojsonio)\n",
            "  Downloading github3.py-4.0.1-py3-none-any.whl.metadata (3.9 kB)\n",
            "Requirement already satisfied: six in /usr/local/lib/python3.10/dist-packages (from geojsonio) (1.16.0)\n",
            "Requirement already satisfied: pyjwt>=2.3.0 in /usr/local/lib/python3.10/dist-packages (from pyjwt[crypto]>=2.3.0->github3.py->geojsonio) (2.9.0)\n",
            "Requirement already satisfied: python-dateutil>=2.6.0 in /usr/local/lib/python3.10/dist-packages (from github3.py->geojsonio) (2.8.2)\n",
            "Requirement already satisfied: requests>=2.18 in /usr/local/lib/python3.10/dist-packages (from github3.py->geojsonio) (2.32.3)\n",
            "Requirement already satisfied: uritemplate>=3.0.0 in /usr/local/lib/python3.10/dist-packages (from github3.py->geojsonio) (4.1.1)\n",
            "Requirement already satisfied: cryptography>=3.4.0 in /usr/local/lib/python3.10/dist-packages (from pyjwt[crypto]>=2.3.0->github3.py->geojsonio) (43.0.1)\n",
            "Requirement already satisfied: charset-normalizer<4,>=2 in /usr/local/lib/python3.10/dist-packages (from requests>=2.18->github3.py->geojsonio) (3.3.2)\n",
            "Requirement already satisfied: idna<4,>=2.5 in /usr/local/lib/python3.10/dist-packages (from requests>=2.18->github3.py->geojsonio) (3.10)\n",
            "Requirement already satisfied: urllib3<3,>=1.21.1 in /usr/local/lib/python3.10/dist-packages (from requests>=2.18->github3.py->geojsonio) (2.2.3)\n",
            "Requirement already satisfied: certifi>=2017.4.17 in /usr/local/lib/python3.10/dist-packages (from requests>=2.18->github3.py->geojsonio) (2024.8.30)\n",
            "Requirement already satisfied: cffi>=1.12 in /usr/local/lib/python3.10/dist-packages (from cryptography>=3.4.0->pyjwt[crypto]>=2.3.0->github3.py->geojsonio) (1.17.1)\n",
            "Requirement already satisfied: pycparser in /usr/local/lib/python3.10/dist-packages (from cffi>=1.12->cryptography>=3.4.0->pyjwt[crypto]>=2.3.0->github3.py->geojsonio) (2.22)\n",
            "Downloading github3.py-4.0.1-py3-none-any.whl (151 kB)\n",
            "\u001b[2K   \u001b[90m━━━━━━━━━━━━━━━━━━━━━━━━━━━━━━━━━━━━━━━━\u001b[0m \u001b[32m151.8/151.8 kB\u001b[0m \u001b[31m6.6 MB/s\u001b[0m eta \u001b[36m0:00:00\u001b[0m\n",
            "\u001b[?25hBuilding wheels for collected packages: geojsonio\n",
            "  Building wheel for geojsonio (setup.py) ... \u001b[?25l\u001b[?25hdone\n",
            "  Created wheel for geojsonio: filename=geojsonio-0.0.3-py3-none-any.whl size=5022 sha256=4bfca11df7384fd26c63060e395e39b7cdb6088dff5d5859acf604aa2019881c\n",
            "  Stored in directory: /root/.cache/pip/wheels/5b/53/d5/01006178d29712c91b7917f736192c5bb5fcf6e4a06816b903\n",
            "Successfully built geojsonio\n",
            "Installing collected packages: github3.py, geojsonio\n",
            "Successfully installed geojsonio-0.0.3 github3.py-4.0.1\n"
          ]
        }
      ]
    },
    {
      "cell_type": "code",
      "source": [
        "!pip install rasterio"
      ],
      "metadata": {
        "colab": {
          "base_uri": "https://localhost:8080/",
          "height": 364
        },
        "id": "oaTCFyuhx_tE",
        "outputId": "ef5c2551-ad4e-46ea-b52a-112caceab5c2"
      },
      "execution_count": 43,
      "outputs": [
        {
          "output_type": "display_data",
          "data": {
            "text/plain": [
              "<IPython.core.display.HTML object>"
            ],
            "text/html": [
              "\n",
              "            <style>\n",
              "                .geemap-dark {\n",
              "                    --jp-widgets-color: white;\n",
              "                    --jp-widgets-label-color: white;\n",
              "                    --jp-ui-font-color1: white;\n",
              "                    --jp-layout-color2: #454545;\n",
              "                    background-color: #383838;\n",
              "                }\n",
              "\n",
              "                .geemap-dark .jupyter-button {\n",
              "                    --jp-layout-color3: #383838;\n",
              "                }\n",
              "\n",
              "                .geemap-colab {\n",
              "                    background-color: var(--colab-primary-surface-color, white);\n",
              "                }\n",
              "\n",
              "                .geemap-colab .jupyter-button {\n",
              "                    --jp-layout-color3: var(--colab-primary-surface-color, white);\n",
              "                }\n",
              "            </style>\n",
              "            "
            ]
          },
          "metadata": {}
        },
        {
          "output_type": "stream",
          "name": "stdout",
          "text": [
            "Collecting rasterio\n",
            "  Downloading rasterio-1.4.0-cp310-cp310-manylinux_2_17_x86_64.manylinux2014_x86_64.whl.metadata (9.0 kB)\n",
            "Collecting affine (from rasterio)\n",
            "  Downloading affine-2.4.0-py3-none-any.whl.metadata (4.0 kB)\n",
            "Requirement already satisfied: attrs in /usr/local/lib/python3.10/dist-packages (from rasterio) (24.2.0)\n",
            "Requirement already satisfied: certifi in /usr/local/lib/python3.10/dist-packages (from rasterio) (2024.8.30)\n",
            "Requirement already satisfied: click>=4.0 in /usr/local/lib/python3.10/dist-packages (from rasterio) (8.1.7)\n",
            "Collecting cligj>=0.5 (from rasterio)\n",
            "  Downloading cligj-0.7.2-py3-none-any.whl.metadata (5.0 kB)\n",
            "Requirement already satisfied: numpy>=1.24 in /usr/local/lib/python3.10/dist-packages (from rasterio) (1.26.4)\n",
            "Collecting click-plugins (from rasterio)\n",
            "  Downloading click_plugins-1.1.1-py2.py3-none-any.whl.metadata (6.4 kB)\n",
            "Requirement already satisfied: pyparsing in /usr/local/lib/python3.10/dist-packages (from rasterio) (3.1.4)\n",
            "Downloading rasterio-1.4.0-cp310-cp310-manylinux_2_17_x86_64.manylinux2014_x86_64.whl (22.2 MB)\n",
            "\u001b[2K   \u001b[90m━━━━━━━━━━━━━━━━━━━━━━━━━━━━━━━━━━━━━━━━\u001b[0m \u001b[32m22.2/22.2 MB\u001b[0m \u001b[31m64.2 MB/s\u001b[0m eta \u001b[36m0:00:00\u001b[0m\n",
            "\u001b[?25hDownloading cligj-0.7.2-py3-none-any.whl (7.1 kB)\n",
            "Downloading affine-2.4.0-py3-none-any.whl (15 kB)\n",
            "Downloading click_plugins-1.1.1-py2.py3-none-any.whl (7.5 kB)\n",
            "Installing collected packages: cligj, click-plugins, affine, rasterio\n",
            "Successfully installed affine-2.4.0 click-plugins-1.1.1 cligj-0.7.2 rasterio-1.4.0\n"
          ]
        }
      ]
    },
    {
      "cell_type": "code",
      "source": [
        "# import ee\n",
        "import cv2\n",
        "import numpy as np\n",
        "from skimage.morphology import opening, closing\n",
        "import geojsonio\n",
        "import geemap\n",
        "import rasterio\n",
        "\n",
        "def detect_changes_gee(image1, image2, threshold=0.1):\n",
        "    # Preprocessing\n",
        "    # Ensure images are in grayscale and normalized\n",
        "    gray1 = image1.select('VV').multiply(10000).cast('uint8')\n",
        "    gray2 = image2.select('VV').multiply(10000).cast('uint8')\n",
        "\n",
        "    # Download images as GeoTIFF files (uncomment if preferred)\n",
        "    task1 = ee.batch.Export.image(image=gray1)\n",
        "    task2 = ee.batch.Export.image(image=gray2)\n",
        "\n",
        "    # Start the tasks and retrieve the download URLs\n",
        "    task1.start()\n",
        "    task2.start()\n",
        "    url1 = task1.status()['downloadUrls'][0]\n",
        "    url2 = task2.status()['downloadUrls'][0]\n",
        "\n",
        "    # Wait for the downloads to complete (optional)\n",
        "    ee.batch.Task.wait_for_all(task_ids=[task1.id, task2.id])\n",
        "\n",
        "    # Load the downloaded GeoTIFF files\n",
        "    with rasterio.open(url1) as src:\n",
        "        np_gray1 = src.read(1).astype(np.uint8)  # Read the first band (VV)\n",
        "    with rasterio.open(url2) as src:\n",
        "        np_gray2 = src.read(1).astype(np.uint8)  # Read the first band (VV)\n",
        "\n",
        "    # Download images directly to NumPy arrays (Option 2: Direct download)\n",
        "    # np_gray1 = ee.Image(gray1).download(scale=10, projection='EPSG:4326').select('VV').array().astype(np.uint8)\n",
        "    # np_gray2 = ee.Image(gray2).download(scale=10, projection='EPSG:4326').select('VV').array().astype(np.uint8)\n",
        "\n",
        "    # Change detection (pixel-based difference)\n",
        "    change_map = np.abs(np_gray1 - np_gray2)\n",
        "\n",
        "    # Post-processing\n",
        "    change_map = opening(change_map)\n",
        "    change_map = closing(change_map)\n",
        "    change_map = (change_map > threshold).astype(np.uint8) * 255\n",
        "\n",
        "    # Vectorization\n",
        "    contours, _ = cv2.findContours(change_map, cv2.RETR_EXTERNAL, cv2.CHAIN_APPROX_SIMPLE)\n",
        "    polygons = [polygon.tolist() for polygon in contours]\n",
        "    geojson_data = {\"type\": \"FeatureCollection\", \"features\": [{\"type\": \"Feature\", \"properties\": {}, \"geometry\": {\"type\": \"Polygon\", \"coordinates\": polygon}} for polygon in polygons]}\n",
        "\n",
        "    # Visualization (optional)\n",
        "    # Create an EE image from the change map\n",
        "    change_image = ee.Image.fromByte(change_map)\n",
        "    # ... (add code to display the change image using GEE's visualization tools)\n",
        "\n",
        "    return change_image, geojson_data"
      ],
      "metadata": {
        "colab": {
          "base_uri": "https://localhost:8080/",
          "height": 17
        },
        "id": "izy4gjqcqwQo",
        "outputId": "c4b6a1d8-305b-41ed-b3b9-3e6dd6b95879"
      },
      "execution_count": 50,
      "outputs": [
        {
          "output_type": "display_data",
          "data": {
            "text/plain": [
              "<IPython.core.display.HTML object>"
            ],
            "text/html": [
              "\n",
              "            <style>\n",
              "                .geemap-dark {\n",
              "                    --jp-widgets-color: white;\n",
              "                    --jp-widgets-label-color: white;\n",
              "                    --jp-ui-font-color1: white;\n",
              "                    --jp-layout-color2: #454545;\n",
              "                    background-color: #383838;\n",
              "                }\n",
              "\n",
              "                .geemap-dark .jupyter-button {\n",
              "                    --jp-layout-color3: #383838;\n",
              "                }\n",
              "\n",
              "                .geemap-colab {\n",
              "                    background-color: var(--colab-primary-surface-color, white);\n",
              "                }\n",
              "\n",
              "                .geemap-colab .jupyter-button {\n",
              "                    --jp-layout-color3: var(--colab-primary-surface-color, white);\n",
              "                }\n",
              "            </style>\n",
              "            "
            ]
          },
          "metadata": {}
        }
      ]
    },
    {
      "cell_type": "code",
      "source": [
        "\n",
        "aoi = {\"type\":\"FeatureCollection\",\"features\":[{\"type\":\"Feature\",\"properties\":{},\"geometry\":{\"type\":\"Polygon\",\"coordinates\":[[[82.134443,22.188232],[82.134443,22.224849],[82.222284,22.224849],[82.222284,22.188232],[82.134443,22.188232]]]}}]}\n",
        "start_date =  \"2023-06-01\"\n",
        "end_date = \"2024-05-08\"\n",
        "aoi_geo = geemap.geojson_to_ee(aoi).geometry()\n",
        "\n",
        "# Load Sentinel-1 imagery (using VV polarization for coherence)\n",
        "s1_collection = ee.ImageCollection('COPERNICUS/S1_GRD') \\\n",
        "    .filterBounds(aoi_geo) \\\n",
        "    .filter(ee.Filter.listContains('transmitterReceiverPolarisation', 'VV'))\n",
        "# print(f'{s1_collection.size().getInfo() = }')\n",
        "if s1_collection.size().getInfo() == 0:\n",
        "    print(\"No Sentinel-1 imagery found for the specified dates and region.\")\n",
        "\n",
        "# Get the closest images\n",
        "images = get_closest_images_ccd(s1_collection, start_date, end_date)\n",
        "s1_start = images[0]\n",
        "s1_end = images[1]\n",
        "\n",
        "start_image_date = s1_start.date().format('YYYY-MM-dd HH:mm:ss').getInfo()\n",
        "end_image_date = s1_end.date().format('YYYY-MM-dd HH:mm:ss').getInfo()\n",
        "\n",
        "print(f'{start_image_date = }')\n",
        "print(f'{end_image_date = }')\n",
        "\n",
        "print(f'{type(s1_start) = }')\n",
        "print(f'{type(s1_end) = }')\n",
        "\n",
        "print(\"Get Info\")\n",
        "print(f'{s1_start.getInfo() = }')\n",
        "print(f'{s1_end.getInfo() = }')\n",
        "\n",
        "\n",
        "# Detect changes\n",
        "change_image, geojson_data = detect_changes_gee(s1_start, s1_end)\n",
        "\n",
        "map = geemap.Map()\n",
        "map.addLayer(change_image, {'min': 0, 'max': 1, 'palette': ['black', 'white']}, 'Change Map')\n",
        "map.centerObject(aoi_geo, 8)  # Adjust zoom level as needed\n",
        "map.addLayer(s1_start, {'min': -25, 'max': 0, 'bands': 'VV'}, 'Start Image')\n",
        "map.addLayer(s1_end, {'min': -25, 'max': 0, 'bands': 'VV'}, 'End Image')\n",
        "map.addLayer(ee.FeatureCollection(geojson_data), {}, 'Changes (GeoJSON)')\n",
        "map.update_center_on_interaction(True)\n",
        "map.show()\n"
      ],
      "metadata": {
        "colab": {
          "base_uri": "https://localhost:8080/",
          "height": 474
        },
        "id": "NvRXKlw0yt2c",
        "outputId": "be9df72f-ef1b-4309-b384-690892537067"
      },
      "execution_count": 51,
      "outputs": [
        {
          "output_type": "display_data",
          "data": {
            "text/plain": [
              "<IPython.core.display.HTML object>"
            ],
            "text/html": [
              "\n",
              "            <style>\n",
              "                .geemap-dark {\n",
              "                    --jp-widgets-color: white;\n",
              "                    --jp-widgets-label-color: white;\n",
              "                    --jp-ui-font-color1: white;\n",
              "                    --jp-layout-color2: #454545;\n",
              "                    background-color: #383838;\n",
              "                }\n",
              "\n",
              "                .geemap-dark .jupyter-button {\n",
              "                    --jp-layout-color3: #383838;\n",
              "                }\n",
              "\n",
              "                .geemap-colab {\n",
              "                    background-color: var(--colab-primary-surface-color, white);\n",
              "                }\n",
              "\n",
              "                .geemap-colab .jupyter-button {\n",
              "                    --jp-layout-color3: var(--colab-primary-surface-color, white);\n",
              "                }\n",
              "            </style>\n",
              "            "
            ]
          },
          "metadata": {}
        },
        {
          "output_type": "stream",
          "name": "stdout",
          "text": [
            "start_image_date = '2023-05-29 00:21:20'\n",
            "end_image_date = '2024-04-29 00:21:23'\n",
            "type(s1_start) = <class 'ee.image.Image'>\n",
            "type(s1_end) = <class 'ee.image.Image'>\n",
            "Get Info\n",
            "s1_start.getInfo() = {'type': 'Image', 'bands': [{'id': 'VV', 'data_type': {'type': 'PixelType', 'precision': 'double'}, 'dimensions': [28550, 21879], 'crs': 'EPSG:32644', 'crs_transform': [10, 0, 613261.1218488427, 0, -10, 2589808.9673147397]}, {'id': 'VH', 'data_type': {'type': 'PixelType', 'precision': 'double'}, 'dimensions': [28550, 21879], 'crs': 'EPSG:32644', 'crs_transform': [10, 0, 613261.1218488427, 0, -10, 2589808.9673147397]}, {'id': 'angle', 'data_type': {'type': 'PixelType', 'precision': 'float'}, 'dimensions': [21, 10], 'crs': 'EPSG:32644', 'crs_transform': [-12658.860430433764, -3303.655031815055, 894519.0615365268, 2127.6003053602763, -20210.643526479602, 2542921.4717027587]}], 'version': 1727680876651011, 'id': 'COPERNICUS/S1_GRD/S1A_IW_GRDH_1SDV_20230529T002120_20230529T002145_048741_05DCA2_B3A2', 'properties': {'SNAP_Graph_Processing_Framework_GPF_vers': '8.0.3', 'SLC_Processing_facility_org': 'ESA', 'SLC_Processing_facility_country': 'Italy', 'GRD_Post_Processing_facility_org': 'ESA', 'transmitterReceiverPolarisation': ['VV', 'VH'], 'GRD_Post_Processing_start': 1685327258526, 'sliceNumber': 12, 'GRD_Post_Processing_facility_name': 'Copernicus Ground Segment', 'resolution': 'H', 'SLC_Processing_facility_name': 'Copernicus Ground Segment', 'system:footprint': {'type': 'LinearRing', 'coordinates': [[82.42919038246521, 23.365297577185608], [82.42812209181623, 23.36151185774046], [82.3962683217881, 23.198687443513013], [82.33002798681605, 22.855830413082057], [82.2641650117747, 22.512915759937272], [82.14245692648302, 21.85734040818244], [83.33737329044101, 21.65176404360108], [84.53039167374041, 21.43747397347931], [84.53219972018051, 21.44435479180633], [84.53544252877901, 21.458904781677752], [84.61749136051772, 21.850678353731197], [84.7001523564427, 22.242333835933987], [84.71415602850347, 22.31021068218645], [84.75644706246797, 22.52003903237635], [84.81152678096358, 22.79528693757878], [84.84131649671755, 22.949105495742923], [84.25005094465486, 23.054773063964426], [83.33234402147876, 23.21408796991716], [82.77895597160895, 23.30739633345904], [82.42919038246521, 23.365297577185608]]}, 'familyName': 'SENTINEL-1', 'segmentStartTime': 1685319401452, 'missionDataTakeID': 384162, 'GRD_Post_Processing_facility_country': 'Italy', 'nssdcIdentifier': '2014-016A', 'productClass': 'S', 'phaseIdentifier': 1, 'orbitProperties_pass': 'DESCENDING', 'relativeOrbitNumber_stop': 19, 'system:time_end': 1685319680000, 'platformHeading': -167.6937603350032, 'SLC_Processing_facility_site': 'Production Service-SERCO', 'GRD_Post_Processing_stop': 1685327956000, 'system:time_start': 1685319680000, 'instrumentMode': 'IW', 'totalSlices': 16, 'SLC_Processing_stop': 1685327842000, 'startTimeANX': 2589577, 'SLC_Processing_start': 1685327449000, 'resolution_meters': 10, 'instrumentSwath': 'IW', 'relativeOrbitNumber_start': 19, 'productTimelinessCategory': 'Fast-24h', 'SLC_Processing_software_name': 'Sentinel-1 IPF', 'sliceProductFlag': 'true', 'S1TBX_Calibration_vers': '8.0.3', 'orbitNumber_start': 48741, 'GRD_Post_Processing_facility_site': 'Production Service-SERCO', 'instrument': 'Synthetic Aperture Radar', 'GRD_Post_Processing_software_name': 'Sentinel-1 IPF', 'platform_number': 'A', 'S1TBX_SAR_Processing_vers': '8.0.3', 'productType': 'GRD', 'orbitProperties_ascendingNodeTime': 1685317090576, 'stopTimeANX': 2614576, 'productComposition': 'Slice', 'productClassDescription': 'SAR Standard L1 Product', 'GRD_Post_Processing_software_version': '003.61', 'SLC_Processing_software_version': '003.61', 'orbitNumber_stop': 48741, 'instrumentConfigurationID': 7, 'system:asset_size': 4073469128, 'cycleNumber': 293, 'system:index': 'S1A_IW_GRDH_1SDV_20230529T002120_20230529T002145_048741_05DCA2_B3A2'}}\n",
            "s1_end.getInfo() = {'type': 'Image', 'bands': [{'id': 'VV', 'data_type': {'type': 'PixelType', 'precision': 'double'}, 'dimensions': [28550, 21880], 'crs': 'EPSG:32644', 'crs_transform': [10, 0, 613278.9685987293, 0, -10, 2589814.0987915145]}, {'id': 'VH', 'data_type': {'type': 'PixelType', 'precision': 'double'}, 'dimensions': [28550, 21880], 'crs': 'EPSG:32644', 'crs_transform': [10, 0, 613278.9685987293, 0, -10, 2589814.0987915145]}, {'id': 'angle', 'data_type': {'type': 'PixelType', 'precision': 'float'}, 'dimensions': [21, 10], 'crs': 'EPSG:32644', 'crs_transform': [-12658.856262972346, -3303.319743985776, 894536.8362957491, 2127.4739455496892, -20210.643358517904, 2542929.371297156]}], 'version': 1727680876651011, 'id': 'COPERNICUS/S1_GRD/S1A_IW_GRDH_1SDV_20240429T002123_20240429T002148_053641_068394_FCFE', 'properties': {'SNAP_Graph_Processing_Framework_GPF_vers': '9.0.0', 'SLC_Processing_facility_org': 'ESA', 'SLC_Processing_facility_country': 'Italy', 'GRD_Post_Processing_facility_org': 'ESA', 'transmitterReceiverPolarisation': ['VV', 'VH'], 'GRD_Post_Processing_start': 1714357946315, 'sliceNumber': 12, 'GRD_Post_Processing_facility_name': 'Copernicus Ground Segment', 'resolution': 'H', 'SLC_Processing_facility_name': 'Copernicus Ground Segment', 'system:footprint': {'type': 'LinearRing', 'coordinates': [[83.2644795584147, 23.22572272027013], [82.91668657073326, 23.284443288600684], [82.42917649148488, 23.365372291404938], [82.42495879671148, 23.344511376039954], [82.39644592907139, 23.199003136836634], [82.33020236783561, 22.855875220010258], [82.26406099752853, 22.51125105036184], [82.14261317451601, 21.85729464195913], [83.33118828459439, 21.652845455795937], [84.53058228754942, 21.4374457276827], [84.53253782278979, 21.445038133228298], [84.53549307750585, 21.458360945363037], [84.61766483594842, 21.850720816452046], [84.70032638064737, 22.242376125468418], [84.71237535647384, 22.30078421677809], [84.75662147345783, 22.520081234132945], [84.81170158076515, 22.795329048270457], [84.84106867428416, 22.94696709925854], [84.84113287750317, 22.94923812938809], [84.29576815812543, 23.046779652875962], [83.2644795584147, 23.22572272027013]]}, 'familyName': 'SENTINEL-1', 'segmentStartTime': 1714349805067, 'missionDataTakeID': 426900, 'GRD_Post_Processing_facility_country': 'Italy', 'nssdcIdentifier': '2014-016A', 'productClass': 'S', 'phaseIdentifier': 1, 'orbitProperties_pass': 'DESCENDING', 'relativeOrbitNumber_stop': 19, 'system:time_end': 1714350083000, 'platformHeading': -167.6943842397291, 'SLC_Processing_facility_site': 'Production Service-SERCO', 'GRD_Post_Processing_stop': 1714358423000, 'system:time_start': 1714350083000, 'instrumentMode': 'IW', 'totalSlices': 16, 'SLC_Processing_stop': 1714358356000, 'startTimeANX': 2589572, 'SLC_Processing_start': 1714358084000, 'resolution_meters': 10, 'instrumentSwath': 'IW', 'relativeOrbitNumber_start': 19, 'productTimelinessCategory': 'Fast-24h', 'SLC_Processing_software_name': 'Sentinel-1 IPF', 'sliceProductFlag': 'true', 'S1TBX_Calibration_vers': '9.0.0', 'orbitNumber_start': 53641, 'S1TBX_IO_Orbit_Ephemeris_vers': '9.0.0', 'GRD_Post_Processing_facility_site': 'Production Service-SERCO', 'instrument': 'Synthetic Aperture Radar', 'GRD_Post_Processing_software_name': 'Sentinel-1 IPF', 'platform_number': 'A', 'S1TBX_SAR_Processing_vers': '9.0.0', 'productType': 'GRD', 'orbitProperties_ascendingNodeTime': 1714347494195, 'stopTimeANX': 2614572, 'productComposition': 'Slice', 'productClassDescription': 'SAR Standard L1 Product', 'GRD_Post_Processing_software_version': '003.71', 'SLC_Processing_software_version': '003.71', 'orbitNumber_stop': 53641, 'instrumentConfigurationID': 7, 'system:asset_size': 4072860782, 'cycleNumber': 321, 'system:index': 'S1A_IW_GRDH_1SDV_20240429T002123_20240429T002148_053641_068394_FCFE'}}\n"
          ]
        },
        {
          "output_type": "error",
          "ename": "KeyError",
          "evalue": "'downloadUrls'",
          "traceback": [
            "\u001b[0;31m---------------------------------------------------------------------------\u001b[0m",
            "\u001b[0;31mKeyError\u001b[0m                                  Traceback (most recent call last)",
            "\u001b[0;32m<ipython-input-51-446ed1b1f0d6>\u001b[0m in \u001b[0;36m<cell line: 34>\u001b[0;34m()\u001b[0m\n\u001b[1;32m     32\u001b[0m \u001b[0;34m\u001b[0m\u001b[0m\n\u001b[1;32m     33\u001b[0m \u001b[0;31m# Detect changes\u001b[0m\u001b[0;34m\u001b[0m\u001b[0;34m\u001b[0m\u001b[0m\n\u001b[0;32m---> 34\u001b[0;31m \u001b[0mchange_image\u001b[0m\u001b[0;34m,\u001b[0m \u001b[0mgeojson_data\u001b[0m \u001b[0;34m=\u001b[0m \u001b[0mdetect_changes_gee\u001b[0m\u001b[0;34m(\u001b[0m\u001b[0ms1_start\u001b[0m\u001b[0;34m,\u001b[0m \u001b[0ms1_end\u001b[0m\u001b[0;34m)\u001b[0m\u001b[0;34m\u001b[0m\u001b[0;34m\u001b[0m\u001b[0m\n\u001b[0m\u001b[1;32m     35\u001b[0m \u001b[0;34m\u001b[0m\u001b[0m\n\u001b[1;32m     36\u001b[0m \u001b[0mmap\u001b[0m \u001b[0;34m=\u001b[0m \u001b[0mgeemap\u001b[0m\u001b[0;34m.\u001b[0m\u001b[0mMap\u001b[0m\u001b[0;34m(\u001b[0m\u001b[0;34m)\u001b[0m\u001b[0;34m\u001b[0m\u001b[0;34m\u001b[0m\u001b[0m\n",
            "\u001b[0;32m<ipython-input-50-c2aebdc3ad75>\u001b[0m in \u001b[0;36mdetect_changes_gee\u001b[0;34m(image1, image2, threshold)\u001b[0m\n\u001b[1;32m     20\u001b[0m     \u001b[0mtask1\u001b[0m\u001b[0;34m.\u001b[0m\u001b[0mstart\u001b[0m\u001b[0;34m(\u001b[0m\u001b[0;34m)\u001b[0m\u001b[0;34m\u001b[0m\u001b[0;34m\u001b[0m\u001b[0m\n\u001b[1;32m     21\u001b[0m     \u001b[0mtask2\u001b[0m\u001b[0;34m.\u001b[0m\u001b[0mstart\u001b[0m\u001b[0;34m(\u001b[0m\u001b[0;34m)\u001b[0m\u001b[0;34m\u001b[0m\u001b[0;34m\u001b[0m\u001b[0m\n\u001b[0;32m---> 22\u001b[0;31m     \u001b[0murl1\u001b[0m \u001b[0;34m=\u001b[0m \u001b[0mtask1\u001b[0m\u001b[0;34m.\u001b[0m\u001b[0mstatus\u001b[0m\u001b[0;34m(\u001b[0m\u001b[0;34m)\u001b[0m\u001b[0;34m[\u001b[0m\u001b[0;34m'downloadUrls'\u001b[0m\u001b[0;34m]\u001b[0m\u001b[0;34m[\u001b[0m\u001b[0;36m0\u001b[0m\u001b[0;34m]\u001b[0m\u001b[0;34m\u001b[0m\u001b[0;34m\u001b[0m\u001b[0m\n\u001b[0m\u001b[1;32m     23\u001b[0m     \u001b[0murl2\u001b[0m \u001b[0;34m=\u001b[0m \u001b[0mtask2\u001b[0m\u001b[0;34m.\u001b[0m\u001b[0mstatus\u001b[0m\u001b[0;34m(\u001b[0m\u001b[0;34m)\u001b[0m\u001b[0;34m[\u001b[0m\u001b[0;34m'downloadUrls'\u001b[0m\u001b[0;34m]\u001b[0m\u001b[0;34m[\u001b[0m\u001b[0;36m0\u001b[0m\u001b[0;34m]\u001b[0m\u001b[0;34m\u001b[0m\u001b[0;34m\u001b[0m\u001b[0m\n\u001b[1;32m     24\u001b[0m \u001b[0;34m\u001b[0m\u001b[0m\n",
            "\u001b[0;31mKeyError\u001b[0m: 'downloadUrls'"
          ]
        }
      ]
    },
    {
      "cell_type": "code",
      "source": [],
      "metadata": {
        "id": "i09i-Biky1sO"
      },
      "execution_count": null,
      "outputs": []
    }
  ],
  "metadata": {
    "kernelspec": {
      "display_name": "venv",
      "language": "python",
      "name": "python3"
    },
    "language_info": {
      "codemirror_mode": {
        "name": "ipython",
        "version": 3
      },
      "file_extension": ".py",
      "mimetype": "text/x-python",
      "name": "python",
      "nbconvert_exporter": "python",
      "pygments_lexer": "ipython3",
      "version": "3.12.6"
    },
    "colab": {
      "provenance": []
    },
    "widgets": {
      "application/vnd.jupyter.widget-state+json": {
        "afe32b17a79e4facbffa950f4371e612": {
          "model_module": "@jupyter-widgets/output",
          "model_name": "OutputModel",
          "model_module_version": "1.0.0",
          "state": {
            "_dom_classes": [],
            "_model_module": "@jupyter-widgets/output",
            "_model_module_version": "1.0.0",
            "_model_name": "OutputModel",
            "_view_count": null,
            "_view_module": "@jupyter-widgets/output",
            "_view_module_version": "1.0.0",
            "_view_name": "OutputView",
            "layout": "IPY_MODEL_e9e1614635c7493b9f1efdad01b6a1e4",
            "msg_id": "",
            "outputs": [
              {
                "output_type": "stream",
                "name": "stderr",
                "text": [
                  "Downloading...\n",
                  "From: https://earthengine.googleapis.com/v1/projects/earthengine-legacy/thumbnails/07f199a8b0e4a6536d9392a9a6c1ca92-a6f82397da65274b455d56a5976d5e39:getPixels\n",
                  "To: /content/07f199a8b0e4a6536d9392a9a6c1ca92-a6f82397da65274b455d56a5976d5e39:getPixels\n"
                ]
              },
              {
                "output_type": "stream",
                "name": "stderr",
                "text": [
                  "\r  0%|          | 0.00/209k [00:00<?, ?B/s]"
                ]
              },
              {
                "output_type": "stream",
                "name": "stderr",
                "text": [
                  "\r100%|██████████| 209k/209k [00:00<00:00, 2.62MB/s]"
                ]
              },
              {
                "output_type": "stream",
                "name": "stderr",
                "text": [
                  "\n"
                ]
              },
              {
                "output_type": "display_data",
                "data": {
                  "text/plain": "Image(value=b'\\xff\\xd8\\xff\\xe0\\x00\\x10JFIF\\x00\\x01\\x02\\x00\\x00\\x01\\x00\\x01\\x00\\x00\\xff\\xdb\\x00C\\x00\\x02\\x01\\x0…",
                  "application/vnd.jupyter.widget-view+json": {
                    "version_major": 2,
                    "version_minor": 0,
                    "model_id": "3e07e8e0b2484907941cae738159aa41"
                  }
                },
                "metadata": {
                  "application/vnd.jupyter.widget-view+json": {
                    "colab": {
                      "custom_widget_manager": {
                        "url": "https://ssl.gstatic.com/colaboratory-static/widgets/colab-cdn-widget-manager/2b70e893a8ba7c0f/manager.min.js"
                      }
                    }
                  }
                }
              }
            ]
          }
        },
        "e9e1614635c7493b9f1efdad01b6a1e4": {
          "model_module": "@jupyter-widgets/base",
          "model_name": "LayoutModel",
          "model_module_version": "1.2.0",
          "state": {
            "_model_module": "@jupyter-widgets/base",
            "_model_module_version": "1.2.0",
            "_model_name": "LayoutModel",
            "_view_count": null,
            "_view_module": "@jupyter-widgets/base",
            "_view_module_version": "1.2.0",
            "_view_name": "LayoutView",
            "align_content": null,
            "align_items": null,
            "align_self": null,
            "border": null,
            "bottom": null,
            "display": null,
            "flex": null,
            "flex_flow": null,
            "grid_area": null,
            "grid_auto_columns": null,
            "grid_auto_flow": null,
            "grid_auto_rows": null,
            "grid_column": null,
            "grid_gap": null,
            "grid_row": null,
            "grid_template_areas": null,
            "grid_template_columns": null,
            "grid_template_rows": null,
            "height": null,
            "justify_content": null,
            "justify_items": null,
            "left": null,
            "margin": null,
            "max_height": null,
            "max_width": null,
            "min_height": null,
            "min_width": null,
            "object_fit": null,
            "object_position": null,
            "order": null,
            "overflow": null,
            "overflow_x": null,
            "overflow_y": null,
            "padding": null,
            "right": null,
            "top": null,
            "visibility": null,
            "width": null
          }
        },
        "3e07e8e0b2484907941cae738159aa41": {
          "model_module": "@jupyter-widgets/controls",
          "model_name": "ImageModel",
          "model_module_version": "1.5.0",
          "state": {
            "_dom_classes": [],
            "_model_module": "@jupyter-widgets/controls",
            "_model_module_version": "1.5.0",
            "_model_name": "ImageModel",
            "_view_count": null,
            "_view_module": "@jupyter-widgets/controls",
            "_view_module_version": "1.5.0",
            "_view_name": "ImageView",
            "format": "png",
            "height": "",
            "layout": "IPY_MODEL_74791f6367284eb48b9590507fc69255",
            "width": ""
          }
        },
        "ebc76a3ada1a4a02a4c6b85ec335d14b": {
          "model_module": "@jupyter-widgets/base",
          "model_name": "LayoutModel",
          "model_module_version": "1.2.0",
          "state": {
            "_model_module": "@jupyter-widgets/base",
            "_model_module_version": "1.2.0",
            "_model_name": "LayoutModel",
            "_view_count": null,
            "_view_module": "@jupyter-widgets/base",
            "_view_module_version": "1.2.0",
            "_view_name": "LayoutView",
            "align_content": null,
            "align_items": null,
            "align_self": null,
            "border": null,
            "bottom": null,
            "display": null,
            "flex": null,
            "flex_flow": null,
            "grid_area": null,
            "grid_auto_columns": null,
            "grid_auto_flow": null,
            "grid_auto_rows": null,
            "grid_column": null,
            "grid_gap": null,
            "grid_row": null,
            "grid_template_areas": null,
            "grid_template_columns": null,
            "grid_template_rows": null,
            "height": null,
            "justify_content": null,
            "justify_items": null,
            "left": null,
            "margin": null,
            "max_height": null,
            "max_width": null,
            "min_height": null,
            "min_width": null,
            "object_fit": null,
            "object_position": null,
            "order": null,
            "overflow": null,
            "overflow_x": null,
            "overflow_y": null,
            "padding": null,
            "right": null,
            "top": null,
            "visibility": null,
            "width": null
          }
        },
        "dd9d01de747d4086a0f6c01b27618f3b": {
          "model_module": "@jupyter-widgets/output",
          "model_name": "OutputModel",
          "model_module_version": "1.0.0",
          "state": {
            "_dom_classes": [],
            "_model_module": "@jupyter-widgets/output",
            "_model_module_version": "1.0.0",
            "_model_name": "OutputModel",
            "_view_count": null,
            "_view_module": "@jupyter-widgets/output",
            "_view_module_version": "1.0.0",
            "_view_name": "OutputView",
            "layout": "IPY_MODEL_ebc76a3ada1a4a02a4c6b85ec335d14b",
            "msg_id": "",
            "outputs": [
              {
                "output_type": "stream",
                "name": "stderr",
                "text": [
                  "Downloading...\n",
                  "From: https://earthengine.googleapis.com/v1/projects/earthengine-legacy/thumbnails/3324de4b1a280bc321e66252f63b58bc-634c2448de0be1f23f9a13083a03ff39:getPixels\n",
                  "To: /content/3324de4b1a280bc321e66252f63b58bc-634c2448de0be1f23f9a13083a03ff39:getPixels\n"
                ]
              },
              {
                "output_type": "stream",
                "name": "stderr",
                "text": [
                  "\r  0%|          | 0.00/1.19M [00:00<?, ?B/s]"
                ]
              },
              {
                "output_type": "stream",
                "name": "stderr",
                "text": [
                  "\r 44%|████▍     | 524k/1.19M [00:00<00:00, 4.10MB/s]"
                ]
              },
              {
                "output_type": "stream",
                "name": "stderr",
                "text": [
                  "\r100%|██████████| 1.19M/1.19M [00:00<00:00, 7.27MB/s]"
                ]
              },
              {
                "output_type": "stream",
                "name": "stderr",
                "text": [
                  "\n"
                ]
              },
              {
                "output_type": "display_data",
                "data": {
                  "text/plain": "Image(value=b'\\x89PNG\\r\\n\\x1a\\n\\x00\\x00\\x00\\rIHDR\\x00\\x00\\x04\\x00\\x00\\x00\\x01\\xd1\\x08\\x06\\x00\\x00\\x00\\xf4G\\xcb…",
                  "application/vnd.jupyter.widget-view+json": {
                    "version_major": 2,
                    "version_minor": 0,
                    "model_id": "4bf344f91de84af3a9673262e70cafc4"
                  }
                },
                "metadata": {
                  "application/vnd.jupyter.widget-view+json": {
                    "colab": {
                      "custom_widget_manager": {
                        "url": "https://ssl.gstatic.com/colaboratory-static/widgets/colab-cdn-widget-manager/2b70e893a8ba7c0f/manager.min.js"
                      }
                    }
                  }
                }
              }
            ]
          }
        },
        "74791f6367284eb48b9590507fc69255": {
          "model_module": "@jupyter-widgets/base",
          "model_name": "LayoutModel",
          "model_module_version": "1.2.0",
          "state": {
            "_model_module": "@jupyter-widgets/base",
            "_model_module_version": "1.2.0",
            "_model_name": "LayoutModel",
            "_view_count": null,
            "_view_module": "@jupyter-widgets/base",
            "_view_module_version": "1.2.0",
            "_view_name": "LayoutView",
            "align_content": null,
            "align_items": null,
            "align_self": null,
            "border": null,
            "bottom": null,
            "display": null,
            "flex": null,
            "flex_flow": null,
            "grid_area": null,
            "grid_auto_columns": null,
            "grid_auto_flow": null,
            "grid_auto_rows": null,
            "grid_column": null,
            "grid_gap": null,
            "grid_row": null,
            "grid_template_areas": null,
            "grid_template_columns": null,
            "grid_template_rows": null,
            "height": null,
            "justify_content": null,
            "justify_items": null,
            "left": null,
            "margin": null,
            "max_height": null,
            "max_width": null,
            "min_height": null,
            "min_width": null,
            "object_fit": null,
            "object_position": null,
            "order": null,
            "overflow": null,
            "overflow_x": null,
            "overflow_y": null,
            "padding": null,
            "right": null,
            "top": null,
            "visibility": null,
            "width": null
          }
        },
        "4bf344f91de84af3a9673262e70cafc4": {
          "model_module": "@jupyter-widgets/controls",
          "model_name": "ImageModel",
          "model_module_version": "1.5.0",
          "state": {
            "_dom_classes": [],
            "_model_module": "@jupyter-widgets/controls",
            "_model_module_version": "1.5.0",
            "_model_name": "ImageModel",
            "_view_count": null,
            "_view_module": "@jupyter-widgets/controls",
            "_view_module_version": "1.5.0",
            "_view_name": "ImageView",
            "format": "png",
            "height": "",
            "layout": "IPY_MODEL_519555843b4a411eae9b546b1e4bd58a",
            "width": ""
          }
        },
        "be1c2fb37d9545bf9ac20c7b3b2fbf3e": {
          "model_module": "@jupyter-widgets/base",
          "model_name": "LayoutModel",
          "model_module_version": "1.2.0",
          "state": {
            "_model_module": "@jupyter-widgets/base",
            "_model_module_version": "1.2.0",
            "_model_name": "LayoutModel",
            "_view_count": null,
            "_view_module": "@jupyter-widgets/base",
            "_view_module_version": "1.2.0",
            "_view_name": "LayoutView",
            "align_content": null,
            "align_items": null,
            "align_self": null,
            "border": null,
            "bottom": null,
            "display": null,
            "flex": null,
            "flex_flow": null,
            "grid_area": null,
            "grid_auto_columns": null,
            "grid_auto_flow": null,
            "grid_auto_rows": null,
            "grid_column": null,
            "grid_gap": null,
            "grid_row": null,
            "grid_template_areas": null,
            "grid_template_columns": null,
            "grid_template_rows": null,
            "height": null,
            "justify_content": null,
            "justify_items": null,
            "left": null,
            "margin": null,
            "max_height": null,
            "max_width": null,
            "min_height": null,
            "min_width": null,
            "object_fit": null,
            "object_position": null,
            "order": null,
            "overflow": null,
            "overflow_x": null,
            "overflow_y": null,
            "padding": null,
            "right": null,
            "top": null,
            "visibility": null,
            "width": null
          }
        },
        "78d62348acb14fdfbf972dd8f43b2ef9": {
          "model_module": "@jupyter-widgets/output",
          "model_name": "OutputModel",
          "model_module_version": "1.0.0",
          "state": {
            "_dom_classes": [],
            "_model_module": "@jupyter-widgets/output",
            "_model_module_version": "1.0.0",
            "_model_name": "OutputModel",
            "_view_count": null,
            "_view_module": "@jupyter-widgets/output",
            "_view_module_version": "1.0.0",
            "_view_name": "OutputView",
            "layout": "IPY_MODEL_be1c2fb37d9545bf9ac20c7b3b2fbf3e",
            "msg_id": "",
            "outputs": [
              {
                "output_type": "stream",
                "name": "stderr",
                "text": [
                  "Downloading...\n",
                  "From: https://earthengine.googleapis.com/v1/projects/earthengine-legacy/thumbnails/3d414f9fcf8d91237ae24d5695053027-1e40cf7858750e4ca0b538d94821e06b:getPixels\n",
                  "To: /content/3d414f9fcf8d91237ae24d5695053027-1e40cf7858750e4ca0b538d94821e06b:getPixels\n"
                ]
              },
              {
                "output_type": "stream",
                "name": "stderr",
                "text": [
                  "\r  0%|          | 0.00/8.31k [00:00<?, ?B/s]"
                ]
              },
              {
                "output_type": "stream",
                "name": "stderr",
                "text": [
                  "\r100%|██████████| 8.31k/8.31k [00:00<00:00, 15.3MB/s]"
                ]
              },
              {
                "output_type": "stream",
                "name": "stderr",
                "text": [
                  "\n"
                ]
              },
              {
                "output_type": "display_data",
                "data": {
                  "text/plain": "Image(value=b'\\xff\\xd8\\xff\\xe0\\x00\\x10JFIF\\x00\\x01\\x02\\x00\\x00\\x01\\x00\\x01\\x00\\x00\\xff\\xdb\\x00C\\x00\\x02\\x01\\x0…",
                  "application/vnd.jupyter.widget-view+json": {
                    "version_major": 2,
                    "version_minor": 0,
                    "model_id": "d4faa4bda22047bab6ad1c724eee3f89"
                  }
                },
                "metadata": {
                  "application/vnd.jupyter.widget-view+json": {
                    "colab": {
                      "custom_widget_manager": {
                        "url": "https://ssl.gstatic.com/colaboratory-static/widgets/colab-cdn-widget-manager/2b70e893a8ba7c0f/manager.min.js"
                      }
                    }
                  }
                }
              }
            ]
          }
        },
        "519555843b4a411eae9b546b1e4bd58a": {
          "model_module": "@jupyter-widgets/base",
          "model_name": "LayoutModel",
          "model_module_version": "1.2.0",
          "state": {
            "_model_module": "@jupyter-widgets/base",
            "_model_module_version": "1.2.0",
            "_model_name": "LayoutModel",
            "_view_count": null,
            "_view_module": "@jupyter-widgets/base",
            "_view_module_version": "1.2.0",
            "_view_name": "LayoutView",
            "align_content": null,
            "align_items": null,
            "align_self": null,
            "border": null,
            "bottom": null,
            "display": null,
            "flex": null,
            "flex_flow": null,
            "grid_area": null,
            "grid_auto_columns": null,
            "grid_auto_flow": null,
            "grid_auto_rows": null,
            "grid_column": null,
            "grid_gap": null,
            "grid_row": null,
            "grid_template_areas": null,
            "grid_template_columns": null,
            "grid_template_rows": null,
            "height": null,
            "justify_content": null,
            "justify_items": null,
            "left": null,
            "margin": null,
            "max_height": null,
            "max_width": null,
            "min_height": null,
            "min_width": null,
            "object_fit": null,
            "object_position": null,
            "order": null,
            "overflow": null,
            "overflow_x": null,
            "overflow_y": null,
            "padding": null,
            "right": null,
            "top": null,
            "visibility": null,
            "width": null
          }
        },
        "d4faa4bda22047bab6ad1c724eee3f89": {
          "model_module": "@jupyter-widgets/controls",
          "model_name": "ImageModel",
          "model_module_version": "1.5.0",
          "state": {
            "_dom_classes": [],
            "_model_module": "@jupyter-widgets/controls",
            "_model_module_version": "1.5.0",
            "_model_name": "ImageModel",
            "_view_count": null,
            "_view_module": "@jupyter-widgets/controls",
            "_view_module_version": "1.5.0",
            "_view_name": "ImageView",
            "format": "png",
            "height": "",
            "layout": "IPY_MODEL_a3894a588e6a40cf98d0f9aa5fd2a066",
            "width": ""
          }
        },
        "a3894a588e6a40cf98d0f9aa5fd2a066": {
          "model_module": "@jupyter-widgets/base",
          "model_name": "LayoutModel",
          "model_module_version": "1.2.0",
          "state": {
            "_model_module": "@jupyter-widgets/base",
            "_model_module_version": "1.2.0",
            "_model_name": "LayoutModel",
            "_view_count": null,
            "_view_module": "@jupyter-widgets/base",
            "_view_module_version": "1.2.0",
            "_view_name": "LayoutView",
            "align_content": null,
            "align_items": null,
            "align_self": null,
            "border": null,
            "bottom": null,
            "display": null,
            "flex": null,
            "flex_flow": null,
            "grid_area": null,
            "grid_auto_columns": null,
            "grid_auto_flow": null,
            "grid_auto_rows": null,
            "grid_column": null,
            "grid_gap": null,
            "grid_row": null,
            "grid_template_areas": null,
            "grid_template_columns": null,
            "grid_template_rows": null,
            "height": null,
            "justify_content": null,
            "justify_items": null,
            "left": null,
            "margin": null,
            "max_height": null,
            "max_width": null,
            "min_height": null,
            "min_width": null,
            "object_fit": null,
            "object_position": null,
            "order": null,
            "overflow": null,
            "overflow_x": null,
            "overflow_y": null,
            "padding": null,
            "right": null,
            "top": null,
            "visibility": null,
            "width": null
          }
        },
        "e72efa8d7ef74784b7691f880e04591f": {
          "model_module": "@jupyter-widgets/output",
          "model_name": "OutputModel",
          "model_module_version": "1.0.0",
          "state": {
            "_dom_classes": [],
            "_model_module": "@jupyter-widgets/output",
            "_model_module_version": "1.0.0",
            "_model_name": "OutputModel",
            "_view_count": null,
            "_view_module": "@jupyter-widgets/output",
            "_view_module_version": "1.0.0",
            "_view_name": "OutputView",
            "layout": "IPY_MODEL_d7d723e2586f425aac2bce3deb6921fb",
            "msg_id": "",
            "outputs": [
              {
                "output_type": "stream",
                "name": "stderr",
                "text": [
                  "Downloading...\n",
                  "From: https://earthengine.googleapis.com/v1/projects/earthengine-legacy/thumbnails/3eff96f9e6f7c38813b9dc19e463c853-5fd930380c12f494fef96959a264749a:getPixels\n",
                  "To: /content/3eff96f9e6f7c38813b9dc19e463c853-5fd930380c12f494fef96959a264749a:getPixels\n"
                ]
              },
              {
                "output_type": "stream",
                "name": "stderr",
                "text": [
                  "\r  0%|          | 0.00/209k [00:00<?, ?B/s]"
                ]
              },
              {
                "output_type": "stream",
                "name": "stderr",
                "text": [
                  "\r100%|██████████| 209k/209k [00:00<00:00, 914kB/s]"
                ]
              },
              {
                "output_type": "stream",
                "name": "stderr",
                "text": [
                  "\r100%|██████████| 209k/209k [00:00<00:00, 908kB/s]"
                ]
              },
              {
                "output_type": "stream",
                "name": "stderr",
                "text": [
                  "\n"
                ]
              },
              {
                "output_type": "display_data",
                "data": {
                  "text/plain": "Image(value=b'\\xff\\xd8\\xff\\xe0\\x00\\x10JFIF\\x00\\x01\\x02\\x00\\x00\\x01\\x00\\x01\\x00\\x00\\xff\\xdb\\x00C\\x00\\x02\\x01\\x0…",
                  "application/vnd.jupyter.widget-view+json": {
                    "version_major": 2,
                    "version_minor": 0,
                    "model_id": "64a8badc71a542f08513f4c79871f504"
                  }
                },
                "metadata": {
                  "application/vnd.jupyter.widget-view+json": {
                    "colab": {
                      "custom_widget_manager": {
                        "url": "https://ssl.gstatic.com/colaboratory-static/widgets/colab-cdn-widget-manager/2b70e893a8ba7c0f/manager.min.js"
                      }
                    }
                  }
                }
              }
            ]
          }
        },
        "d7d723e2586f425aac2bce3deb6921fb": {
          "model_module": "@jupyter-widgets/base",
          "model_name": "LayoutModel",
          "model_module_version": "1.2.0",
          "state": {
            "_model_module": "@jupyter-widgets/base",
            "_model_module_version": "1.2.0",
            "_model_name": "LayoutModel",
            "_view_count": null,
            "_view_module": "@jupyter-widgets/base",
            "_view_module_version": "1.2.0",
            "_view_name": "LayoutView",
            "align_content": null,
            "align_items": null,
            "align_self": null,
            "border": null,
            "bottom": null,
            "display": null,
            "flex": null,
            "flex_flow": null,
            "grid_area": null,
            "grid_auto_columns": null,
            "grid_auto_flow": null,
            "grid_auto_rows": null,
            "grid_column": null,
            "grid_gap": null,
            "grid_row": null,
            "grid_template_areas": null,
            "grid_template_columns": null,
            "grid_template_rows": null,
            "height": null,
            "justify_content": null,
            "justify_items": null,
            "left": null,
            "margin": null,
            "max_height": null,
            "max_width": null,
            "min_height": null,
            "min_width": null,
            "object_fit": null,
            "object_position": null,
            "order": null,
            "overflow": null,
            "overflow_x": null,
            "overflow_y": null,
            "padding": null,
            "right": null,
            "top": null,
            "visibility": null,
            "width": null
          }
        },
        "64a8badc71a542f08513f4c79871f504": {
          "model_module": "@jupyter-widgets/controls",
          "model_name": "ImageModel",
          "model_module_version": "1.5.0",
          "state": {
            "_dom_classes": [],
            "_model_module": "@jupyter-widgets/controls",
            "_model_module_version": "1.5.0",
            "_model_name": "ImageModel",
            "_view_count": null,
            "_view_module": "@jupyter-widgets/controls",
            "_view_module_version": "1.5.0",
            "_view_name": "ImageView",
            "format": "png",
            "height": "",
            "layout": "IPY_MODEL_4262110ec0ad4ff38156ba999f10e555",
            "width": ""
          }
        },
        "0e4dd5e9f49647b6815efc12c1e211a8": {
          "model_module": "@jupyter-widgets/base",
          "model_name": "LayoutModel",
          "model_module_version": "1.2.0",
          "state": {
            "_model_module": "@jupyter-widgets/base",
            "_model_module_version": "1.2.0",
            "_model_name": "LayoutModel",
            "_view_count": null,
            "_view_module": "@jupyter-widgets/base",
            "_view_module_version": "1.2.0",
            "_view_name": "LayoutView",
            "align_content": null,
            "align_items": null,
            "align_self": null,
            "border": null,
            "bottom": null,
            "display": null,
            "flex": null,
            "flex_flow": null,
            "grid_area": null,
            "grid_auto_columns": null,
            "grid_auto_flow": null,
            "grid_auto_rows": null,
            "grid_column": null,
            "grid_gap": null,
            "grid_row": null,
            "grid_template_areas": null,
            "grid_template_columns": null,
            "grid_template_rows": null,
            "height": null,
            "justify_content": null,
            "justify_items": null,
            "left": null,
            "margin": null,
            "max_height": null,
            "max_width": null,
            "min_height": null,
            "min_width": null,
            "object_fit": null,
            "object_position": null,
            "order": null,
            "overflow": null,
            "overflow_x": null,
            "overflow_y": null,
            "padding": null,
            "right": null,
            "top": null,
            "visibility": null,
            "width": null
          }
        },
        "6d7f5306c07a4c88be4f52357f821ce6": {
          "model_module": "@jupyter-widgets/output",
          "model_name": "OutputModel",
          "model_module_version": "1.0.0",
          "state": {
            "_dom_classes": [],
            "_model_module": "@jupyter-widgets/output",
            "_model_module_version": "1.0.0",
            "_model_name": "OutputModel",
            "_view_count": null,
            "_view_module": "@jupyter-widgets/output",
            "_view_module_version": "1.0.0",
            "_view_name": "OutputView",
            "layout": "IPY_MODEL_0e4dd5e9f49647b6815efc12c1e211a8",
            "msg_id": "",
            "outputs": [
              {
                "output_type": "stream",
                "name": "stderr",
                "text": [
                  "Downloading...\n",
                  "From: https://earthengine.googleapis.com/v1/projects/earthengine-legacy/thumbnails/a014791658a373f020c357ef74c7b0b3-e753c1fc3fdecb2941069452774783eb:getPixels\n",
                  "To: /content/a014791658a373f020c357ef74c7b0b3-e753c1fc3fdecb2941069452774783eb:getPixels\n"
                ]
              },
              {
                "output_type": "stream",
                "name": "stderr",
                "text": [
                  "\r  0%|          | 0.00/1.19M [00:00<?, ?B/s]"
                ]
              },
              {
                "output_type": "stream",
                "name": "stderr",
                "text": [
                  "\r 44%|████▍     | 524k/1.19M [00:00<00:00, 3.88MB/s]"
                ]
              },
              {
                "output_type": "stream",
                "name": "stderr",
                "text": [
                  "\r100%|██████████| 1.19M/1.19M [00:00<00:00, 6.72MB/s]"
                ]
              },
              {
                "output_type": "stream",
                "name": "stderr",
                "text": [
                  "\n"
                ]
              },
              {
                "output_type": "display_data",
                "data": {
                  "text/plain": "Image(value=b'\\x89PNG\\r\\n\\x1a\\n\\x00\\x00\\x00\\rIHDR\\x00\\x00\\x04\\x00\\x00\\x00\\x01\\xd1\\x08\\x06\\x00\\x00\\x00\\xf4G\\xcb…",
                  "application/vnd.jupyter.widget-view+json": {
                    "version_major": 2,
                    "version_minor": 0,
                    "model_id": "22b98c930c394b3bb5b819dbb928b7d9"
                  }
                },
                "metadata": {
                  "application/vnd.jupyter.widget-view+json": {
                    "colab": {
                      "custom_widget_manager": {
                        "url": "https://ssl.gstatic.com/colaboratory-static/widgets/colab-cdn-widget-manager/2b70e893a8ba7c0f/manager.min.js"
                      }
                    }
                  }
                }
              }
            ]
          }
        },
        "4262110ec0ad4ff38156ba999f10e555": {
          "model_module": "@jupyter-widgets/base",
          "model_name": "LayoutModel",
          "model_module_version": "1.2.0",
          "state": {
            "_model_module": "@jupyter-widgets/base",
            "_model_module_version": "1.2.0",
            "_model_name": "LayoutModel",
            "_view_count": null,
            "_view_module": "@jupyter-widgets/base",
            "_view_module_version": "1.2.0",
            "_view_name": "LayoutView",
            "align_content": null,
            "align_items": null,
            "align_self": null,
            "border": null,
            "bottom": null,
            "display": null,
            "flex": null,
            "flex_flow": null,
            "grid_area": null,
            "grid_auto_columns": null,
            "grid_auto_flow": null,
            "grid_auto_rows": null,
            "grid_column": null,
            "grid_gap": null,
            "grid_row": null,
            "grid_template_areas": null,
            "grid_template_columns": null,
            "grid_template_rows": null,
            "height": null,
            "justify_content": null,
            "justify_items": null,
            "left": null,
            "margin": null,
            "max_height": null,
            "max_width": null,
            "min_height": null,
            "min_width": null,
            "object_fit": null,
            "object_position": null,
            "order": null,
            "overflow": null,
            "overflow_x": null,
            "overflow_y": null,
            "padding": null,
            "right": null,
            "top": null,
            "visibility": null,
            "width": null
          }
        },
        "22b98c930c394b3bb5b819dbb928b7d9": {
          "model_module": "@jupyter-widgets/controls",
          "model_name": "ImageModel",
          "model_module_version": "1.5.0",
          "state": {
            "_dom_classes": [],
            "_model_module": "@jupyter-widgets/controls",
            "_model_module_version": "1.5.0",
            "_model_name": "ImageModel",
            "_view_count": null,
            "_view_module": "@jupyter-widgets/controls",
            "_view_module_version": "1.5.0",
            "_view_name": "ImageView",
            "format": "png",
            "height": "",
            "layout": "IPY_MODEL_2835d1ecb5ca47a4818bdb9fd58f682c",
            "width": ""
          }
        },
        "ace6e370f2e64b25a87c4e2e996844c4": {
          "model_module": "@jupyter-widgets/base",
          "model_name": "LayoutModel",
          "model_module_version": "1.2.0",
          "state": {
            "_model_module": "@jupyter-widgets/base",
            "_model_module_version": "1.2.0",
            "_model_name": "LayoutModel",
            "_view_count": null,
            "_view_module": "@jupyter-widgets/base",
            "_view_module_version": "1.2.0",
            "_view_name": "LayoutView",
            "align_content": null,
            "align_items": null,
            "align_self": null,
            "border": null,
            "bottom": null,
            "display": null,
            "flex": null,
            "flex_flow": null,
            "grid_area": null,
            "grid_auto_columns": null,
            "grid_auto_flow": null,
            "grid_auto_rows": null,
            "grid_column": null,
            "grid_gap": null,
            "grid_row": null,
            "grid_template_areas": null,
            "grid_template_columns": null,
            "grid_template_rows": null,
            "height": null,
            "justify_content": null,
            "justify_items": null,
            "left": null,
            "margin": null,
            "max_height": null,
            "max_width": null,
            "min_height": null,
            "min_width": null,
            "object_fit": null,
            "object_position": null,
            "order": null,
            "overflow": null,
            "overflow_x": null,
            "overflow_y": null,
            "padding": null,
            "right": null,
            "top": null,
            "visibility": null,
            "width": null
          }
        },
        "9139fa64f6ec4428a29f44d9cabcdcf6": {
          "model_module": "@jupyter-widgets/output",
          "model_name": "OutputModel",
          "model_module_version": "1.0.0",
          "state": {
            "_dom_classes": [],
            "_model_module": "@jupyter-widgets/output",
            "_model_module_version": "1.0.0",
            "_model_name": "OutputModel",
            "_view_count": null,
            "_view_module": "@jupyter-widgets/output",
            "_view_module_version": "1.0.0",
            "_view_name": "OutputView",
            "layout": "IPY_MODEL_ace6e370f2e64b25a87c4e2e996844c4",
            "msg_id": "",
            "outputs": [
              {
                "output_type": "stream",
                "name": "stderr",
                "text": [
                  "Downloading...\n",
                  "From: https://earthengine.googleapis.com/v1/projects/earthengine-legacy/thumbnails/c2350bcc177bf52b3ae797d3c434fc25-bb463b27418d7c2b67e9e722b52a232a:getPixels\n",
                  "To: /content/c2350bcc177bf52b3ae797d3c434fc25-bb463b27418d7c2b67e9e722b52a232a:getPixels\n"
                ]
              },
              {
                "output_type": "stream",
                "name": "stderr",
                "text": [
                  "\r  0%|          | 0.00/8.31k [00:00<?, ?B/s]"
                ]
              },
              {
                "output_type": "stream",
                "name": "stderr",
                "text": [
                  "\r100%|██████████| 8.31k/8.31k [00:00<00:00, 11.9MB/s]"
                ]
              },
              {
                "output_type": "stream",
                "name": "stderr",
                "text": [
                  "\n"
                ]
              },
              {
                "output_type": "display_data",
                "data": {
                  "text/plain": "Image(value=b'\\xff\\xd8\\xff\\xe0\\x00\\x10JFIF\\x00\\x01\\x02\\x00\\x00\\x01\\x00\\x01\\x00\\x00\\xff\\xdb\\x00C\\x00\\x02\\x01\\x0…",
                  "application/vnd.jupyter.widget-view+json": {
                    "version_major": 2,
                    "version_minor": 0,
                    "model_id": "396e6580edfe4d909c31d84e011ab22e"
                  }
                },
                "metadata": {
                  "application/vnd.jupyter.widget-view+json": {
                    "colab": {
                      "custom_widget_manager": {
                        "url": "https://ssl.gstatic.com/colaboratory-static/widgets/colab-cdn-widget-manager/2b70e893a8ba7c0f/manager.min.js"
                      }
                    }
                  }
                }
              }
            ]
          }
        },
        "2835d1ecb5ca47a4818bdb9fd58f682c": {
          "model_module": "@jupyter-widgets/base",
          "model_name": "LayoutModel",
          "model_module_version": "1.2.0",
          "state": {
            "_model_module": "@jupyter-widgets/base",
            "_model_module_version": "1.2.0",
            "_model_name": "LayoutModel",
            "_view_count": null,
            "_view_module": "@jupyter-widgets/base",
            "_view_module_version": "1.2.0",
            "_view_name": "LayoutView",
            "align_content": null,
            "align_items": null,
            "align_self": null,
            "border": null,
            "bottom": null,
            "display": null,
            "flex": null,
            "flex_flow": null,
            "grid_area": null,
            "grid_auto_columns": null,
            "grid_auto_flow": null,
            "grid_auto_rows": null,
            "grid_column": null,
            "grid_gap": null,
            "grid_row": null,
            "grid_template_areas": null,
            "grid_template_columns": null,
            "grid_template_rows": null,
            "height": null,
            "justify_content": null,
            "justify_items": null,
            "left": null,
            "margin": null,
            "max_height": null,
            "max_width": null,
            "min_height": null,
            "min_width": null,
            "object_fit": null,
            "object_position": null,
            "order": null,
            "overflow": null,
            "overflow_x": null,
            "overflow_y": null,
            "padding": null,
            "right": null,
            "top": null,
            "visibility": null,
            "width": null
          }
        },
        "396e6580edfe4d909c31d84e011ab22e": {
          "model_module": "@jupyter-widgets/controls",
          "model_name": "ImageModel",
          "model_module_version": "1.5.0",
          "state": {
            "_dom_classes": [],
            "_model_module": "@jupyter-widgets/controls",
            "_model_module_version": "1.5.0",
            "_model_name": "ImageModel",
            "_view_count": null,
            "_view_module": "@jupyter-widgets/controls",
            "_view_module_version": "1.5.0",
            "_view_name": "ImageView",
            "format": "png",
            "height": "",
            "layout": "IPY_MODEL_410a77bbc2dd4d02b84c5edcfac8c484",
            "width": ""
          }
        },
        "410a77bbc2dd4d02b84c5edcfac8c484": {
          "model_module": "@jupyter-widgets/base",
          "model_name": "LayoutModel",
          "model_module_version": "1.2.0",
          "state": {
            "_model_module": "@jupyter-widgets/base",
            "_model_module_version": "1.2.0",
            "_model_name": "LayoutModel",
            "_view_count": null,
            "_view_module": "@jupyter-widgets/base",
            "_view_module_version": "1.2.0",
            "_view_name": "LayoutView",
            "align_content": null,
            "align_items": null,
            "align_self": null,
            "border": null,
            "bottom": null,
            "display": null,
            "flex": null,
            "flex_flow": null,
            "grid_area": null,
            "grid_auto_columns": null,
            "grid_auto_flow": null,
            "grid_auto_rows": null,
            "grid_column": null,
            "grid_gap": null,
            "grid_row": null,
            "grid_template_areas": null,
            "grid_template_columns": null,
            "grid_template_rows": null,
            "height": null,
            "justify_content": null,
            "justify_items": null,
            "left": null,
            "margin": null,
            "max_height": null,
            "max_width": null,
            "min_height": null,
            "min_width": null,
            "object_fit": null,
            "object_position": null,
            "order": null,
            "overflow": null,
            "overflow_x": null,
            "overflow_y": null,
            "padding": null,
            "right": null,
            "top": null,
            "visibility": null,
            "width": null
          }
        }
      }
    }
  },
  "nbformat": 4,
  "nbformat_minor": 0
}