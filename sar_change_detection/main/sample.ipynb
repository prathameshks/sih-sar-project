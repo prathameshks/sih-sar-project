{
 "cells": [
  {
   "cell_type": "code",
   "execution_count": 3,
   "metadata": {},
   "outputs": [
    {
     "name": "stderr",
     "output_type": "stream",
     "text": [
      "<>:24: SyntaxWarning: invalid escape sequence '\\C'\n",
      "<>:24: SyntaxWarning: invalid escape sequence '\\C'\n"
     ]
    },
    {
     "data": {
      "text/html": [
       "\n",
       "            <style>\n",
       "                .geemap-dark {\n",
       "                    --jp-widgets-color: white;\n",
       "                    --jp-widgets-label-color: white;\n",
       "                    --jp-ui-font-color1: white;\n",
       "                    --jp-layout-color2: #454545;\n",
       "                    background-color: #383838;\n",
       "                }\n",
       "\n",
       "                .geemap-dark .jupyter-button {\n",
       "                    --jp-layout-color3: #383838;\n",
       "                }\n",
       "\n",
       "                .geemap-colab {\n",
       "                    background-color: var(--colab-primary-surface-color, white);\n",
       "                }\n",
       "\n",
       "                .geemap-colab .jupyter-button {\n",
       "                    --jp-layout-color3: var(--colab-primary-surface-color, white);\n",
       "                }\n",
       "            </style>\n",
       "            "
      ],
      "text/plain": [
       "<IPython.core.display.HTML object>"
      ]
     },
     "metadata": {},
     "output_type": "display_data"
    },
    {
     "name": "stderr",
     "output_type": "stream",
     "text": [
      "C:\\Users\\Dell\\AppData\\Local\\Temp\\ipykernel_7632\\1261469072.py:24: SyntaxWarning: invalid escape sequence '\\C'\n",
      "  credentials = ee.ServiceAccountCredentials(service_account, \"D:\\Coding\\sih-sar-project\\sar_change_detection\\service-account-key.json\")\n"
     ]
    }
   ],
   "source": [
    "import ee\n",
    "\n",
    "import geemap\n",
    "# from sar_change_detection.settings import env, BASE_DIR\n",
    "import os\n",
    "import json\n",
    "# from datetime import datetime\n",
    "# import numpy as np\n",
    "# import torch\n",
    "# import torchvision.transforms as transforms\n",
    "# from sklearn.ensemble import RandomForestClassifier\n",
    "# from sklearn.cluster import DBSCAN\n",
    "from segmentation_models_pytorch import DeepLabV3Plus\n",
    "from PIL import Image\n",
    "# import rasterio\n",
    "# from rasterio.features import shapes\n",
    "# from shapely.geometry import shape\n",
    "# import geopandas as gpd\n",
    "\n",
    "import json\n",
    "\n",
    "# Initialize Earth Engine\n",
    "service_account = \"django@sih-sar-prathameshks2003.iam.gserviceaccount.com\"\n",
    "credentials = ee.ServiceAccountCredentials(service_account, \"D:\\Coding\\sih-sar-project\\sar_change_detection\\service-account-key.json\")\n",
    "ee.Initialize(credentials)\n",
    "\n"
   ]
  },
  {
   "cell_type": "code",
   "execution_count": 4,
   "metadata": {},
   "outputs": [
    {
     "data": {
      "text/html": [
       "\n",
       "            <style>\n",
       "                .geemap-dark {\n",
       "                    --jp-widgets-color: white;\n",
       "                    --jp-widgets-label-color: white;\n",
       "                    --jp-ui-font-color1: white;\n",
       "                    --jp-layout-color2: #454545;\n",
       "                    background-color: #383838;\n",
       "                }\n",
       "\n",
       "                .geemap-dark .jupyter-button {\n",
       "                    --jp-layout-color3: #383838;\n",
       "                }\n",
       "\n",
       "                .geemap-colab {\n",
       "                    background-color: var(--colab-primary-surface-color, white);\n",
       "                }\n",
       "\n",
       "                .geemap-colab .jupyter-button {\n",
       "                    --jp-layout-color3: var(--colab-primary-surface-color, white);\n",
       "                }\n",
       "            </style>\n",
       "            "
      ],
      "text/plain": [
       "<IPython.core.display.HTML object>"
      ]
     },
     "metadata": {},
     "output_type": "display_data"
    },
    {
     "ename": "EEException",
     "evalue": "ImageCollection.fromImages: Parameter 'images' is required.",
     "output_type": "error",
     "traceback": [
      "\u001b[1;31m---------------------------------------------------------------------------\u001b[0m",
      "\u001b[1;31mHttpError\u001b[0m                                 Traceback (most recent call last)",
      "File \u001b[1;32md:\\Coding\\sih-sar-project\\venv\\Lib\\site-packages\\ee\\data.py:406\u001b[0m, in \u001b[0;36m_execute_cloud_call\u001b[1;34m(call, num_retries)\u001b[0m\n\u001b[0;32m    405\u001b[0m \u001b[38;5;28;01mtry\u001b[39;00m:\n\u001b[1;32m--> 406\u001b[0m   \u001b[38;5;28;01mreturn\u001b[39;00m \u001b[43mcall\u001b[49m\u001b[38;5;241;43m.\u001b[39;49m\u001b[43mexecute\u001b[49m\u001b[43m(\u001b[49m\u001b[43mnum_retries\u001b[49m\u001b[38;5;241;43m=\u001b[39;49m\u001b[43mnum_retries\u001b[49m\u001b[43m)\u001b[49m\n\u001b[0;32m    407\u001b[0m \u001b[38;5;28;01mexcept\u001b[39;00m googleapiclient\u001b[38;5;241m.\u001b[39merrors\u001b[38;5;241m.\u001b[39mHttpError \u001b[38;5;28;01mas\u001b[39;00m e:\n",
      "File \u001b[1;32md:\\Coding\\sih-sar-project\\venv\\Lib\\site-packages\\googleapiclient\\_helpers.py:130\u001b[0m, in \u001b[0;36mpositional.<locals>.positional_decorator.<locals>.positional_wrapper\u001b[1;34m(*args, **kwargs)\u001b[0m\n\u001b[0;32m    129\u001b[0m         logger\u001b[38;5;241m.\u001b[39mwarning(message)\n\u001b[1;32m--> 130\u001b[0m \u001b[38;5;28;01mreturn\u001b[39;00m \u001b[43mwrapped\u001b[49m\u001b[43m(\u001b[49m\u001b[38;5;241;43m*\u001b[39;49m\u001b[43margs\u001b[49m\u001b[43m,\u001b[49m\u001b[43m \u001b[49m\u001b[38;5;241;43m*\u001b[39;49m\u001b[38;5;241;43m*\u001b[39;49m\u001b[43mkwargs\u001b[49m\u001b[43m)\u001b[49m\n",
      "File \u001b[1;32md:\\Coding\\sih-sar-project\\venv\\Lib\\site-packages\\googleapiclient\\http.py:938\u001b[0m, in \u001b[0;36mHttpRequest.execute\u001b[1;34m(self, http, num_retries)\u001b[0m\n\u001b[0;32m    937\u001b[0m \u001b[38;5;28;01mif\u001b[39;00m resp\u001b[38;5;241m.\u001b[39mstatus \u001b[38;5;241m>\u001b[39m\u001b[38;5;241m=\u001b[39m \u001b[38;5;241m300\u001b[39m:\n\u001b[1;32m--> 938\u001b[0m     \u001b[38;5;28;01mraise\u001b[39;00m HttpError(resp, content, uri\u001b[38;5;241m=\u001b[39m\u001b[38;5;28mself\u001b[39m\u001b[38;5;241m.\u001b[39muri)\n\u001b[0;32m    939\u001b[0m \u001b[38;5;28;01mreturn\u001b[39;00m \u001b[38;5;28mself\u001b[39m\u001b[38;5;241m.\u001b[39mpostproc(resp, content)\n",
      "\u001b[1;31mHttpError\u001b[0m: <HttpError 400 when requesting https://earthengine.googleapis.com/v1/projects/earthengine-legacy/thumbnails?fields=name&alt=json returned \"ImageCollection.fromImages: Parameter 'images' is required.\". Details: \"ImageCollection.fromImages: Parameter 'images' is required.\">",
      "\nDuring handling of the above exception, another exception occurred:\n",
      "\u001b[1;31mEEException\u001b[0m                               Traceback (most recent call last)",
      "Cell \u001b[1;32mIn[4], line 91\u001b[0m\n\u001b[0;32m     82\u001b[0m             response \u001b[38;5;241m=\u001b[39m {\n\u001b[0;32m     83\u001b[0m                 \u001b[38;5;124m'\u001b[39m\u001b[38;5;124mstart_image\u001b[39m\u001b[38;5;124m'\u001b[39m: start_image_url,\n\u001b[0;32m     84\u001b[0m                 \u001b[38;5;124m'\u001b[39m\u001b[38;5;124mend_image\u001b[39m\u001b[38;5;124m'\u001b[39m: end_image_url,\n\u001b[0;32m     85\u001b[0m                 \u001b[38;5;124m'\u001b[39m\u001b[38;5;124mchange_image\u001b[39m\u001b[38;5;124m'\u001b[39m: change_image_url,\n\u001b[0;32m     86\u001b[0m                 \u001b[38;5;124m'\u001b[39m\u001b[38;5;124mchanges_geojson\u001b[39m\u001b[38;5;124m'\u001b[39m: geojson\n\u001b[0;32m     87\u001b[0m             }\n\u001b[0;32m     89\u001b[0m             \u001b[38;5;28;01mreturn\u001b[39;00m response\n\u001b[1;32m---> 91\u001b[0m \u001b[38;5;28mprint\u001b[39m(\u001b[43mdetect_changes\u001b[49m\u001b[43m(\u001b[49m\u001b[43m)\u001b[49m)\n",
      "Cell \u001b[1;32mIn[4], line 70\u001b[0m, in \u001b[0;36mdetect_changes\u001b[1;34m()\u001b[0m\n\u001b[0;32m     54\u001b[0m start_image_url \u001b[38;5;241m=\u001b[39m s2_start\u001b[38;5;241m.\u001b[39mgetThumbURL({\n\u001b[0;32m     55\u001b[0m     \u001b[38;5;124m'\u001b[39m\u001b[38;5;124mmin\u001b[39m\u001b[38;5;124m'\u001b[39m: \u001b[38;5;241m0\u001b[39m,\n\u001b[0;32m     56\u001b[0m     \u001b[38;5;124m'\u001b[39m\u001b[38;5;124mmax\u001b[39m\u001b[38;5;124m'\u001b[39m: \u001b[38;5;241m3000\u001b[39m,\n\u001b[1;32m   (...)\u001b[0m\n\u001b[0;32m     59\u001b[0m     \u001b[38;5;124m'\u001b[39m\u001b[38;5;124mbands\u001b[39m\u001b[38;5;124m'\u001b[39m: [\u001b[38;5;124m'\u001b[39m\u001b[38;5;124mB4\u001b[39m\u001b[38;5;124m'\u001b[39m, \u001b[38;5;124m'\u001b[39m\u001b[38;5;124mB3\u001b[39m\u001b[38;5;124m'\u001b[39m, \u001b[38;5;124m'\u001b[39m\u001b[38;5;124mB2\u001b[39m\u001b[38;5;124m'\u001b[39m]\n\u001b[0;32m     60\u001b[0m })\n\u001b[0;32m     62\u001b[0m end_image_url \u001b[38;5;241m=\u001b[39m s2_end\u001b[38;5;241m.\u001b[39mgetThumbURL({\n\u001b[0;32m     63\u001b[0m     \u001b[38;5;124m'\u001b[39m\u001b[38;5;124mmin\u001b[39m\u001b[38;5;124m'\u001b[39m: \u001b[38;5;241m0\u001b[39m,\n\u001b[0;32m     64\u001b[0m     \u001b[38;5;124m'\u001b[39m\u001b[38;5;124mmax\u001b[39m\u001b[38;5;124m'\u001b[39m: \u001b[38;5;241m3000\u001b[39m,\n\u001b[1;32m   (...)\u001b[0m\n\u001b[0;32m     67\u001b[0m     \u001b[38;5;124m'\u001b[39m\u001b[38;5;124mbands\u001b[39m\u001b[38;5;124m'\u001b[39m: [\u001b[38;5;124m'\u001b[39m\u001b[38;5;124mB4\u001b[39m\u001b[38;5;124m'\u001b[39m, \u001b[38;5;124m'\u001b[39m\u001b[38;5;124mB3\u001b[39m\u001b[38;5;124m'\u001b[39m, \u001b[38;5;124m'\u001b[39m\u001b[38;5;124mB2\u001b[39m\u001b[38;5;124m'\u001b[39m]\n\u001b[0;32m     68\u001b[0m })\n\u001b[1;32m---> 70\u001b[0m change_image_url \u001b[38;5;241m=\u001b[39m \u001b[43msignificant_changes\u001b[49m\u001b[38;5;241;43m.\u001b[39;49m\u001b[43mgetThumbURL\u001b[49m\u001b[43m(\u001b[49m\u001b[43m{\u001b[49m\n\u001b[0;32m     71\u001b[0m \u001b[43m    \u001b[49m\u001b[38;5;124;43m'\u001b[39;49m\u001b[38;5;124;43mmin\u001b[39;49m\u001b[38;5;124;43m'\u001b[39;49m\u001b[43m:\u001b[49m\u001b[43m \u001b[49m\u001b[38;5;241;43m0\u001b[39;49m\u001b[43m,\u001b[49m\n\u001b[0;32m     72\u001b[0m \u001b[43m    \u001b[49m\u001b[38;5;124;43m'\u001b[39;49m\u001b[38;5;124;43mmax\u001b[39;49m\u001b[38;5;124;43m'\u001b[39;49m\u001b[43m:\u001b[49m\u001b[43m \u001b[49m\u001b[38;5;241;43m1\u001b[39;49m\u001b[43m,\u001b[49m\n\u001b[0;32m     73\u001b[0m \u001b[43m    \u001b[49m\u001b[38;5;124;43m'\u001b[39;49m\u001b[38;5;124;43mdimensions\u001b[39;49m\u001b[38;5;124;43m'\u001b[39;49m\u001b[43m:\u001b[49m\u001b[43m \u001b[49m\u001b[38;5;241;43m1024\u001b[39;49m\u001b[43m,\u001b[49m\n\u001b[0;32m     74\u001b[0m \u001b[43m    \u001b[49m\u001b[38;5;124;43m'\u001b[39;49m\u001b[38;5;124;43mregion\u001b[39;49m\u001b[38;5;124;43m'\u001b[39;49m\u001b[43m:\u001b[49m\u001b[43m \u001b[49m\u001b[43maoi_geo\u001b[49m\u001b[43m,\u001b[49m\n\u001b[0;32m     75\u001b[0m \u001b[43m    \u001b[49m\u001b[38;5;124;43m'\u001b[39;49m\u001b[38;5;124;43mpalette\u001b[39;49m\u001b[38;5;124;43m'\u001b[39;49m\u001b[43m:\u001b[49m\u001b[43m \u001b[49m\u001b[43m[\u001b[49m\u001b[38;5;124;43m'\u001b[39;49m\u001b[38;5;124;43mblack\u001b[39;49m\u001b[38;5;124;43m'\u001b[39;49m\u001b[43m,\u001b[49m\u001b[43m \u001b[49m\u001b[38;5;124;43m'\u001b[39;49m\u001b[38;5;124;43mwhite\u001b[39;49m\u001b[38;5;124;43m'\u001b[39;49m\u001b[43m]\u001b[49m\n\u001b[0;32m     76\u001b[0m \u001b[43m\u001b[49m\u001b[43m}\u001b[49m\u001b[43m)\u001b[49m\n\u001b[0;32m     78\u001b[0m \u001b[38;5;66;03m# Get GeoJSON of changes\u001b[39;00m\n\u001b[0;32m     79\u001b[0m geojson \u001b[38;5;241m=\u001b[39m geemap\u001b[38;5;241m.\u001b[39mee_to_geojson(vectors)\n",
      "File \u001b[1;32md:\\Coding\\sih-sar-project\\venv\\Lib\\site-packages\\ee\\image.py:562\u001b[0m, in \u001b[0;36mImage.getThumbURL\u001b[1;34m(self, params)\u001b[0m\n\u001b[0;32m    538\u001b[0m \u001b[38;5;250m\u001b[39m\u001b[38;5;124;03m\"\"\"Get a thumbnail URL for this image.\u001b[39;00m\n\u001b[0;32m    539\u001b[0m \n\u001b[0;32m    540\u001b[0m \u001b[38;5;124;03mArgs:\u001b[39;00m\n\u001b[1;32m   (...)\u001b[0m\n\u001b[0;32m    557\u001b[0m \u001b[38;5;124;03m  EEException: If the region parameter is not an array or GeoJSON object.\u001b[39;00m\n\u001b[0;32m    558\u001b[0m \u001b[38;5;124;03m\"\"\"\u001b[39;00m\n\u001b[0;32m    559\u001b[0m \u001b[38;5;66;03m# If the Cloud API is enabled, we can do cleaner handling of the parameters.\u001b[39;00m\n\u001b[0;32m    560\u001b[0m \u001b[38;5;66;03m# If it isn't enabled, we have to be bug-for-bug compatible with current\u001b[39;00m\n\u001b[0;32m    561\u001b[0m \u001b[38;5;66;03m# behaviour.\u001b[39;00m\n\u001b[1;32m--> 562\u001b[0m \u001b[38;5;28;01mreturn\u001b[39;00m data\u001b[38;5;241m.\u001b[39mmakeThumbUrl(\u001b[38;5;28;43mself\u001b[39;49m\u001b[38;5;241;43m.\u001b[39;49m\u001b[43mgetThumbId\u001b[49m\u001b[43m(\u001b[49m\u001b[43mparams\u001b[49m\u001b[43m)\u001b[49m)\n",
      "File \u001b[1;32md:\\Coding\\sih-sar-project\\venv\\Lib\\site-packages\\ee\\image.py:535\u001b[0m, in \u001b[0;36mImage.getThumbId\u001b[1;34m(self, params)\u001b[0m\n\u001b[0;32m    533\u001b[0m image, params \u001b[38;5;241m=\u001b[39m image\u001b[38;5;241m.\u001b[39m_apply_visualization(params)\n\u001b[0;32m    534\u001b[0m params[\u001b[38;5;124m'\u001b[39m\u001b[38;5;124mimage\u001b[39m\u001b[38;5;124m'\u001b[39m] \u001b[38;5;241m=\u001b[39m image\n\u001b[1;32m--> 535\u001b[0m \u001b[38;5;28;01mreturn\u001b[39;00m \u001b[43mdata\u001b[49m\u001b[38;5;241;43m.\u001b[39;49m\u001b[43mgetThumbId\u001b[49m\u001b[43m(\u001b[49m\u001b[43mparams\u001b[49m\u001b[43m)\u001b[49m\n",
      "File \u001b[1;32md:\\Coding\\sih-sar-project\\venv\\Lib\\site-packages\\ee\\data.py:1246\u001b[0m, in \u001b[0;36mgetThumbId\u001b[1;34m(params, thumbType)\u001b[0m\n\u001b[0;32m   1242\u001b[0m   request[\u001b[38;5;124m'\u001b[39m\u001b[38;5;124mfilenamePrefix\u001b[39m\u001b[38;5;124m'\u001b[39m] \u001b[38;5;241m=\u001b[39m params\u001b[38;5;241m.\u001b[39mget(\u001b[38;5;124m'\u001b[39m\u001b[38;5;124mname\u001b[39m\u001b[38;5;124m'\u001b[39m)\n\u001b[0;32m   1243\u001b[0m   request[\u001b[38;5;124m'\u001b[39m\u001b[38;5;124mbandIds\u001b[39m\u001b[38;5;124m'\u001b[39m] \u001b[38;5;241m=\u001b[39m _cloud_api_utils\u001b[38;5;241m.\u001b[39mconvert_to_band_list(\n\u001b[0;32m   1244\u001b[0m       params\u001b[38;5;241m.\u001b[39mget(\u001b[38;5;124m'\u001b[39m\u001b[38;5;124mbands\u001b[39m\u001b[38;5;124m'\u001b[39m)\n\u001b[0;32m   1245\u001b[0m   )\n\u001b[1;32m-> 1246\u001b[0m   result \u001b[38;5;241m=\u001b[39m \u001b[43m_execute_cloud_call\u001b[49m\u001b[43m(\u001b[49m\n\u001b[0;32m   1247\u001b[0m \u001b[43m      \u001b[49m\u001b[43m_get_cloud_projects\u001b[49m\u001b[43m(\u001b[49m\u001b[43m)\u001b[49m\n\u001b[0;32m   1248\u001b[0m \u001b[43m      \u001b[49m\u001b[38;5;241;43m.\u001b[39;49m\u001b[43mthumbnails\u001b[49m\u001b[43m(\u001b[49m\u001b[43m)\u001b[49m\n\u001b[0;32m   1249\u001b[0m \u001b[43m      \u001b[49m\u001b[38;5;241;43m.\u001b[39;49m\u001b[43mcreate\u001b[49m\u001b[43m(\u001b[49m\u001b[43mparent\u001b[49m\u001b[38;5;241;43m=\u001b[39;49m\u001b[43m_get_projects_path\u001b[49m\u001b[43m(\u001b[49m\u001b[43m)\u001b[49m\u001b[43m,\u001b[49m\u001b[43m \u001b[49m\u001b[38;5;241;43m*\u001b[39;49m\u001b[38;5;241;43m*\u001b[39;49m\u001b[43mqueryParams\u001b[49m\u001b[43m)\u001b[49m\n\u001b[0;32m   1250\u001b[0m \u001b[43m  \u001b[49m\u001b[43m)\u001b[49m\n\u001b[0;32m   1251\u001b[0m \u001b[38;5;28;01mreturn\u001b[39;00m {\u001b[38;5;124m'\u001b[39m\u001b[38;5;124mthumbid\u001b[39m\u001b[38;5;124m'\u001b[39m: result[\u001b[38;5;124m'\u001b[39m\u001b[38;5;124mname\u001b[39m\u001b[38;5;124m'\u001b[39m], \u001b[38;5;124m'\u001b[39m\u001b[38;5;124mtoken\u001b[39m\u001b[38;5;124m'\u001b[39m: \u001b[38;5;124m'\u001b[39m\u001b[38;5;124m'\u001b[39m}\n",
      "File \u001b[1;32md:\\Coding\\sih-sar-project\\venv\\Lib\\site-packages\\ee\\data.py:408\u001b[0m, in \u001b[0;36m_execute_cloud_call\u001b[1;34m(call, num_retries)\u001b[0m\n\u001b[0;32m    406\u001b[0m   \u001b[38;5;28;01mreturn\u001b[39;00m call\u001b[38;5;241m.\u001b[39mexecute(num_retries\u001b[38;5;241m=\u001b[39mnum_retries)\n\u001b[0;32m    407\u001b[0m \u001b[38;5;28;01mexcept\u001b[39;00m googleapiclient\u001b[38;5;241m.\u001b[39merrors\u001b[38;5;241m.\u001b[39mHttpError \u001b[38;5;28;01mas\u001b[39;00m e:\n\u001b[1;32m--> 408\u001b[0m   \u001b[38;5;28;01mraise\u001b[39;00m _translate_cloud_exception(e)\n",
      "\u001b[1;31mEEException\u001b[0m: ImageCollection.fromImages: Parameter 'images' is required."
     ]
    }
   ],
   "source": [
    "\n",
    "def detect_changes():\n",
    "    if True:\n",
    "        # try :\n",
    "        if True:\n",
    "            # Parse input parameters\n",
    "           \n",
    "            aoi = {\"type\":\"FeatureCollection\",\"features\":[{\"type\":\"Feature\",\"properties\":{},\"geometry\":{\"type\":\"Polygon\",\"coordinates\":[[[82.134443,22.188232],[82.134443,22.224849],[82.222284,22.224849],[82.222284,22.188232],[82.134443,22.188232]]]}}]} \n",
    "            start_date =  \"2024-08-01\"\n",
    "            end_date = \"2024-09-28\"\n",
    "            # aoi_geo = geemap.geojson_to_ee(aoi)\n",
    "            aoi_geo = geemap.geojson_to_ee(aoi).geometry()  # Convert to Geometry\n",
    "\n",
    "            # Load Sentinel-2 imagery\n",
    "            s2_collection = ee.ImageCollection('COPERNICUS/S2_SR_HARMONIZED') \\\n",
    "                .filterBounds(aoi_geo) \\\n",
    "                .filterDate(start_date, end_date) \\\n",
    "                .filter(ee.Filter.lt('CLOUDY_PIXEL_PERCENTAGE', 20))\n",
    "\n",
    "            # Get start and end images\n",
    "            s2_start = s2_collection.filterDate(start_date, ee.Date(start_date).advance(1, 'month')).median()\n",
    "            s2_end = s2_collection.filterDate(ee.Date(end_date).advance(-1, 'month'), end_date).median()\n",
    "\n",
    "            # Perform change detection\n",
    "            def detect_change(current, previous):\n",
    "                previous_img = ee.Image(previous)\n",
    "                diff = current.select(['B4', 'B3', 'B2']).subtract(previous_img.select(['B4', 'B3', 'B2'])).abs()\n",
    "                return ee.Image(previous).addBands(diff.reduce(ee.Reducer.sum()).rename('change'))\n",
    "\n",
    "\n",
    "            first = s2_collection.sort('system:time_start').first()\n",
    "            \n",
    "            # changes_list = ee.List(s2_collection.sort('system:time_start').iterate(detect_change, first))\n",
    "           \n",
    "            changes_obj = s2_collection.sort('system:time_start').iterate(detect_change, first)        \n",
    "            changes = ee.ImageCollection.fromImages(changes_obj)\n",
    "            \n",
    "            # changes = ee.ImageCollection(s2_collection.sort('system:time_start').iterate(detect_change, first))\n",
    "            \n",
    "            change_image = changes.select('change').max()\n",
    "\n",
    "            # Apply threshold to identify significant changes\n",
    "            threshold = 0.1  # Adjust this value based on your needs\n",
    "            significant_changes = change_image.gt(threshold)\n",
    "\n",
    "            # Convert changes to vectors\n",
    "            vectors = significant_changes.reduceToVectors(\n",
    "                scale=10,\n",
    "                geometryType='polygon',\n",
    "                maxPixels=1e9,\n",
    "                eightConnected=False\n",
    "            )\n",
    "\n",
    "            # Prepare outputs\n",
    "            start_image_url = s2_start.getThumbURL({\n",
    "                'min': 0,\n",
    "                'max': 3000,\n",
    "                'dimensions': 1024,\n",
    "                'region': aoi_geo,\n",
    "                'bands': ['B4', 'B3', 'B2']\n",
    "            })\n",
    "\n",
    "            end_image_url = s2_end.getThumbURL({\n",
    "                'min': 0,\n",
    "                'max': 3000,\n",
    "                'dimensions': 1024,\n",
    "                'region': aoi_geo,\n",
    "                'bands': ['B4', 'B3', 'B2']\n",
    "            })\n",
    "\n",
    "            change_image_url = significant_changes.getThumbURL({\n",
    "                'min': 0,\n",
    "                'max': 1,\n",
    "                'dimensions': 1024,\n",
    "                'region': aoi_geo,\n",
    "                'palette': ['black', 'white']\n",
    "            })\n",
    "\n",
    "            # Get GeoJSON of changes\n",
    "            geojson = geemap.ee_to_geojson(vectors)\n",
    "\n",
    "            # Prepare the response\n",
    "            response = {\n",
    "                'start_image': start_image_url,\n",
    "                'end_image': end_image_url,\n",
    "                'change_image': change_image_url,\n",
    "                'changes_geojson': geojson\n",
    "            }\n",
    "\n",
    "            return response\n",
    "\n",
    "print(detect_changes())"
   ]
  }
 ],
 "metadata": {
  "kernelspec": {
   "display_name": "venv",
   "language": "python",
   "name": "python3"
  },
  "language_info": {
   "codemirror_mode": {
    "name": "ipython",
    "version": 3
   },
   "file_extension": ".py",
   "mimetype": "text/x-python",
   "name": "python",
   "nbconvert_exporter": "python",
   "pygments_lexer": "ipython3",
   "version": "3.12.6"
  }
 },
 "nbformat": 4,
 "nbformat_minor": 2
}
