{
  "cells": [
    {
      "cell_type": "code",
      "execution_count": 45,
      "metadata": {
        "colab": {
          "base_uri": "https://localhost:8080/",
          "height": 17
        },
        "id": "UlIGjrOY36Eq",
        "outputId": "c46a9d10-f923-41a5-8f0d-2559f03ae45d"
      },
      "outputs": [
        {
          "output_type": "display_data",
          "data": {
            "text/plain": [
              "<IPython.core.display.HTML object>"
            ],
            "text/html": [
              "\n",
              "            <style>\n",
              "                .geemap-dark {\n",
              "                    --jp-widgets-color: white;\n",
              "                    --jp-widgets-label-color: white;\n",
              "                    --jp-ui-font-color1: white;\n",
              "                    --jp-layout-color2: #454545;\n",
              "                    background-color: #383838;\n",
              "                }\n",
              "\n",
              "                .geemap-dark .jupyter-button {\n",
              "                    --jp-layout-color3: #383838;\n",
              "                }\n",
              "\n",
              "                .geemap-colab {\n",
              "                    background-color: var(--colab-primary-surface-color, white);\n",
              "                }\n",
              "\n",
              "                .geemap-colab .jupyter-button {\n",
              "                    --jp-layout-color3: var(--colab-primary-surface-color, white);\n",
              "                }\n",
              "            </style>\n",
              "            "
            ]
          },
          "metadata": {}
        }
      ],
      "source": [
        "import ee\n",
        "\n",
        "import geemap\n",
        "# from sar_change_detection.settings import env, BASE_DIR\n",
        "import os\n",
        "import json\n",
        "from PIL import Image\n",
        "import json\n",
        "\n",
        "# Initialize Earth Engine\n",
        "service_account = \"django@sih-sar-prathameshks2003.iam.gserviceaccount.com\"\n",
        "credentials = ee.ServiceAccountCredentials(service_account, \"service-account-key.json\")\n",
        "ee.Initialize(credentials)\n",
        "\n"
      ]
    },
    {
      "cell_type": "code",
      "execution_count": null,
      "metadata": {
        "id": "VpY269Dq36E2"
      },
      "outputs": [],
      "source": [
        "\n",
        "def detect_changes():\n",
        "    if True:\n",
        "        # try :\n",
        "        if True:\n",
        "            # Parse input parameters\n",
        "\n",
        "            aoi = {\"type\":\"FeatureCollection\",\"features\":[{\"type\":\"Feature\",\"properties\":{},\"geometry\":{\"type\":\"Polygon\",\"coordinates\":[[[82.134443,22.188232],[82.134443,22.224849],[82.222284,22.224849],[82.222284,22.188232],[82.134443,22.188232]]]}}]}\n",
        "            start_date =  \"2024-07-01\"\n",
        "            end_date = \"2024-09-28\"\n",
        "            # aoi_geo = geemap.geojson_to_ee(aoi)\n",
        "            aoi_geo = geemap.geojson_to_ee(aoi).geometry()  # Convert to Geometry\n",
        "\n",
        "            # Load Sentinel-2 imagery\n",
        "            s2_collection = ee.ImageCollection('COPERNICUS/S2_SR_HARMONIZED') \\\n",
        "                .filterBounds(aoi_geo) \\\n",
        "                .filterDate(start_date, end_date) \\\n",
        "                .filter(ee.Filter.lt('CLOUDY_PIXEL_PERCENTAGE', 20))\n",
        "\n",
        "            # Get start and end images\n",
        "            s2_start = s2_collection.filterDate(start_date, ee.Date(start_date).advance(1, 'month')).median()\n",
        "            s2_end = s2_collection.filterDate(ee.Date(end_date).advance(-1, 'month'), end_date).median()\n",
        "\n",
        "            # Perform change detection\n",
        "            def detect_change(current, previous):\n",
        "                previous_img = ee.Image(previous)\n",
        "                diff = current.select(['B4', 'B3', 'B2']).subtract(previous_img.select(['B4', 'B3', 'B2'])).abs()\n",
        "                return previous_img.addBands(diff.reduce(ee.Reducer.sum()).rename('change'))  # Return the modified image\n",
        "\n",
        "            first = s2_collection.sort('system:time_start').first()\n",
        "\n",
        "            changes_obj = ee.List(s2_collection.sort('system:time_start').iterate(detect_change, first))\n",
        "\n",
        "            print(changes_obj)\n",
        "\n",
        "            # changes_obj = s2_collection.sort('system:time_start').iterate(detect_change, first)\n",
        "            changes = ee.ImageCollection.fromImages(changes_obj)\n",
        "\n",
        "            # changes = s2_collection.sort('system:time_start').map(lambda image: detect_change(image, first))\n",
        "\n",
        "            # changes = ee.ImageCollection(s2_collection.sort('system:time_start').iterate(detect_change, first))\n",
        "\n",
        "            change_image = changes.select('change').max()\n",
        "\n",
        "            print('Change image:', change_image.getInfo())\n",
        "\n",
        "            # Apply threshold to identify significant changes\n",
        "            threshold = 0.01  # Adjust this value based on your needs\n",
        "            significant_changes = change_image.gt(threshold)\n",
        "\n",
        "\n",
        "            # Print some information to check if significant_changes is empty\n",
        "            print('Significant changes count:', significant_changes.bandNames().size().getInfo())\n",
        "\n",
        "            # Convert changes to vectors\n",
        "            vectors = significant_changes.reduceToVectors(\n",
        "                scale=10,\n",
        "                geometryType='polygon',\n",
        "                maxPixels=1e9,\n",
        "                eightConnected=False\n",
        "            )\n",
        "\n",
        "            # Prepare outputs\n",
        "            start_image_url = s2_start.getThumbURL({\n",
        "                'min': 0,\n",
        "                'max': 3000,\n",
        "                'dimensions': 1024,\n",
        "                'region': aoi_geo,\n",
        "                'bands': ['B4', 'B3', 'B2']\n",
        "            })\n",
        "\n",
        "            end_image_url = s2_end.getThumbURL({\n",
        "                'min': 0,\n",
        "                'max': 3000,\n",
        "                'dimensions': 1024,\n",
        "                'region': aoi_geo,\n",
        "                'bands': ['B4', 'B3', 'B2']\n",
        "            })\n",
        "\n",
        "            change_image_url = significant_changes.getThumbURL({\n",
        "                'min': 0,\n",
        "                'max': 1,\n",
        "                'dimensions': 1024,\n",
        "                'region': aoi_geo,\n",
        "                'palette': ['black', 'white']\n",
        "            })\n",
        "\n",
        "            # Get GeoJSON of changes\n",
        "            geojson = geemap.ee_to_geojson(vectors)\n",
        "\n",
        "            # Prepare the response\n",
        "            response = {\n",
        "                'start_image': start_image_url,\n",
        "                'end_image': end_image_url,\n",
        "                'change_image': change_image_url,\n",
        "                'changes_geojson': geojson\n",
        "            }\n",
        "\n",
        "            return response\n",
        "\n",
        "print(detect_changes())"
      ]
    },
    {
      "cell_type": "code",
      "source": [
        "def get_closest_images(s2_collection, start_date, end_date):\n",
        "    \"\"\"\n",
        "    Gets the closest non-None Sentinel-2 images BEFORE the specified start and end dates.\n",
        "\n",
        "    Args:\n",
        "        s2_collection: An ee.ImageCollection of Sentinel-2 images.\n",
        "        start_date: The start date of the image search.\n",
        "        end_date: The end date of the image search.\n",
        "\n",
        "    Returns:\n",
        "        A list containing the closest non-None Sentinel-2 images BEFORE the start and end dates.\n",
        "    \"\"\"\n",
        "\n",
        "    start_images = s2_collection.filterDate('1900-01-01', start_date).sort('system:time_start', False)\n",
        "    end_images = s2_collection.filterDate('1900-01-01', end_date).sort('system:time_start', False)\n",
        "\n",
        "    closest_start_image = None\n",
        "    closest_end_image = None\n",
        "\n",
        "    # Iterate to find the first non-None image for the start date\n",
        "    start_list = start_images.toList(start_images.size()) # convert the collection to a list\n",
        "    for i in range(start_images.size().getInfo()):\n",
        "        img = ee.Image(start_list.get(i)) # get the image from the list using index i\n",
        "        if img.getInfo() is not None:\n",
        "            closest_start_image = img\n",
        "            break\n",
        "\n",
        "    # Iterate to find the first non-None image for the end date\n",
        "    end_list = end_images.toList(end_images.size())\n",
        "    for i in range(end_images.size().getInfo()):\n",
        "        img = ee.Image(end_list.get(i))\n",
        "        if img.getInfo() is not None:\n",
        "            closest_end_image = img\n",
        "            break\n",
        "\n",
        "    return [closest_start_image, closest_end_image]"
      ],
      "metadata": {
        "colab": {
          "base_uri": "https://localhost:8080/",
          "height": 17
        },
        "id": "RL8nDobH9nf4",
        "outputId": "306e26a4-8acb-49b3-928f-1758b6676503"
      },
      "execution_count": 46,
      "outputs": [
        {
          "output_type": "display_data",
          "data": {
            "text/plain": [
              "<IPython.core.display.HTML object>"
            ],
            "text/html": [
              "\n",
              "            <style>\n",
              "                .geemap-dark {\n",
              "                    --jp-widgets-color: white;\n",
              "                    --jp-widgets-label-color: white;\n",
              "                    --jp-ui-font-color1: white;\n",
              "                    --jp-layout-color2: #454545;\n",
              "                    background-color: #383838;\n",
              "                }\n",
              "\n",
              "                .geemap-dark .jupyter-button {\n",
              "                    --jp-layout-color3: #383838;\n",
              "                }\n",
              "\n",
              "                .geemap-colab {\n",
              "                    background-color: var(--colab-primary-surface-color, white);\n",
              "                }\n",
              "\n",
              "                .geemap-colab .jupyter-button {\n",
              "                    --jp-layout-color3: var(--colab-primary-surface-color, white);\n",
              "                }\n",
              "            </style>\n",
              "            "
            ]
          },
          "metadata": {}
        }
      ]
    },
    {
      "source": [
        "\n",
        "\n",
        "def detect_changes2():\n",
        "    if True:\n",
        "        # try :\n",
        "        if True:\n",
        "            # Parse input parameters\n",
        "\n",
        "            aoi = {\"type\":\"FeatureCollection\",\"features\":[{\"type\":\"Feature\",\"properties\":{},\"geometry\":{\"type\":\"Polygon\",\"coordinates\":[[[82.134443,22.188232],[82.134443,22.224849],[82.222284,22.224849],[82.222284,22.188232],[82.134443,22.188232]]]}}]}\n",
        "            start_date =  \"2024-06-01\"\n",
        "            end_date = \"2024-05-08\"\n",
        "            # aoi_geo = geemap.geojson_to_ee(aoi)\n",
        "            aoi_geo = geemap.geojson_to_ee(aoi).geometry()  # Convert to Geometry\n",
        "\n",
        "            s2_collection = ee.ImageCollection('COPERNICUS/S2_SR_HARMONIZED') \\\n",
        "                .filterBounds(aoi_geo) \\\n",
        "                .filter(ee.Filter.lt('CLOUDY_PIXEL_PERCENTAGE', 20))\n",
        "\n",
        "            # Get the closest images\n",
        "            # start_date = ee.Date('2024-09-01')  # Replace with your start date\n",
        "            # end_date = ee.Date('2024-09-28')  # Replace with your end date\n",
        "            images = get_closest_images(s2_collection, start_date, end_date)\n",
        "\n",
        "            # Access the images (these won't be None even if exact dates aren't available)\n",
        "            s2_start = images[0]\n",
        "            s2_end = images[1]\n",
        "\n",
        "            start_image_date = s2_start.date().format('YYYY-MM-dd HH:mm:ss').getInfo()\n",
        "            end_image_date = s2_end.date().format('YYYY-MM-dd HH:mm:ss').getInfo()\n",
        "\n",
        "            # Subset bands before calculation (similar to the example you provided)\n",
        "            s2_start_bands = s2_start.select(['B4', 'B3', 'B2'])\n",
        "            s2_end_bands = s2_end.select(['B4', 'B3', 'B2'])\n",
        "\n",
        "            # Calculate difference image\n",
        "            diff = s2_end_bands.subtract(s2_start_bands).abs() # abs() after the subtraction\n",
        "            change_image = diff.reduce(ee.Reducer.sum()).rename('change')\n",
        "\n",
        "            print('Change image:', change_image.getInfo())\n",
        "\n",
        "            # Apply threshold to identify significant changes\n",
        "            threshold = 0.6  # Adjust this value based on your needs\n",
        "            significant_changes = change_image.gt(threshold)\n",
        "\n",
        "            # Print some information to check if significant_changes is empty\n",
        "            print('Significant changes count:', significant_changes.bandNames().size().getInfo())\n",
        "\n",
        "            # Convert changes to vectors\n",
        "            vectors = significant_changes.reduceToVectors(\n",
        "                geometry=aoi_geo,\n",
        "                scale=10,\n",
        "                geometryType='polygon',\n",
        "                maxPixels=1e9,\n",
        "                eightConnected=False\n",
        "            )\n",
        "\n",
        "            # Prepare outputs\n",
        "            start_image_url = s2_start.getThumbURL({\n",
        "                'min': 0,\n",
        "                'max': 3000,\n",
        "                'dimensions': 1024,\n",
        "                'region': aoi_geo,\n",
        "                'bands': ['B4', 'B3', 'B2']\n",
        "            })\n",
        "\n",
        "            end_image_url = s2_end.getThumbURL({\n",
        "                'min': 0,\n",
        "                'max': 3000,\n",
        "                'dimensions': 1024,\n",
        "                'region': aoi_geo,\n",
        "                'bands': ['B4', 'B3', 'B2']\n",
        "            })\n",
        "\n",
        "            change_image_url = significant_changes.getThumbURL({\n",
        "                'min': 0,\n",
        "                'max': 1,\n",
        "                'dimensions': 1024,\n",
        "                'region': aoi_geo,\n",
        "                'palette': ['black', 'white']\n",
        "            })\n",
        "\n",
        "            # Get GeoJSON of changes\n",
        "            geojson = geemap.ee_to_geojson(vectors)\n",
        "\n",
        "            # Prepare the response\n",
        "            response = {\n",
        "                'start_image': start_image_url,\n",
        "                'end_image': end_image_url,\n",
        "                'change_image': change_image_url,\n",
        "                'changes_geojson': geojson,\n",
        "                'start_date': start_image_date,\n",
        "                'end_date': end_image_date,\n",
        "                'bounds' : aoi_geo.bounds().getInfo(),\n",
        "                'are_images_available': start_image_date != end_image_date\n",
        "            }\n",
        "\n",
        "            return response\n",
        "ch = detect_changes2()\n"
      ],
      "cell_type": "code",
      "metadata": {
        "colab": {
          "base_uri": "https://localhost:8080/",
          "height": 211
        },
        "id": "iBqco2zzApDV",
        "outputId": "4bc3ea98-2279-4a59-b2d7-90c7a5124092"
      },
      "execution_count": 52,
      "outputs": [
        {
          "output_type": "display_data",
          "data": {
            "text/plain": [
              "<IPython.core.display.HTML object>"
            ],
            "text/html": [
              "\n",
              "            <style>\n",
              "                .geemap-dark {\n",
              "                    --jp-widgets-color: white;\n",
              "                    --jp-widgets-label-color: white;\n",
              "                    --jp-ui-font-color1: white;\n",
              "                    --jp-layout-color2: #454545;\n",
              "                    background-color: #383838;\n",
              "                }\n",
              "\n",
              "                .geemap-dark .jupyter-button {\n",
              "                    --jp-layout-color3: #383838;\n",
              "                }\n",
              "\n",
              "                .geemap-colab {\n",
              "                    background-color: var(--colab-primary-surface-color, white);\n",
              "                }\n",
              "\n",
              "                .geemap-colab .jupyter-button {\n",
              "                    --jp-layout-color3: var(--colab-primary-surface-color, white);\n",
              "                }\n",
              "            </style>\n",
              "            "
            ]
          },
          "metadata": {}
        },
        {
          "output_type": "stream",
          "name": "stdout",
          "text": [
            "Change image: {'type': 'Image', 'bands': [{'id': 'change', 'data_type': {'type': 'PixelType', 'precision': 'double'}, 'crs': 'EPSG:32644', 'crs_transform': [10, 0, 600000, 0, -10, 2500020]}]}\n",
            "Significant changes count: 1\n",
            "'start_image' : 'https://earthengine.googleapis.com/v1/projects/earthengine-legacy/thumbnails/07f199a8b0e4a6536d9392a9a6c1ca92-a6f82397da65274b455d56a5976d5e39:getPixels'\n",
            "'end_image' : 'https://earthengine.googleapis.com/v1/projects/earthengine-legacy/thumbnails/3324de4b1a280bc321e66252f63b58bc-634c2448de0be1f23f9a13083a03ff39:getPixels'\n",
            "'change_image' : 'https://earthengine.googleapis.com/v1/projects/earthengine-legacy/thumbnails/3d414f9fcf8d91237ae24d5695053027-1e40cf7858750e4ca0b538d94821e06b:getPixels'\n",
            "'changes_geojson' : '{'type': 'FeatureCollection', 'columns': {'count': 'Long<0, 4294967295>', 'label': 'Byte<0, 1>', 'system:index': 'String'}, 'features': [{'type': 'Feature', 'geometry': {'geodesic': False, 'type': 'Polygon', 'coordinates': [[[82.13436931633424, 22.189324478416093], [82.13446630616885, 22.18932380290995], [82.13445760192494, 22.188239893352513], [82.14182876238527, 22.18818838863434], [82.14182949242813, 22.18827871420921], [82.15424403729492, 22.18819121539898], [82.15424477527888, 22.18828154057859], [82.16675625384454, 22.188192400941592], [82.16675699982352, 22.18828272571696], [82.17926842252295, 22.18819262513414], [82.17926917650591, 22.188282949505265], [82.19178054266538, 22.1881918879856], [82.19178130464336, 22.188282211943502], [82.20419562693456, 22.188190906540218], [82.20419639685363, 22.188281230084893], [82.21670764838808, 22.188188254165528], [82.21670842629318, 22.18827857729698], [82.22223663608479, 22.188237188767737], [82.22232496514495, 22.1984436746392], [82.22222797211235, 22.198444402741703], [82.22232808034964, 22.21000571645082], [82.22223107938491, 22.210006444912647], [82.22233124557253, 22.221567742191578], [82.22223423664873, 22.221568471012734], [82.22226241802989, 22.22482008295796], [82.21207622425626, 22.22489629983552], [82.21207544788729, 22.224805976964582], [82.19956092908134, 22.22489874169901], [82.19956016072534, 22.22480841840586], [82.1870455842206, 22.2249002204697], [82.18704482388655, 22.224809896763325], [82.17462720327806, 22.224900035668277], [82.17462645089411, 22.22480971155766], [82.162111761543, 22.224899595709385], [82.16211101718099, 22.224809271185546], [82.14969328595397, 22.224897507027535], [82.14969254954205, 22.224807182108435], [82.13717775006648, 22.224895148303126], [82.13717702166754, 22.22480482298877], [82.1344606245762, 22.224823789236144], [82.1343879775407, 22.215791244451445], [82.13448498556617, 22.215790568163765], [82.13437897887395, 22.202603034825817], [82.13447597783544, 22.202602358933397], [82.13436931633424, 22.189324478416093]]]}, 'id': '+1770+4591', 'properties': {'count': 367129, 'label': 1}}]}'\n",
            "'start_date' : '2024-05-24 05:12:40'\n",
            "'end_date' : '2024-05-04 05:12:44'\n",
            "'bounds' : '{'geodesic': False, 'type': 'Polygon', 'coordinates': [[[82.134443, 22.188232], [82.222284, 22.188232], [82.222284, 22.224849], [82.134443, 22.224849], [82.134443, 22.188232]]]}'\n",
            "'are_images_available' : 'True'\n"
          ]
        }
      ]
    },
    {
      "cell_type": "code",
      "source": [
        "\n",
        "for k in ch.keys():\n",
        "    if(k == 'changes_geojson'):\n",
        "        print(f\"'{k}' : {ch[k]},\")\n",
        "    else:\n",
        "        print(f\"'{k}' : '{ch[k]}',\")"
      ],
      "metadata": {
        "colab": {
          "base_uri": "https://localhost:8080/",
          "height": 158
        },
        "id": "W04Lf87huzvr",
        "outputId": "594dd113-2b60-4eb9-f928-fcb175160528"
      },
      "execution_count": 51,
      "outputs": [
        {
          "output_type": "display_data",
          "data": {
            "text/plain": [
              "<IPython.core.display.HTML object>"
            ],
            "text/html": [
              "\n",
              "            <style>\n",
              "                .geemap-dark {\n",
              "                    --jp-widgets-color: white;\n",
              "                    --jp-widgets-label-color: white;\n",
              "                    --jp-ui-font-color1: white;\n",
              "                    --jp-layout-color2: #454545;\n",
              "                    background-color: #383838;\n",
              "                }\n",
              "\n",
              "                .geemap-dark .jupyter-button {\n",
              "                    --jp-layout-color3: #383838;\n",
              "                }\n",
              "\n",
              "                .geemap-colab {\n",
              "                    background-color: var(--colab-primary-surface-color, white);\n",
              "                }\n",
              "\n",
              "                .geemap-colab .jupyter-button {\n",
              "                    --jp-layout-color3: var(--colab-primary-surface-color, white);\n",
              "                }\n",
              "            </style>\n",
              "            "
            ]
          },
          "metadata": {}
        },
        {
          "output_type": "stream",
          "name": "stdout",
          "text": [
            "'start_image' : 'https://earthengine.googleapis.com/v1/projects/earthengine-legacy/thumbnails/d9ca3650cc9bb81f8dfa00e199488d84-75c293210111bdebdc76b67a5f40f8a2:getPixels',\n",
            "'end_image' : 'https://earthengine.googleapis.com/v1/projects/earthengine-legacy/thumbnails/3bbec56d91c3f3acb5b4883bde516121-21b2ef1a6e0f5f87181965f3ee10e8ff:getPixels',\n",
            "'change_image' : 'https://earthengine.googleapis.com/v1/projects/earthengine-legacy/thumbnails/938736a42876bfcd98b4216344922204-458b48be4ba055f051bca5b9b3b07936:getPixels',\n",
            "'changes_geojson' : {'type': 'FeatureCollection', 'columns': {'count': 'Long<0, 4294967295>', 'label': 'Byte<0, 1>', 'system:index': 'String'}, 'features': [{'type': 'Feature', 'geometry': {'geodesic': False, 'type': 'Polygon', 'coordinates': [[[82.13436931633424, 22.189324478416093], [82.13446630616885, 22.18932380290995], [82.13445760192494, 22.188239893352513], [82.14182876238527, 22.18818838863434], [82.14182949242813, 22.18827871420921], [82.15424403729492, 22.18819121539898], [82.15424477527888, 22.18828154057859], [82.16675625384454, 22.188192400941592], [82.16675699982352, 22.18828272571696], [82.17926842252295, 22.18819262513414], [82.17926917650591, 22.188282949505265], [82.19178054266538, 22.1881918879856], [82.19178130464336, 22.188282211943502], [82.20419562693456, 22.188190906540218], [82.20419639685363, 22.188281230084893], [82.21670764838808, 22.188188254165528], [82.21670842629318, 22.18827857729698], [82.22223663608479, 22.188237188767737], [82.22232496514495, 22.1984436746392], [82.22222797211235, 22.198444402741703], [82.22232808034964, 22.21000571645082], [82.22223107938491, 22.210006444912647], [82.22233124557253, 22.221567742191578], [82.22223423664873, 22.221568471012734], [82.22226241802989, 22.22482008295796], [82.21207622425626, 22.22489629983552], [82.21207544788729, 22.224805976964582], [82.19956092908134, 22.22489874169901], [82.19956016072534, 22.22480841840586], [82.1870455842206, 22.2249002204697], [82.18704482388655, 22.224809896763325], [82.17462720327806, 22.224900035668277], [82.17462645089411, 22.22480971155766], [82.162111761543, 22.224899595709385], [82.16211101718099, 22.224809271185546], [82.14969328595397, 22.224897507027535], [82.14969254954205, 22.224807182108435], [82.13717775006648, 22.224895148303126], [82.13717702166754, 22.22480482298877], [82.1344606245762, 22.224823789236144], [82.1343879775407, 22.215791244451445], [82.13448498556617, 22.215790568163765], [82.13437897887395, 22.202603034825817], [82.13447597783544, 22.202602358933397], [82.13436931633424, 22.189324478416093]]]}, 'id': '+1770+4591', 'properties': {'count': 367129, 'label': 1}}]},\n",
            "'start_date' : '2024-05-24 05:12:40',\n",
            "'end_date' : '2024-05-04 05:12:44',\n",
            "'are_images_available' : 'True',\n"
          ]
        }
      ]
    },
    {
      "cell_type": "code",
      "source": [
        "# show images start end and chnages\n",
        "\n",
        "geemap.show_image(ch['start_image'])\n",
        "geemap.show_image(ch['end_image'])\n",
        "geemap.show_image(ch['change_image'])"
      ],
      "metadata": {
        "collapsed": true,
        "colab": {
          "base_uri": "https://localhost:8080/",
          "height": 1000,
          "referenced_widgets": [
            "afe32b17a79e4facbffa950f4371e612",
            "e9e1614635c7493b9f1efdad01b6a1e4",
            "3e07e8e0b2484907941cae738159aa41",
            "ebc76a3ada1a4a02a4c6b85ec335d14b",
            "dd9d01de747d4086a0f6c01b27618f3b",
            "74791f6367284eb48b9590507fc69255",
            "4bf344f91de84af3a9673262e70cafc4",
            "be1c2fb37d9545bf9ac20c7b3b2fbf3e",
            "78d62348acb14fdfbf972dd8f43b2ef9",
            "519555843b4a411eae9b546b1e4bd58a",
            "d4faa4bda22047bab6ad1c724eee3f89",
            "a3894a588e6a40cf98d0f9aa5fd2a066"
          ]
        },
        "id": "0HLaEWxQZH5R",
        "outputId": "0abf4f79-fb13-419c-9a06-e1eeae28b899"
      },
      "execution_count": 54,
      "outputs": [
        {
          "output_type": "display_data",
          "data": {
            "text/plain": [
              "<IPython.core.display.HTML object>"
            ],
            "text/html": [
              "\n",
              "            <style>\n",
              "                .geemap-dark {\n",
              "                    --jp-widgets-color: white;\n",
              "                    --jp-widgets-label-color: white;\n",
              "                    --jp-ui-font-color1: white;\n",
              "                    --jp-layout-color2: #454545;\n",
              "                    background-color: #383838;\n",
              "                }\n",
              "\n",
              "                .geemap-dark .jupyter-button {\n",
              "                    --jp-layout-color3: #383838;\n",
              "                }\n",
              "\n",
              "                .geemap-colab {\n",
              "                    background-color: var(--colab-primary-surface-color, white);\n",
              "                }\n",
              "\n",
              "                .geemap-colab .jupyter-button {\n",
              "                    --jp-layout-color3: var(--colab-primary-surface-color, white);\n",
              "                }\n",
              "            </style>\n",
              "            "
            ]
          },
          "metadata": {}
        },
        {
          "output_type": "display_data",
          "data": {
            "text/plain": [
              "Output()"
            ],
            "application/vnd.jupyter.widget-view+json": {
              "version_major": 2,
              "version_minor": 0,
              "model_id": "afe32b17a79e4facbffa950f4371e612"
            }
          },
          "metadata": {
            "application/vnd.jupyter.widget-view+json": {
              "colab": {
                "custom_widget_manager": {
                  "url": "https://ssl.gstatic.com/colaboratory-static/widgets/colab-cdn-widget-manager/2b70e893a8ba7c0f/manager.min.js"
                }
              }
            }
          }
        },
        {
          "output_type": "display_data",
          "data": {
            "text/plain": [
              "Output()"
            ],
            "application/vnd.jupyter.widget-view+json": {
              "version_major": 2,
              "version_minor": 0,
              "model_id": "dd9d01de747d4086a0f6c01b27618f3b"
            }
          },
          "metadata": {
            "application/vnd.jupyter.widget-view+json": {
              "colab": {
                "custom_widget_manager": {
                  "url": "https://ssl.gstatic.com/colaboratory-static/widgets/colab-cdn-widget-manager/2b70e893a8ba7c0f/manager.min.js"
                }
              }
            }
          }
        },
        {
          "output_type": "display_data",
          "data": {
            "text/plain": [
              "Output()"
            ],
            "application/vnd.jupyter.widget-view+json": {
              "version_major": 2,
              "version_minor": 0,
              "model_id": "78d62348acb14fdfbf972dd8f43b2ef9"
            }
          },
          "metadata": {
            "application/vnd.jupyter.widget-view+json": {
              "colab": {
                "custom_widget_manager": {
                  "url": "https://ssl.gstatic.com/colaboratory-static/widgets/colab-cdn-widget-manager/2b70e893a8ba7c0f/manager.min.js"
                }
              }
            }
          }
        }
      ]
    },
    {
      "cell_type": "code",
      "source": [
        "def detect_changes3():\n",
        "    if True:\n",
        "        # try :\n",
        "        if True:\n",
        "            # Parse input parameters\n",
        "\n",
        "            aoi = {\"type\":\"FeatureCollection\",\"features\":[{\"type\":\"Feature\",\"properties\":{},\"geometry\":{\"type\":\"Polygon\",\"coordinates\":[[[82.134443,22.188232],[82.134443,22.224849],[82.222284,22.224849],[82.222284,22.188232],[82.134443,22.188232]]]}}]}\n",
        "            start_date =  \"2024-06-01\"\n",
        "            end_date = \"2024-05-08\"\n",
        "            # aoi_geo = geemap.geojson_to_ee(aoi)\n",
        "            aoi_geo = geemap.geojson_to_ee(aoi).geometry()  # Convert to Geometry\n",
        "\n",
        "            classifier = ee.Classifier.load('USGS/NLCD/NLCD2016')\n",
        "\n",
        "            # Get closest non-cloudy Sentinel-2 images\n",
        "            s2_collection = ee.ImageCollection('COPERNICUS/S2_SR_HARMONIZED') \\\n",
        "                            .filterBounds(aoi_geo) \\\n",
        "                            .filter(ee.Filter.lt('CLOUDY_PIXEL_PERCENTAGE', 20))\n",
        "            images = get_closest_images(s2_collection, start_date, end_date)\n",
        "\n",
        "            # Access the images (these won't be None even if exact dates aren't available)\n",
        "            s2_start = images[0]\n",
        "            s2_end = images[1]\n",
        "\n",
        "            start_image_date = s2_start.date().format('YYYY-MM-dd HH:mm:ss').getInfo()\n",
        "            end_image_date = s2_end.date().format('YYYY-MM-dd HH:mm:ss').getInfo()\n",
        "\n",
        "            # Classify start and end images\n",
        "            s2_start_classified = images[0].classify(classifier)\n",
        "            s2_end_classified = images[1].classify(classifier)\n",
        "\n",
        "            # Identify changed pixels based on classification difference\n",
        "            change_mask = s2_start_classified.neq(s2_end_classified)\n",
        "\n",
        "             # Convert change mask to polygons\n",
        "            change_polygons = change_mask.reduceToVectors(\n",
        "                geometry=aoi_geo,\n",
        "                scale=30,  # Adjust scale as needed\n",
        "                geometryType='polygon',\n",
        "                maxPixels=1e9,\n",
        "                eightConnected=False\n",
        "            )\n",
        "\n",
        "            # Prepare outputs\n",
        "            start_image_url = s2_start.getThumbURL({\n",
        "                'min': 0,\n",
        "                'max': 3000,\n",
        "                'dimensions': 1024,\n",
        "                'region': aoi_geo,\n",
        "                'bands': ['B4', 'B3', 'B2']\n",
        "            })\n",
        "\n",
        "            end_image_url = s2_end.getThumbURL({\n",
        "                'min': 0,\n",
        "                'max': 3000,\n",
        "                'dimensions': 1024,\n",
        "                'region': aoi_geo,\n",
        "                'bands': ['B4', 'B3', 'B2']\n",
        "            })\n",
        "\n",
        "            change_image_url = change_mask.getThumbURL({\n",
        "                'min': 0,\n",
        "                'max': 1,\n",
        "                'dimensions': 1024,\n",
        "                'region': aoi_geo,\n",
        "                'palette': ['black', 'white']\n",
        "            })\n",
        "\n",
        "            # Get GeoJSON of changes\n",
        "            geojson = geemap.ee_to_geojson(change_polygons)\n",
        "\n",
        "            # Prepare the response\n",
        "            response = {\n",
        "                'start_image': start_image_url,\n",
        "                'end_image': end_image_url,\n",
        "                'change_image': change_image_url,\n",
        "                'changes_geojson': geojson,\n",
        "                'start_date': start_image_date,\n",
        "                'end_date': end_image_date,\n",
        "                'bounds' : aoi_geo.bounds().getInfo(),\n",
        "                'are_images_available': start_image_date != end_image_date\n",
        "            }\n",
        "\n",
        "            return response\n",
        "\n"
      ],
      "metadata": {
        "colab": {
          "base_uri": "https://localhost:8080/",
          "height": 17
        },
        "id": "v8yeUFOMKca5",
        "outputId": "daa57726-9564-452d-d1d9-99e1f9040784"
      },
      "execution_count": 65,
      "outputs": [
        {
          "output_type": "display_data",
          "data": {
            "text/plain": [
              "<IPython.core.display.HTML object>"
            ],
            "text/html": [
              "\n",
              "            <style>\n",
              "                .geemap-dark {\n",
              "                    --jp-widgets-color: white;\n",
              "                    --jp-widgets-label-color: white;\n",
              "                    --jp-ui-font-color1: white;\n",
              "                    --jp-layout-color2: #454545;\n",
              "                    background-color: #383838;\n",
              "                }\n",
              "\n",
              "                .geemap-dark .jupyter-button {\n",
              "                    --jp-layout-color3: #383838;\n",
              "                }\n",
              "\n",
              "                .geemap-colab {\n",
              "                    background-color: var(--colab-primary-surface-color, white);\n",
              "                }\n",
              "\n",
              "                .geemap-colab .jupyter-button {\n",
              "                    --jp-layout-color3: var(--colab-primary-surface-color, white);\n",
              "                }\n",
              "            </style>\n",
              "            "
            ]
          },
          "metadata": {}
        }
      ]
    },
    {
      "cell_type": "code",
      "source": [
        "c3 = detect_changes3()\n",
        "\n",
        "\n",
        "\n",
        "geemap.show_image(c3['start_image'])\n",
        "geemap.show_image(c3['end_image'])\n",
        "geemap.show_image(c3['change_image'])"
      ],
      "metadata": {
        "colab": {
          "base_uri": "https://localhost:8080/",
          "height": 443
        },
        "id": "nbqF__37KlzL",
        "outputId": "74b1f6ea-7105-4361-9da2-eb9d6eed2043"
      },
      "execution_count": 66,
      "outputs": [
        {
          "output_type": "display_data",
          "data": {
            "text/plain": [
              "<IPython.core.display.HTML object>"
            ],
            "text/html": [
              "\n",
              "            <style>\n",
              "                .geemap-dark {\n",
              "                    --jp-widgets-color: white;\n",
              "                    --jp-widgets-label-color: white;\n",
              "                    --jp-ui-font-color1: white;\n",
              "                    --jp-layout-color2: #454545;\n",
              "                    background-color: #383838;\n",
              "                }\n",
              "\n",
              "                .geemap-dark .jupyter-button {\n",
              "                    --jp-layout-color3: #383838;\n",
              "                }\n",
              "\n",
              "                .geemap-colab {\n",
              "                    background-color: var(--colab-primary-surface-color, white);\n",
              "                }\n",
              "\n",
              "                .geemap-colab .jupyter-button {\n",
              "                    --jp-layout-color3: var(--colab-primary-surface-color, white);\n",
              "                }\n",
              "            </style>\n",
              "            "
            ]
          },
          "metadata": {}
        },
        {
          "output_type": "error",
          "ename": "EEException",
          "evalue": "Asset 'USGS/NLCD/NLCD2016' is not a Classifier.",
          "traceback": [
            "\u001b[0;31m---------------------------------------------------------------------------\u001b[0m",
            "\u001b[0;31mHttpError\u001b[0m                                 Traceback (most recent call last)",
            "\u001b[0;32m/usr/local/lib/python3.10/dist-packages/ee/data.py\u001b[0m in \u001b[0;36m_execute_cloud_call\u001b[0;34m(call, num_retries)\u001b[0m\n\u001b[1;32m    405\u001b[0m   \u001b[0;32mtry\u001b[0m\u001b[0;34m:\u001b[0m\u001b[0;34m\u001b[0m\u001b[0;34m\u001b[0m\u001b[0m\n\u001b[0;32m--> 406\u001b[0;31m     \u001b[0;32mreturn\u001b[0m \u001b[0mcall\u001b[0m\u001b[0;34m.\u001b[0m\u001b[0mexecute\u001b[0m\u001b[0;34m(\u001b[0m\u001b[0mnum_retries\u001b[0m\u001b[0;34m=\u001b[0m\u001b[0mnum_retries\u001b[0m\u001b[0;34m)\u001b[0m\u001b[0;34m\u001b[0m\u001b[0;34m\u001b[0m\u001b[0m\n\u001b[0m\u001b[1;32m    407\u001b[0m   \u001b[0;32mexcept\u001b[0m \u001b[0mgoogleapiclient\u001b[0m\u001b[0;34m.\u001b[0m\u001b[0merrors\u001b[0m\u001b[0;34m.\u001b[0m\u001b[0mHttpError\u001b[0m \u001b[0;32mas\u001b[0m \u001b[0me\u001b[0m\u001b[0;34m:\u001b[0m\u001b[0;34m\u001b[0m\u001b[0;34m\u001b[0m\u001b[0m\n",
            "\u001b[0;32m/usr/local/lib/python3.10/dist-packages/googleapiclient/_helpers.py\u001b[0m in \u001b[0;36mpositional_wrapper\u001b[0;34m(*args, **kwargs)\u001b[0m\n\u001b[1;32m    129\u001b[0m                     \u001b[0mlogger\u001b[0m\u001b[0;34m.\u001b[0m\u001b[0mwarning\u001b[0m\u001b[0;34m(\u001b[0m\u001b[0mmessage\u001b[0m\u001b[0;34m)\u001b[0m\u001b[0;34m\u001b[0m\u001b[0;34m\u001b[0m\u001b[0m\n\u001b[0;32m--> 130\u001b[0;31m             \u001b[0;32mreturn\u001b[0m \u001b[0mwrapped\u001b[0m\u001b[0;34m(\u001b[0m\u001b[0;34m*\u001b[0m\u001b[0margs\u001b[0m\u001b[0;34m,\u001b[0m \u001b[0;34m**\u001b[0m\u001b[0mkwargs\u001b[0m\u001b[0;34m)\u001b[0m\u001b[0;34m\u001b[0m\u001b[0;34m\u001b[0m\u001b[0m\n\u001b[0m\u001b[1;32m    131\u001b[0m \u001b[0;34m\u001b[0m\u001b[0m\n",
            "\u001b[0;32m/usr/local/lib/python3.10/dist-packages/googleapiclient/http.py\u001b[0m in \u001b[0;36mexecute\u001b[0;34m(self, http, num_retries)\u001b[0m\n\u001b[1;32m    937\u001b[0m         \u001b[0;32mif\u001b[0m \u001b[0mresp\u001b[0m\u001b[0;34m.\u001b[0m\u001b[0mstatus\u001b[0m \u001b[0;34m>=\u001b[0m \u001b[0;36m300\u001b[0m\u001b[0;34m:\u001b[0m\u001b[0;34m\u001b[0m\u001b[0;34m\u001b[0m\u001b[0m\n\u001b[0;32m--> 938\u001b[0;31m             \u001b[0;32mraise\u001b[0m \u001b[0mHttpError\u001b[0m\u001b[0;34m(\u001b[0m\u001b[0mresp\u001b[0m\u001b[0;34m,\u001b[0m \u001b[0mcontent\u001b[0m\u001b[0;34m,\u001b[0m \u001b[0muri\u001b[0m\u001b[0;34m=\u001b[0m\u001b[0mself\u001b[0m\u001b[0;34m.\u001b[0m\u001b[0muri\u001b[0m\u001b[0;34m)\u001b[0m\u001b[0;34m\u001b[0m\u001b[0;34m\u001b[0m\u001b[0m\n\u001b[0m\u001b[1;32m    939\u001b[0m         \u001b[0;32mreturn\u001b[0m \u001b[0mself\u001b[0m\u001b[0;34m.\u001b[0m\u001b[0mpostproc\u001b[0m\u001b[0;34m(\u001b[0m\u001b[0mresp\u001b[0m\u001b[0;34m,\u001b[0m \u001b[0mcontent\u001b[0m\u001b[0;34m)\u001b[0m\u001b[0;34m\u001b[0m\u001b[0;34m\u001b[0m\u001b[0m\n",
            "\u001b[0;31mHttpError\u001b[0m: <HttpError 400 when requesting https://earthengine.googleapis.com/v1/projects/earthengine-legacy/thumbnails?fields=name&alt=json returned \"Asset 'USGS/NLCD/NLCD2016' is not a Classifier.\". Details: \"Asset 'USGS/NLCD/NLCD2016' is not a Classifier.\">",
            "\nDuring handling of the above exception, another exception occurred:\n",
            "\u001b[0;31mEEException\u001b[0m                               Traceback (most recent call last)",
            "\u001b[0;32m<ipython-input-66-d5a9f129a249>\u001b[0m in \u001b[0;36m<cell line: 1>\u001b[0;34m()\u001b[0m\n\u001b[0;32m----> 1\u001b[0;31m \u001b[0mc3\u001b[0m \u001b[0;34m=\u001b[0m \u001b[0mdetect_changes3\u001b[0m\u001b[0;34m(\u001b[0m\u001b[0;34m)\u001b[0m\u001b[0;34m\u001b[0m\u001b[0;34m\u001b[0m\u001b[0m\n\u001b[0m\u001b[1;32m      2\u001b[0m \u001b[0;34m\u001b[0m\u001b[0m\n\u001b[1;32m      3\u001b[0m \u001b[0;34m\u001b[0m\u001b[0m\n\u001b[1;32m      4\u001b[0m \u001b[0;34m\u001b[0m\u001b[0m\n\u001b[1;32m      5\u001b[0m \u001b[0mgeemap\u001b[0m\u001b[0;34m.\u001b[0m\u001b[0mshow_image\u001b[0m\u001b[0;34m(\u001b[0m\u001b[0mc3\u001b[0m\u001b[0;34m[\u001b[0m\u001b[0;34m'start_image'\u001b[0m\u001b[0;34m]\u001b[0m\u001b[0;34m)\u001b[0m\u001b[0;34m\u001b[0m\u001b[0;34m\u001b[0m\u001b[0m\n",
            "\u001b[0;32m<ipython-input-65-6f70b25cb44f>\u001b[0m in \u001b[0;36mdetect_changes3\u001b[0;34m()\u001b[0m\n\u001b[1;32m     59\u001b[0m             })\n\u001b[1;32m     60\u001b[0m \u001b[0;34m\u001b[0m\u001b[0m\n\u001b[0;32m---> 61\u001b[0;31m             change_image_url = change_mask.getThumbURL({\n\u001b[0m\u001b[1;32m     62\u001b[0m                 \u001b[0;34m'min'\u001b[0m\u001b[0;34m:\u001b[0m \u001b[0;36m0\u001b[0m\u001b[0;34m,\u001b[0m\u001b[0;34m\u001b[0m\u001b[0;34m\u001b[0m\u001b[0m\n\u001b[1;32m     63\u001b[0m                 \u001b[0;34m'max'\u001b[0m\u001b[0;34m:\u001b[0m \u001b[0;36m1\u001b[0m\u001b[0;34m,\u001b[0m\u001b[0;34m\u001b[0m\u001b[0;34m\u001b[0m\u001b[0m\n",
            "\u001b[0;32m/usr/local/lib/python3.10/dist-packages/ee/image.py\u001b[0m in \u001b[0;36mgetThumbURL\u001b[0;34m(self, params)\u001b[0m\n\u001b[1;32m    560\u001b[0m     \u001b[0;31m# If it isn't enabled, we have to be bug-for-bug compatible with current\u001b[0m\u001b[0;34m\u001b[0m\u001b[0;34m\u001b[0m\u001b[0m\n\u001b[1;32m    561\u001b[0m     \u001b[0;31m# behaviour.\u001b[0m\u001b[0;34m\u001b[0m\u001b[0;34m\u001b[0m\u001b[0m\n\u001b[0;32m--> 562\u001b[0;31m     \u001b[0;32mreturn\u001b[0m \u001b[0mdata\u001b[0m\u001b[0;34m.\u001b[0m\u001b[0mmakeThumbUrl\u001b[0m\u001b[0;34m(\u001b[0m\u001b[0mself\u001b[0m\u001b[0;34m.\u001b[0m\u001b[0mgetThumbId\u001b[0m\u001b[0;34m(\u001b[0m\u001b[0mparams\u001b[0m\u001b[0;34m)\u001b[0m\u001b[0;34m)\u001b[0m\u001b[0;34m\u001b[0m\u001b[0;34m\u001b[0m\u001b[0m\n\u001b[0m\u001b[1;32m    563\u001b[0m \u001b[0;34m\u001b[0m\u001b[0m\n\u001b[1;32m    564\u001b[0m   \u001b[0;31m# pylint: disable=g-bad-name\u001b[0m\u001b[0;34m\u001b[0m\u001b[0;34m\u001b[0m\u001b[0m\n",
            "\u001b[0;32m/usr/local/lib/python3.10/dist-packages/ee/image.py\u001b[0m in \u001b[0;36mgetThumbId\u001b[0;34m(self, params)\u001b[0m\n\u001b[1;32m    533\u001b[0m     \u001b[0mimage\u001b[0m\u001b[0;34m,\u001b[0m \u001b[0mparams\u001b[0m \u001b[0;34m=\u001b[0m \u001b[0mimage\u001b[0m\u001b[0;34m.\u001b[0m\u001b[0m_apply_visualization\u001b[0m\u001b[0;34m(\u001b[0m\u001b[0mparams\u001b[0m\u001b[0;34m)\u001b[0m\u001b[0;34m\u001b[0m\u001b[0;34m\u001b[0m\u001b[0m\n\u001b[1;32m    534\u001b[0m     \u001b[0mparams\u001b[0m\u001b[0;34m[\u001b[0m\u001b[0;34m'image'\u001b[0m\u001b[0;34m]\u001b[0m \u001b[0;34m=\u001b[0m \u001b[0mimage\u001b[0m\u001b[0;34m\u001b[0m\u001b[0;34m\u001b[0m\u001b[0m\n\u001b[0;32m--> 535\u001b[0;31m     \u001b[0;32mreturn\u001b[0m \u001b[0mdata\u001b[0m\u001b[0;34m.\u001b[0m\u001b[0mgetThumbId\u001b[0m\u001b[0;34m(\u001b[0m\u001b[0mparams\u001b[0m\u001b[0;34m)\u001b[0m\u001b[0;34m\u001b[0m\u001b[0;34m\u001b[0m\u001b[0m\n\u001b[0m\u001b[1;32m    536\u001b[0m \u001b[0;34m\u001b[0m\u001b[0m\n\u001b[1;32m    537\u001b[0m   \u001b[0;32mdef\u001b[0m \u001b[0mgetThumbURL\u001b[0m\u001b[0;34m(\u001b[0m\u001b[0mself\u001b[0m\u001b[0;34m,\u001b[0m \u001b[0mparams\u001b[0m\u001b[0;34m:\u001b[0m \u001b[0mOptional\u001b[0m\u001b[0;34m[\u001b[0m\u001b[0mDict\u001b[0m\u001b[0;34m[\u001b[0m\u001b[0mstr\u001b[0m\u001b[0;34m,\u001b[0m \u001b[0mAny\u001b[0m\u001b[0;34m]\u001b[0m\u001b[0;34m]\u001b[0m \u001b[0;34m=\u001b[0m \u001b[0;32mNone\u001b[0m\u001b[0;34m)\u001b[0m \u001b[0;34m->\u001b[0m \u001b[0mstr\u001b[0m\u001b[0;34m:\u001b[0m\u001b[0;34m\u001b[0m\u001b[0;34m\u001b[0m\u001b[0m\n",
            "\u001b[0;32m/usr/local/lib/python3.10/dist-packages/ee/data.py\u001b[0m in \u001b[0;36mgetThumbId\u001b[0;34m(params, thumbType)\u001b[0m\n\u001b[1;32m   1244\u001b[0m         \u001b[0mparams\u001b[0m\u001b[0;34m.\u001b[0m\u001b[0mget\u001b[0m\u001b[0;34m(\u001b[0m\u001b[0;34m'bands'\u001b[0m\u001b[0;34m)\u001b[0m\u001b[0;34m\u001b[0m\u001b[0;34m\u001b[0m\u001b[0m\n\u001b[1;32m   1245\u001b[0m     )\n\u001b[0;32m-> 1246\u001b[0;31m     result = _execute_cloud_call(\n\u001b[0m\u001b[1;32m   1247\u001b[0m         \u001b[0m_get_cloud_projects\u001b[0m\u001b[0;34m(\u001b[0m\u001b[0;34m)\u001b[0m\u001b[0;34m\u001b[0m\u001b[0;34m\u001b[0m\u001b[0m\n\u001b[1;32m   1248\u001b[0m         \u001b[0;34m.\u001b[0m\u001b[0mthumbnails\u001b[0m\u001b[0;34m(\u001b[0m\u001b[0;34m)\u001b[0m\u001b[0;34m\u001b[0m\u001b[0;34m\u001b[0m\u001b[0m\n",
            "\u001b[0;32m/usr/local/lib/python3.10/dist-packages/ee/data.py\u001b[0m in \u001b[0;36m_execute_cloud_call\u001b[0;34m(call, num_retries)\u001b[0m\n\u001b[1;32m    406\u001b[0m     \u001b[0;32mreturn\u001b[0m \u001b[0mcall\u001b[0m\u001b[0;34m.\u001b[0m\u001b[0mexecute\u001b[0m\u001b[0;34m(\u001b[0m\u001b[0mnum_retries\u001b[0m\u001b[0;34m=\u001b[0m\u001b[0mnum_retries\u001b[0m\u001b[0;34m)\u001b[0m\u001b[0;34m\u001b[0m\u001b[0;34m\u001b[0m\u001b[0m\n\u001b[1;32m    407\u001b[0m   \u001b[0;32mexcept\u001b[0m \u001b[0mgoogleapiclient\u001b[0m\u001b[0;34m.\u001b[0m\u001b[0merrors\u001b[0m\u001b[0;34m.\u001b[0m\u001b[0mHttpError\u001b[0m \u001b[0;32mas\u001b[0m \u001b[0me\u001b[0m\u001b[0;34m:\u001b[0m\u001b[0;34m\u001b[0m\u001b[0;34m\u001b[0m\u001b[0m\n\u001b[0;32m--> 408\u001b[0;31m     \u001b[0;32mraise\u001b[0m \u001b[0m_translate_cloud_exception\u001b[0m\u001b[0;34m(\u001b[0m\u001b[0me\u001b[0m\u001b[0;34m)\u001b[0m  \u001b[0;31m# pylint: disable=raise-missing-from\u001b[0m\u001b[0;34m\u001b[0m\u001b[0;34m\u001b[0m\u001b[0m\n\u001b[0m\u001b[1;32m    409\u001b[0m \u001b[0;34m\u001b[0m\u001b[0m\n\u001b[1;32m    410\u001b[0m \u001b[0;34m\u001b[0m\u001b[0m\n",
            "\u001b[0;31mEEException\u001b[0m: Asset 'USGS/NLCD/NLCD2016' is not a Classifier."
          ]
        }
      ]
    },
    {
      "cell_type": "code",
      "source": [],
      "metadata": {
        "id": "toT358QZQyqm"
      },
      "execution_count": null,
      "outputs": []
    },
    {
      "source": [
        "\n",
        "\n",
        "def detect_changes4():\n",
        "    if True:\n",
        "        # try :\n",
        "        if True:\n",
        "            # Parse input parameters\n",
        "\n",
        "            aoi = {\"type\":\"FeatureCollection\",\"features\":[{\"type\":\"Feature\",\"properties\":{},\"geometry\":{\"type\":\"Polygon\",\"coordinates\":[[[82.134443,22.188232],[82.134443,22.224849],[82.222284,22.224849],[82.222284,22.188232],[82.134443,22.188232]]]}}]}\n",
        "            start_date =  \"2024-06-01\"\n",
        "            end_date = \"2024-05-08\"\n",
        "            # aoi_geo = geemap.geojson_to_ee(aoi)\n",
        "            aoi_geo = geemap.geojson_to_ee(aoi).geometry()  # Convert to Geometry\n",
        "\n",
        "            s2_collection = ee.ImageCollection('COPERNICUS/S2_SR_HARMONIZED') \\\n",
        "                .filterBounds(aoi_geo) \\\n",
        "                .filter(ee.Filter.lt('CLOUDY_PIXEL_PERCENTAGE', 20))\n",
        "\n",
        "            # Get the closest images\n",
        "            # start_date = ee.Date('2024-09-01')  # Replace with your start date\n",
        "            # end_date = ee.Date('2024-09-28')  # Replace with your end date\n",
        "            images = get_closest_images(s2_collection, start_date, end_date)\n",
        "\n",
        "            # Access the images (these won't be None even if exact dates aren't available)\n",
        "            s2_start = images[0]\n",
        "            s2_end = images[1]\n",
        "\n",
        "            start_image_date = s2_start.date().format('YYYY-MM-dd HH:mm:ss').getInfo()\n",
        "            end_image_date = s2_end.date().format('YYYY-MM-dd HH:mm:ss').getInfo()\n",
        "\n",
        "            # Cloud masking (example using a simple threshold)\n",
        "            cloudMask = s2_start.select('QA60').bitwiseAnd(1 << 4).eq(0)\n",
        "            s2_start = s2_start.updateMask(cloudMask)\n",
        "            s2_end = s2_end.updateMask(cloudMask)\n",
        "\n",
        "            # Normalization (example using min-max scaling)\n",
        "            minVal = ee.Number(0)\n",
        "            maxVal = ee.Number(10000)\n",
        "            s2_start = s2_start.divide(maxVal).subtract(minVal).multiply(255).uint8()\n",
        "            s2_end = s2_end.divide(maxVal).subtract(minVal).multiply(255).uint8()\n",
        "\n",
        "\n",
        "            # Calculate difference image\n",
        "            diff = s2_end.subtract(s2_start).abs() # abs() after the subtraction\n",
        "            # change_image = diff.reduce(ee.Reducer.sum()).rename('change')\n",
        "\n",
        "\n",
        "            # Apply threshold to identify significant changes\n",
        "            threshold = 0.6  # Adjust this value based on your needs\n",
        "            significant_changes = diff.gt(threshold)\n",
        "\n",
        "            # Print some information to check if significant_changes is empty\n",
        "            print('Significant changes count:', significant_changes.bandNames().size().getInfo())\n",
        "\n",
        "            # Visualization (example using a colormap)\n",
        "            colormap = ['000000', 'FF0000', '00FF00']  # Black, Red, Green\n",
        "            change_image = diff.updateMask(significant_changes).visualize({\n",
        "                'min': -threshold,\n",
        "                'max': threshold,\n",
        "                'palette': colormap\n",
        "            })\n",
        "            # Convert changes to vectors\n",
        "            vectors = significant_changes.reduceToVectors(\n",
        "                geometry=aoi_geo,\n",
        "                scale=10,\n",
        "                geometryType='polygon',\n",
        "                maxPixels=1e9,\n",
        "                eightConnected=False\n",
        "            )\n",
        "\n",
        "            # Prepare outputs\n",
        "            start_image_url = s2_start.getThumbURL({\n",
        "                'min': 0,\n",
        "                'max': 3000,\n",
        "                'dimensions': 1024,\n",
        "                'region': aoi_geo,\n",
        "                'bands': ['B4', 'B3', 'B2']\n",
        "            })\n",
        "\n",
        "            end_image_url = s2_end.getThumbURL({\n",
        "                'min': 0,\n",
        "                'max': 3000,\n",
        "                'dimensions': 1024,\n",
        "                'region': aoi_geo,\n",
        "                'bands': ['B4', 'B3', 'B2']\n",
        "            })\n",
        "\n",
        "            change_image_url = significant_changes.getThumbURL({\n",
        "                'min': 0,\n",
        "                'max': 1,\n",
        "                'dimensions': 1024,\n",
        "                'region': aoi_geo,\n",
        "                'palette': ['black', 'white']\n",
        "            })\n",
        "\n",
        "            # Get GeoJSON of changes\n",
        "            geojson = geemap.ee_to_geojson(vectors)\n",
        "\n",
        "            # Prepare the response\n",
        "            response = {\n",
        "                'start_image': start_image_url,\n",
        "                'end_image': end_image_url,\n",
        "                'change_image': change_image_url,\n",
        "                'changes_geojson': geojson,\n",
        "                'start_date': start_image_date,\n",
        "                'end_date': end_image_date,\n",
        "                'bounds' : aoi_geo.bounds().getInfo(),\n",
        "                'are_images_available': start_image_date != end_image_date\n",
        "            }\n",
        "\n",
        "            return response\n",
        "ch4 = detect_changes4()\n",
        "\n",
        "\n"
      ],
      "cell_type": "code",
      "metadata": {
        "colab": {
          "base_uri": "https://localhost:8080/",
          "height": 477
        },
        "outputId": "0b8ec738-dfcb-47dc-c9b2-99bbb1992e03",
        "id": "yHzeTz8JzhE2"
      },
      "execution_count": 68,
      "outputs": [
        {
          "output_type": "display_data",
          "data": {
            "text/plain": [
              "<IPython.core.display.HTML object>"
            ],
            "text/html": [
              "\n",
              "            <style>\n",
              "                .geemap-dark {\n",
              "                    --jp-widgets-color: white;\n",
              "                    --jp-widgets-label-color: white;\n",
              "                    --jp-ui-font-color1: white;\n",
              "                    --jp-layout-color2: #454545;\n",
              "                    background-color: #383838;\n",
              "                }\n",
              "\n",
              "                .geemap-dark .jupyter-button {\n",
              "                    --jp-layout-color3: #383838;\n",
              "                }\n",
              "\n",
              "                .geemap-colab {\n",
              "                    background-color: var(--colab-primary-surface-color, white);\n",
              "                }\n",
              "\n",
              "                .geemap-colab .jupyter-button {\n",
              "                    --jp-layout-color3: var(--colab-primary-surface-color, white);\n",
              "                }\n",
              "            </style>\n",
              "            "
            ]
          },
          "metadata": {}
        },
        {
          "output_type": "stream",
          "name": "stdout",
          "text": [
            "Significant changes count: 26\n"
          ]
        },
        {
          "output_type": "error",
          "ename": "EEException",
          "evalue": "Image.visualize: Cannot provide a palette when visualizing more than one band.",
          "traceback": [
            "\u001b[0;31m---------------------------------------------------------------------------\u001b[0m",
            "\u001b[0;31mHttpError\u001b[0m                                 Traceback (most recent call last)",
            "\u001b[0;32m/usr/local/lib/python3.10/dist-packages/ee/data.py\u001b[0m in \u001b[0;36m_execute_cloud_call\u001b[0;34m(call, num_retries)\u001b[0m\n\u001b[1;32m    405\u001b[0m   \u001b[0;32mtry\u001b[0m\u001b[0;34m:\u001b[0m\u001b[0;34m\u001b[0m\u001b[0;34m\u001b[0m\u001b[0m\n\u001b[0;32m--> 406\u001b[0;31m     \u001b[0;32mreturn\u001b[0m \u001b[0mcall\u001b[0m\u001b[0;34m.\u001b[0m\u001b[0mexecute\u001b[0m\u001b[0;34m(\u001b[0m\u001b[0mnum_retries\u001b[0m\u001b[0;34m=\u001b[0m\u001b[0mnum_retries\u001b[0m\u001b[0;34m)\u001b[0m\u001b[0;34m\u001b[0m\u001b[0;34m\u001b[0m\u001b[0m\n\u001b[0m\u001b[1;32m    407\u001b[0m   \u001b[0;32mexcept\u001b[0m \u001b[0mgoogleapiclient\u001b[0m\u001b[0;34m.\u001b[0m\u001b[0merrors\u001b[0m\u001b[0;34m.\u001b[0m\u001b[0mHttpError\u001b[0m \u001b[0;32mas\u001b[0m \u001b[0me\u001b[0m\u001b[0;34m:\u001b[0m\u001b[0;34m\u001b[0m\u001b[0;34m\u001b[0m\u001b[0m\n",
            "\u001b[0;32m/usr/local/lib/python3.10/dist-packages/googleapiclient/_helpers.py\u001b[0m in \u001b[0;36mpositional_wrapper\u001b[0;34m(*args, **kwargs)\u001b[0m\n\u001b[1;32m    129\u001b[0m                     \u001b[0mlogger\u001b[0m\u001b[0;34m.\u001b[0m\u001b[0mwarning\u001b[0m\u001b[0;34m(\u001b[0m\u001b[0mmessage\u001b[0m\u001b[0;34m)\u001b[0m\u001b[0;34m\u001b[0m\u001b[0;34m\u001b[0m\u001b[0m\n\u001b[0;32m--> 130\u001b[0;31m             \u001b[0;32mreturn\u001b[0m \u001b[0mwrapped\u001b[0m\u001b[0;34m(\u001b[0m\u001b[0;34m*\u001b[0m\u001b[0margs\u001b[0m\u001b[0;34m,\u001b[0m \u001b[0;34m**\u001b[0m\u001b[0mkwargs\u001b[0m\u001b[0;34m)\u001b[0m\u001b[0;34m\u001b[0m\u001b[0;34m\u001b[0m\u001b[0m\n\u001b[0m\u001b[1;32m    131\u001b[0m \u001b[0;34m\u001b[0m\u001b[0m\n",
            "\u001b[0;32m/usr/local/lib/python3.10/dist-packages/googleapiclient/http.py\u001b[0m in \u001b[0;36mexecute\u001b[0;34m(self, http, num_retries)\u001b[0m\n\u001b[1;32m    937\u001b[0m         \u001b[0;32mif\u001b[0m \u001b[0mresp\u001b[0m\u001b[0;34m.\u001b[0m\u001b[0mstatus\u001b[0m \u001b[0;34m>=\u001b[0m \u001b[0;36m300\u001b[0m\u001b[0;34m:\u001b[0m\u001b[0;34m\u001b[0m\u001b[0;34m\u001b[0m\u001b[0m\n\u001b[0;32m--> 938\u001b[0;31m             \u001b[0;32mraise\u001b[0m \u001b[0mHttpError\u001b[0m\u001b[0;34m(\u001b[0m\u001b[0mresp\u001b[0m\u001b[0;34m,\u001b[0m \u001b[0mcontent\u001b[0m\u001b[0;34m,\u001b[0m \u001b[0muri\u001b[0m\u001b[0;34m=\u001b[0m\u001b[0mself\u001b[0m\u001b[0;34m.\u001b[0m\u001b[0muri\u001b[0m\u001b[0;34m)\u001b[0m\u001b[0;34m\u001b[0m\u001b[0;34m\u001b[0m\u001b[0m\n\u001b[0m\u001b[1;32m    939\u001b[0m         \u001b[0;32mreturn\u001b[0m \u001b[0mself\u001b[0m\u001b[0;34m.\u001b[0m\u001b[0mpostproc\u001b[0m\u001b[0;34m(\u001b[0m\u001b[0mresp\u001b[0m\u001b[0;34m,\u001b[0m \u001b[0mcontent\u001b[0m\u001b[0;34m)\u001b[0m\u001b[0;34m\u001b[0m\u001b[0;34m\u001b[0m\u001b[0m\n",
            "\u001b[0;31mHttpError\u001b[0m: <HttpError 400 when requesting https://earthengine.googleapis.com/v1/projects/earthengine-legacy/thumbnails?fields=name&alt=json returned \"Image.visualize: Cannot provide a palette when visualizing more than one band.\". Details: \"Image.visualize: Cannot provide a palette when visualizing more than one band.\">",
            "\nDuring handling of the above exception, another exception occurred:\n",
            "\u001b[0;31mEEException\u001b[0m                               Traceback (most recent call last)",
            "\u001b[0;32m<ipython-input-68-ae9297c33761>\u001b[0m in \u001b[0;36m<cell line: 110>\u001b[0;34m()\u001b[0m\n\u001b[1;32m    108\u001b[0m \u001b[0;34m\u001b[0m\u001b[0m\n\u001b[1;32m    109\u001b[0m             \u001b[0;32mreturn\u001b[0m \u001b[0mresponse\u001b[0m\u001b[0;34m\u001b[0m\u001b[0;34m\u001b[0m\u001b[0m\n\u001b[0;32m--> 110\u001b[0;31m \u001b[0mch4\u001b[0m \u001b[0;34m=\u001b[0m \u001b[0mdetect_changes4\u001b[0m\u001b[0;34m(\u001b[0m\u001b[0;34m)\u001b[0m\u001b[0;34m\u001b[0m\u001b[0;34m\u001b[0m\u001b[0m\n\u001b[0m\u001b[1;32m    111\u001b[0m \u001b[0;34m\u001b[0m\u001b[0m\n\u001b[1;32m    112\u001b[0m \u001b[0;34m\u001b[0m\u001b[0m\n",
            "\u001b[0;32m<ipython-input-68-ae9297c33761>\u001b[0m in \u001b[0;36mdetect_changes4\u001b[0;34m()\u001b[0m\n\u001b[1;32m     84\u001b[0m             })\n\u001b[1;32m     85\u001b[0m \u001b[0;34m\u001b[0m\u001b[0m\n\u001b[0;32m---> 86\u001b[0;31m             change_image_url = significant_changes.getThumbURL({\n\u001b[0m\u001b[1;32m     87\u001b[0m                 \u001b[0;34m'min'\u001b[0m\u001b[0;34m:\u001b[0m \u001b[0;36m0\u001b[0m\u001b[0;34m,\u001b[0m\u001b[0;34m\u001b[0m\u001b[0;34m\u001b[0m\u001b[0m\n\u001b[1;32m     88\u001b[0m                 \u001b[0;34m'max'\u001b[0m\u001b[0;34m:\u001b[0m \u001b[0;36m1\u001b[0m\u001b[0;34m,\u001b[0m\u001b[0;34m\u001b[0m\u001b[0;34m\u001b[0m\u001b[0m\n",
            "\u001b[0;32m/usr/local/lib/python3.10/dist-packages/ee/image.py\u001b[0m in \u001b[0;36mgetThumbURL\u001b[0;34m(self, params)\u001b[0m\n\u001b[1;32m    560\u001b[0m     \u001b[0;31m# If it isn't enabled, we have to be bug-for-bug compatible with current\u001b[0m\u001b[0;34m\u001b[0m\u001b[0;34m\u001b[0m\u001b[0m\n\u001b[1;32m    561\u001b[0m     \u001b[0;31m# behaviour.\u001b[0m\u001b[0;34m\u001b[0m\u001b[0;34m\u001b[0m\u001b[0m\n\u001b[0;32m--> 562\u001b[0;31m     \u001b[0;32mreturn\u001b[0m \u001b[0mdata\u001b[0m\u001b[0;34m.\u001b[0m\u001b[0mmakeThumbUrl\u001b[0m\u001b[0;34m(\u001b[0m\u001b[0mself\u001b[0m\u001b[0;34m.\u001b[0m\u001b[0mgetThumbId\u001b[0m\u001b[0;34m(\u001b[0m\u001b[0mparams\u001b[0m\u001b[0;34m)\u001b[0m\u001b[0;34m)\u001b[0m\u001b[0;34m\u001b[0m\u001b[0;34m\u001b[0m\u001b[0m\n\u001b[0m\u001b[1;32m    563\u001b[0m \u001b[0;34m\u001b[0m\u001b[0m\n\u001b[1;32m    564\u001b[0m   \u001b[0;31m# pylint: disable=g-bad-name\u001b[0m\u001b[0;34m\u001b[0m\u001b[0;34m\u001b[0m\u001b[0m\n",
            "\u001b[0;32m/usr/local/lib/python3.10/dist-packages/ee/image.py\u001b[0m in \u001b[0;36mgetThumbId\u001b[0;34m(self, params)\u001b[0m\n\u001b[1;32m    533\u001b[0m     \u001b[0mimage\u001b[0m\u001b[0;34m,\u001b[0m \u001b[0mparams\u001b[0m \u001b[0;34m=\u001b[0m \u001b[0mimage\u001b[0m\u001b[0;34m.\u001b[0m\u001b[0m_apply_visualization\u001b[0m\u001b[0;34m(\u001b[0m\u001b[0mparams\u001b[0m\u001b[0;34m)\u001b[0m\u001b[0;34m\u001b[0m\u001b[0;34m\u001b[0m\u001b[0m\n\u001b[1;32m    534\u001b[0m     \u001b[0mparams\u001b[0m\u001b[0;34m[\u001b[0m\u001b[0;34m'image'\u001b[0m\u001b[0;34m]\u001b[0m \u001b[0;34m=\u001b[0m \u001b[0mimage\u001b[0m\u001b[0;34m\u001b[0m\u001b[0;34m\u001b[0m\u001b[0m\n\u001b[0;32m--> 535\u001b[0;31m     \u001b[0;32mreturn\u001b[0m \u001b[0mdata\u001b[0m\u001b[0;34m.\u001b[0m\u001b[0mgetThumbId\u001b[0m\u001b[0;34m(\u001b[0m\u001b[0mparams\u001b[0m\u001b[0;34m)\u001b[0m\u001b[0;34m\u001b[0m\u001b[0;34m\u001b[0m\u001b[0m\n\u001b[0m\u001b[1;32m    536\u001b[0m \u001b[0;34m\u001b[0m\u001b[0m\n\u001b[1;32m    537\u001b[0m   \u001b[0;32mdef\u001b[0m \u001b[0mgetThumbURL\u001b[0m\u001b[0;34m(\u001b[0m\u001b[0mself\u001b[0m\u001b[0;34m,\u001b[0m \u001b[0mparams\u001b[0m\u001b[0;34m:\u001b[0m \u001b[0mOptional\u001b[0m\u001b[0;34m[\u001b[0m\u001b[0mDict\u001b[0m\u001b[0;34m[\u001b[0m\u001b[0mstr\u001b[0m\u001b[0;34m,\u001b[0m \u001b[0mAny\u001b[0m\u001b[0;34m]\u001b[0m\u001b[0;34m]\u001b[0m \u001b[0;34m=\u001b[0m \u001b[0;32mNone\u001b[0m\u001b[0;34m)\u001b[0m \u001b[0;34m->\u001b[0m \u001b[0mstr\u001b[0m\u001b[0;34m:\u001b[0m\u001b[0;34m\u001b[0m\u001b[0;34m\u001b[0m\u001b[0m\n",
            "\u001b[0;32m/usr/local/lib/python3.10/dist-packages/ee/data.py\u001b[0m in \u001b[0;36mgetThumbId\u001b[0;34m(params, thumbType)\u001b[0m\n\u001b[1;32m   1244\u001b[0m         \u001b[0mparams\u001b[0m\u001b[0;34m.\u001b[0m\u001b[0mget\u001b[0m\u001b[0;34m(\u001b[0m\u001b[0;34m'bands'\u001b[0m\u001b[0;34m)\u001b[0m\u001b[0;34m\u001b[0m\u001b[0;34m\u001b[0m\u001b[0m\n\u001b[1;32m   1245\u001b[0m     )\n\u001b[0;32m-> 1246\u001b[0;31m     result = _execute_cloud_call(\n\u001b[0m\u001b[1;32m   1247\u001b[0m         \u001b[0m_get_cloud_projects\u001b[0m\u001b[0;34m(\u001b[0m\u001b[0;34m)\u001b[0m\u001b[0;34m\u001b[0m\u001b[0;34m\u001b[0m\u001b[0m\n\u001b[1;32m   1248\u001b[0m         \u001b[0;34m.\u001b[0m\u001b[0mthumbnails\u001b[0m\u001b[0;34m(\u001b[0m\u001b[0;34m)\u001b[0m\u001b[0;34m\u001b[0m\u001b[0;34m\u001b[0m\u001b[0m\n",
            "\u001b[0;32m/usr/local/lib/python3.10/dist-packages/ee/data.py\u001b[0m in \u001b[0;36m_execute_cloud_call\u001b[0;34m(call, num_retries)\u001b[0m\n\u001b[1;32m    406\u001b[0m     \u001b[0;32mreturn\u001b[0m \u001b[0mcall\u001b[0m\u001b[0;34m.\u001b[0m\u001b[0mexecute\u001b[0m\u001b[0;34m(\u001b[0m\u001b[0mnum_retries\u001b[0m\u001b[0;34m=\u001b[0m\u001b[0mnum_retries\u001b[0m\u001b[0;34m)\u001b[0m\u001b[0;34m\u001b[0m\u001b[0;34m\u001b[0m\u001b[0m\n\u001b[1;32m    407\u001b[0m   \u001b[0;32mexcept\u001b[0m \u001b[0mgoogleapiclient\u001b[0m\u001b[0;34m.\u001b[0m\u001b[0merrors\u001b[0m\u001b[0;34m.\u001b[0m\u001b[0mHttpError\u001b[0m \u001b[0;32mas\u001b[0m \u001b[0me\u001b[0m\u001b[0;34m:\u001b[0m\u001b[0;34m\u001b[0m\u001b[0;34m\u001b[0m\u001b[0m\n\u001b[0;32m--> 408\u001b[0;31m     \u001b[0;32mraise\u001b[0m \u001b[0m_translate_cloud_exception\u001b[0m\u001b[0;34m(\u001b[0m\u001b[0me\u001b[0m\u001b[0;34m)\u001b[0m  \u001b[0;31m# pylint: disable=raise-missing-from\u001b[0m\u001b[0;34m\u001b[0m\u001b[0;34m\u001b[0m\u001b[0m\n\u001b[0m\u001b[1;32m    409\u001b[0m \u001b[0;34m\u001b[0m\u001b[0m\n\u001b[1;32m    410\u001b[0m \u001b[0;34m\u001b[0m\u001b[0m\n",
            "\u001b[0;31mEEException\u001b[0m: Image.visualize: Cannot provide a palette when visualizing more than one band."
          ]
        }
      ]
    },
    {
      "cell_type": "code",
      "source": [
        "print(ch4)\n",
        "\n",
        "geemap.show_image(ch4['start_image'])\n",
        "geemap.show_image(ch4['end_image'])\n",
        "geemap.show_image(ch4['change_image'])"
      ],
      "metadata": {
        "id": "a6M-F9F40iua"
      },
      "execution_count": null,
      "outputs": []
    }
  ],
  "metadata": {
    "kernelspec": {
      "display_name": "venv",
      "language": "python",
      "name": "python3"
    },
    "language_info": {
      "codemirror_mode": {
        "name": "ipython",
        "version": 3
      },
      "file_extension": ".py",
      "mimetype": "text/x-python",
      "name": "python",
      "nbconvert_exporter": "python",
      "pygments_lexer": "ipython3",
      "version": "3.12.6"
    },
    "colab": {
      "provenance": []
    },
    "widgets": {
      "application/vnd.jupyter.widget-state+json": {
        "afe32b17a79e4facbffa950f4371e612": {
          "model_module": "@jupyter-widgets/output",
          "model_name": "OutputModel",
          "model_module_version": "1.0.0",
          "state": {
            "_dom_classes": [],
            "_model_module": "@jupyter-widgets/output",
            "_model_module_version": "1.0.0",
            "_model_name": "OutputModel",
            "_view_count": null,
            "_view_module": "@jupyter-widgets/output",
            "_view_module_version": "1.0.0",
            "_view_name": "OutputView",
            "layout": "IPY_MODEL_e9e1614635c7493b9f1efdad01b6a1e4",
            "msg_id": "",
            "outputs": [
              {
                "output_type": "stream",
                "name": "stderr",
                "text": [
                  "Downloading...\n",
                  "From: https://earthengine.googleapis.com/v1/projects/earthengine-legacy/thumbnails/07f199a8b0e4a6536d9392a9a6c1ca92-a6f82397da65274b455d56a5976d5e39:getPixels\n",
                  "To: /content/07f199a8b0e4a6536d9392a9a6c1ca92-a6f82397da65274b455d56a5976d5e39:getPixels\n"
                ]
              },
              {
                "output_type": "stream",
                "name": "stderr",
                "text": [
                  "\r  0%|          | 0.00/209k [00:00<?, ?B/s]"
                ]
              },
              {
                "output_type": "stream",
                "name": "stderr",
                "text": [
                  "\r100%|██████████| 209k/209k [00:00<00:00, 2.62MB/s]"
                ]
              },
              {
                "output_type": "stream",
                "name": "stderr",
                "text": [
                  "\n"
                ]
              },
              {
                "output_type": "display_data",
                "data": {
                  "text/plain": "Image(value=b'\\xff\\xd8\\xff\\xe0\\x00\\x10JFIF\\x00\\x01\\x02\\x00\\x00\\x01\\x00\\x01\\x00\\x00\\xff\\xdb\\x00C\\x00\\x02\\x01\\x0…",
                  "application/vnd.jupyter.widget-view+json": {
                    "version_major": 2,
                    "version_minor": 0,
                    "model_id": "3e07e8e0b2484907941cae738159aa41"
                  }
                },
                "metadata": {
                  "application/vnd.jupyter.widget-view+json": {
                    "colab": {
                      "custom_widget_manager": {
                        "url": "https://ssl.gstatic.com/colaboratory-static/widgets/colab-cdn-widget-manager/2b70e893a8ba7c0f/manager.min.js"
                      }
                    }
                  }
                }
              }
            ]
          }
        },
        "e9e1614635c7493b9f1efdad01b6a1e4": {
          "model_module": "@jupyter-widgets/base",
          "model_name": "LayoutModel",
          "model_module_version": "1.2.0",
          "state": {
            "_model_module": "@jupyter-widgets/base",
            "_model_module_version": "1.2.0",
            "_model_name": "LayoutModel",
            "_view_count": null,
            "_view_module": "@jupyter-widgets/base",
            "_view_module_version": "1.2.0",
            "_view_name": "LayoutView",
            "align_content": null,
            "align_items": null,
            "align_self": null,
            "border": null,
            "bottom": null,
            "display": null,
            "flex": null,
            "flex_flow": null,
            "grid_area": null,
            "grid_auto_columns": null,
            "grid_auto_flow": null,
            "grid_auto_rows": null,
            "grid_column": null,
            "grid_gap": null,
            "grid_row": null,
            "grid_template_areas": null,
            "grid_template_columns": null,
            "grid_template_rows": null,
            "height": null,
            "justify_content": null,
            "justify_items": null,
            "left": null,
            "margin": null,
            "max_height": null,
            "max_width": null,
            "min_height": null,
            "min_width": null,
            "object_fit": null,
            "object_position": null,
            "order": null,
            "overflow": null,
            "overflow_x": null,
            "overflow_y": null,
            "padding": null,
            "right": null,
            "top": null,
            "visibility": null,
            "width": null
          }
        },
        "3e07e8e0b2484907941cae738159aa41": {
          "model_module": "@jupyter-widgets/controls",
          "model_name": "ImageModel",
          "model_module_version": "1.5.0",
          "state": {
            "_dom_classes": [],
            "_model_module": "@jupyter-widgets/controls",
            "_model_module_version": "1.5.0",
            "_model_name": "ImageModel",
            "_view_count": null,
            "_view_module": "@jupyter-widgets/controls",
            "_view_module_version": "1.5.0",
            "_view_name": "ImageView",
            "format": "png",
            "height": "",
            "layout": "IPY_MODEL_74791f6367284eb48b9590507fc69255",
            "width": ""
          }
        },
        "ebc76a3ada1a4a02a4c6b85ec335d14b": {
          "model_module": "@jupyter-widgets/base",
          "model_name": "LayoutModel",
          "model_module_version": "1.2.0",
          "state": {
            "_model_module": "@jupyter-widgets/base",
            "_model_module_version": "1.2.0",
            "_model_name": "LayoutModel",
            "_view_count": null,
            "_view_module": "@jupyter-widgets/base",
            "_view_module_version": "1.2.0",
            "_view_name": "LayoutView",
            "align_content": null,
            "align_items": null,
            "align_self": null,
            "border": null,
            "bottom": null,
            "display": null,
            "flex": null,
            "flex_flow": null,
            "grid_area": null,
            "grid_auto_columns": null,
            "grid_auto_flow": null,
            "grid_auto_rows": null,
            "grid_column": null,
            "grid_gap": null,
            "grid_row": null,
            "grid_template_areas": null,
            "grid_template_columns": null,
            "grid_template_rows": null,
            "height": null,
            "justify_content": null,
            "justify_items": null,
            "left": null,
            "margin": null,
            "max_height": null,
            "max_width": null,
            "min_height": null,
            "min_width": null,
            "object_fit": null,
            "object_position": null,
            "order": null,
            "overflow": null,
            "overflow_x": null,
            "overflow_y": null,
            "padding": null,
            "right": null,
            "top": null,
            "visibility": null,
            "width": null
          }
        },
        "dd9d01de747d4086a0f6c01b27618f3b": {
          "model_module": "@jupyter-widgets/output",
          "model_name": "OutputModel",
          "model_module_version": "1.0.0",
          "state": {
            "_dom_classes": [],
            "_model_module": "@jupyter-widgets/output",
            "_model_module_version": "1.0.0",
            "_model_name": "OutputModel",
            "_view_count": null,
            "_view_module": "@jupyter-widgets/output",
            "_view_module_version": "1.0.0",
            "_view_name": "OutputView",
            "layout": "IPY_MODEL_ebc76a3ada1a4a02a4c6b85ec335d14b",
            "msg_id": "",
            "outputs": [
              {
                "output_type": "stream",
                "name": "stderr",
                "text": [
                  "Downloading...\n",
                  "From: https://earthengine.googleapis.com/v1/projects/earthengine-legacy/thumbnails/3324de4b1a280bc321e66252f63b58bc-634c2448de0be1f23f9a13083a03ff39:getPixels\n",
                  "To: /content/3324de4b1a280bc321e66252f63b58bc-634c2448de0be1f23f9a13083a03ff39:getPixels\n"
                ]
              },
              {
                "output_type": "stream",
                "name": "stderr",
                "text": [
                  "\r  0%|          | 0.00/1.19M [00:00<?, ?B/s]"
                ]
              },
              {
                "output_type": "stream",
                "name": "stderr",
                "text": [
                  "\r 44%|████▍     | 524k/1.19M [00:00<00:00, 4.10MB/s]"
                ]
              },
              {
                "output_type": "stream",
                "name": "stderr",
                "text": [
                  "\r100%|██████████| 1.19M/1.19M [00:00<00:00, 7.27MB/s]"
                ]
              },
              {
                "output_type": "stream",
                "name": "stderr",
                "text": [
                  "\n"
                ]
              },
              {
                "output_type": "display_data",
                "data": {
                  "text/plain": "Image(value=b'\\x89PNG\\r\\n\\x1a\\n\\x00\\x00\\x00\\rIHDR\\x00\\x00\\x04\\x00\\x00\\x00\\x01\\xd1\\x08\\x06\\x00\\x00\\x00\\xf4G\\xcb…",
                  "application/vnd.jupyter.widget-view+json": {
                    "version_major": 2,
                    "version_minor": 0,
                    "model_id": "4bf344f91de84af3a9673262e70cafc4"
                  }
                },
                "metadata": {
                  "application/vnd.jupyter.widget-view+json": {
                    "colab": {
                      "custom_widget_manager": {
                        "url": "https://ssl.gstatic.com/colaboratory-static/widgets/colab-cdn-widget-manager/2b70e893a8ba7c0f/manager.min.js"
                      }
                    }
                  }
                }
              }
            ]
          }
        },
        "74791f6367284eb48b9590507fc69255": {
          "model_module": "@jupyter-widgets/base",
          "model_name": "LayoutModel",
          "model_module_version": "1.2.0",
          "state": {
            "_model_module": "@jupyter-widgets/base",
            "_model_module_version": "1.2.0",
            "_model_name": "LayoutModel",
            "_view_count": null,
            "_view_module": "@jupyter-widgets/base",
            "_view_module_version": "1.2.0",
            "_view_name": "LayoutView",
            "align_content": null,
            "align_items": null,
            "align_self": null,
            "border": null,
            "bottom": null,
            "display": null,
            "flex": null,
            "flex_flow": null,
            "grid_area": null,
            "grid_auto_columns": null,
            "grid_auto_flow": null,
            "grid_auto_rows": null,
            "grid_column": null,
            "grid_gap": null,
            "grid_row": null,
            "grid_template_areas": null,
            "grid_template_columns": null,
            "grid_template_rows": null,
            "height": null,
            "justify_content": null,
            "justify_items": null,
            "left": null,
            "margin": null,
            "max_height": null,
            "max_width": null,
            "min_height": null,
            "min_width": null,
            "object_fit": null,
            "object_position": null,
            "order": null,
            "overflow": null,
            "overflow_x": null,
            "overflow_y": null,
            "padding": null,
            "right": null,
            "top": null,
            "visibility": null,
            "width": null
          }
        },
        "4bf344f91de84af3a9673262e70cafc4": {
          "model_module": "@jupyter-widgets/controls",
          "model_name": "ImageModel",
          "model_module_version": "1.5.0",
          "state": {
            "_dom_classes": [],
            "_model_module": "@jupyter-widgets/controls",
            "_model_module_version": "1.5.0",
            "_model_name": "ImageModel",
            "_view_count": null,
            "_view_module": "@jupyter-widgets/controls",
            "_view_module_version": "1.5.0",
            "_view_name": "ImageView",
            "format": "png",
            "height": "",
            "layout": "IPY_MODEL_519555843b4a411eae9b546b1e4bd58a",
            "width": ""
          }
        },
        "be1c2fb37d9545bf9ac20c7b3b2fbf3e": {
          "model_module": "@jupyter-widgets/base",
          "model_name": "LayoutModel",
          "model_module_version": "1.2.0",
          "state": {
            "_model_module": "@jupyter-widgets/base",
            "_model_module_version": "1.2.0",
            "_model_name": "LayoutModel",
            "_view_count": null,
            "_view_module": "@jupyter-widgets/base",
            "_view_module_version": "1.2.0",
            "_view_name": "LayoutView",
            "align_content": null,
            "align_items": null,
            "align_self": null,
            "border": null,
            "bottom": null,
            "display": null,
            "flex": null,
            "flex_flow": null,
            "grid_area": null,
            "grid_auto_columns": null,
            "grid_auto_flow": null,
            "grid_auto_rows": null,
            "grid_column": null,
            "grid_gap": null,
            "grid_row": null,
            "grid_template_areas": null,
            "grid_template_columns": null,
            "grid_template_rows": null,
            "height": null,
            "justify_content": null,
            "justify_items": null,
            "left": null,
            "margin": null,
            "max_height": null,
            "max_width": null,
            "min_height": null,
            "min_width": null,
            "object_fit": null,
            "object_position": null,
            "order": null,
            "overflow": null,
            "overflow_x": null,
            "overflow_y": null,
            "padding": null,
            "right": null,
            "top": null,
            "visibility": null,
            "width": null
          }
        },
        "78d62348acb14fdfbf972dd8f43b2ef9": {
          "model_module": "@jupyter-widgets/output",
          "model_name": "OutputModel",
          "model_module_version": "1.0.0",
          "state": {
            "_dom_classes": [],
            "_model_module": "@jupyter-widgets/output",
            "_model_module_version": "1.0.0",
            "_model_name": "OutputModel",
            "_view_count": null,
            "_view_module": "@jupyter-widgets/output",
            "_view_module_version": "1.0.0",
            "_view_name": "OutputView",
            "layout": "IPY_MODEL_be1c2fb37d9545bf9ac20c7b3b2fbf3e",
            "msg_id": "",
            "outputs": [
              {
                "output_type": "stream",
                "name": "stderr",
                "text": [
                  "Downloading...\n",
                  "From: https://earthengine.googleapis.com/v1/projects/earthengine-legacy/thumbnails/3d414f9fcf8d91237ae24d5695053027-1e40cf7858750e4ca0b538d94821e06b:getPixels\n",
                  "To: /content/3d414f9fcf8d91237ae24d5695053027-1e40cf7858750e4ca0b538d94821e06b:getPixels\n"
                ]
              },
              {
                "output_type": "stream",
                "name": "stderr",
                "text": [
                  "\r  0%|          | 0.00/8.31k [00:00<?, ?B/s]"
                ]
              },
              {
                "output_type": "stream",
                "name": "stderr",
                "text": [
                  "\r100%|██████████| 8.31k/8.31k [00:00<00:00, 15.3MB/s]"
                ]
              },
              {
                "output_type": "stream",
                "name": "stderr",
                "text": [
                  "\n"
                ]
              },
              {
                "output_type": "display_data",
                "data": {
                  "text/plain": "Image(value=b'\\xff\\xd8\\xff\\xe0\\x00\\x10JFIF\\x00\\x01\\x02\\x00\\x00\\x01\\x00\\x01\\x00\\x00\\xff\\xdb\\x00C\\x00\\x02\\x01\\x0…",
                  "application/vnd.jupyter.widget-view+json": {
                    "version_major": 2,
                    "version_minor": 0,
                    "model_id": "d4faa4bda22047bab6ad1c724eee3f89"
                  }
                },
                "metadata": {
                  "application/vnd.jupyter.widget-view+json": {
                    "colab": {
                      "custom_widget_manager": {
                        "url": "https://ssl.gstatic.com/colaboratory-static/widgets/colab-cdn-widget-manager/2b70e893a8ba7c0f/manager.min.js"
                      }
                    }
                  }
                }
              }
            ]
          }
        },
        "519555843b4a411eae9b546b1e4bd58a": {
          "model_module": "@jupyter-widgets/base",
          "model_name": "LayoutModel",
          "model_module_version": "1.2.0",
          "state": {
            "_model_module": "@jupyter-widgets/base",
            "_model_module_version": "1.2.0",
            "_model_name": "LayoutModel",
            "_view_count": null,
            "_view_module": "@jupyter-widgets/base",
            "_view_module_version": "1.2.0",
            "_view_name": "LayoutView",
            "align_content": null,
            "align_items": null,
            "align_self": null,
            "border": null,
            "bottom": null,
            "display": null,
            "flex": null,
            "flex_flow": null,
            "grid_area": null,
            "grid_auto_columns": null,
            "grid_auto_flow": null,
            "grid_auto_rows": null,
            "grid_column": null,
            "grid_gap": null,
            "grid_row": null,
            "grid_template_areas": null,
            "grid_template_columns": null,
            "grid_template_rows": null,
            "height": null,
            "justify_content": null,
            "justify_items": null,
            "left": null,
            "margin": null,
            "max_height": null,
            "max_width": null,
            "min_height": null,
            "min_width": null,
            "object_fit": null,
            "object_position": null,
            "order": null,
            "overflow": null,
            "overflow_x": null,
            "overflow_y": null,
            "padding": null,
            "right": null,
            "top": null,
            "visibility": null,
            "width": null
          }
        },
        "d4faa4bda22047bab6ad1c724eee3f89": {
          "model_module": "@jupyter-widgets/controls",
          "model_name": "ImageModel",
          "model_module_version": "1.5.0",
          "state": {
            "_dom_classes": [],
            "_model_module": "@jupyter-widgets/controls",
            "_model_module_version": "1.5.0",
            "_model_name": "ImageModel",
            "_view_count": null,
            "_view_module": "@jupyter-widgets/controls",
            "_view_module_version": "1.5.0",
            "_view_name": "ImageView",
            "format": "png",
            "height": "",
            "layout": "IPY_MODEL_a3894a588e6a40cf98d0f9aa5fd2a066",
            "width": ""
          }
        },
        "a3894a588e6a40cf98d0f9aa5fd2a066": {
          "model_module": "@jupyter-widgets/base",
          "model_name": "LayoutModel",
          "model_module_version": "1.2.0",
          "state": {
            "_model_module": "@jupyter-widgets/base",
            "_model_module_version": "1.2.0",
            "_model_name": "LayoutModel",
            "_view_count": null,
            "_view_module": "@jupyter-widgets/base",
            "_view_module_version": "1.2.0",
            "_view_name": "LayoutView",
            "align_content": null,
            "align_items": null,
            "align_self": null,
            "border": null,
            "bottom": null,
            "display": null,
            "flex": null,
            "flex_flow": null,
            "grid_area": null,
            "grid_auto_columns": null,
            "grid_auto_flow": null,
            "grid_auto_rows": null,
            "grid_column": null,
            "grid_gap": null,
            "grid_row": null,
            "grid_template_areas": null,
            "grid_template_columns": null,
            "grid_template_rows": null,
            "height": null,
            "justify_content": null,
            "justify_items": null,
            "left": null,
            "margin": null,
            "max_height": null,
            "max_width": null,
            "min_height": null,
            "min_width": null,
            "object_fit": null,
            "object_position": null,
            "order": null,
            "overflow": null,
            "overflow_x": null,
            "overflow_y": null,
            "padding": null,
            "right": null,
            "top": null,
            "visibility": null,
            "width": null
          }
        }
      }
    }
  },
  "nbformat": 4,
  "nbformat_minor": 0
}